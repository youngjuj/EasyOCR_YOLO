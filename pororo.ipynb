{
 "cells": [
  {
   "cell_type": "code",
   "execution_count": 1,
   "metadata": {},
   "outputs": [
    {
     "name": "stdout",
     "output_type": "stream",
     "text": [
      "Defaulting to user installation because normal site-packages is not writeable\n",
      "Requirement already satisfied: pororo-ocr in /Users/heonyounglee/Library/Python/3.9/lib/python/site-packages (1.0.2)\n",
      "Requirement already satisfied: torch>=1.6.0 in /Users/heonyounglee/Library/Python/3.9/lib/python/site-packages (from pororo-ocr) (2.3.1)\n",
      "Requirement already satisfied: torchvision>=0.7.0 in /Users/heonyounglee/Library/Python/3.9/lib/python/site-packages (from pororo-ocr) (0.18.1)\n",
      "Requirement already satisfied: pillow>=4.1.1 in /Users/heonyounglee/Library/Python/3.9/lib/python/site-packages (from pororo-ocr) (10.3.0)\n",
      "Requirement already satisfied: wget in /Users/heonyounglee/Library/Python/3.9/lib/python/site-packages (from pororo-ocr) (3.2)\n",
      "Requirement already satisfied: opencv-python in /Users/heonyounglee/Library/Python/3.9/lib/python/site-packages (from pororo-ocr) (4.6.0.66)\n",
      "Requirement already satisfied: scikit-image in /Users/heonyounglee/Library/Python/3.9/lib/python/site-packages (from pororo-ocr) (0.22.0)\n",
      "Requirement already satisfied: filelock in /Users/heonyounglee/Library/Python/3.9/lib/python/site-packages (from torch>=1.6.0->pororo-ocr) (3.14.0)\n",
      "Requirement already satisfied: typing-extensions>=4.8.0 in /Users/heonyounglee/Library/Python/3.9/lib/python/site-packages (from torch>=1.6.0->pororo-ocr) (4.10.0)\n",
      "Requirement already satisfied: sympy in /Users/heonyounglee/Library/Python/3.9/lib/python/site-packages (from torch>=1.6.0->pororo-ocr) (1.12.1)\n",
      "Requirement already satisfied: networkx in /Users/heonyounglee/Library/Python/3.9/lib/python/site-packages (from torch>=1.6.0->pororo-ocr) (3.2.1)\n",
      "Requirement already satisfied: jinja2 in /Users/heonyounglee/Library/Python/3.9/lib/python/site-packages (from torch>=1.6.0->pororo-ocr) (3.1.4)\n",
      "Requirement already satisfied: fsspec in /Users/heonyounglee/Library/Python/3.9/lib/python/site-packages (from torch>=1.6.0->pororo-ocr) (2024.6.0)\n",
      "Requirement already satisfied: numpy in /Users/heonyounglee/Library/Python/3.9/lib/python/site-packages (from torchvision>=0.7.0->pororo-ocr) (1.26.4)\n",
      "Requirement already satisfied: scipy>=1.8 in /Users/heonyounglee/Library/Python/3.9/lib/python/site-packages (from scikit-image->pororo-ocr) (1.13.1)\n",
      "Requirement already satisfied: imageio>=2.27 in /Users/heonyounglee/Library/Python/3.9/lib/python/site-packages (from scikit-image->pororo-ocr) (2.34.1)\n",
      "Requirement already satisfied: tifffile>=2022.8.12 in /Users/heonyounglee/Library/Python/3.9/lib/python/site-packages (from scikit-image->pororo-ocr) (2024.5.22)\n",
      "Requirement already satisfied: packaging>=21 in /Users/heonyounglee/Library/Python/3.9/lib/python/site-packages (from scikit-image->pororo-ocr) (24.0)\n",
      "Requirement already satisfied: lazy_loader>=0.3 in /Users/heonyounglee/Library/Python/3.9/lib/python/site-packages (from scikit-image->pororo-ocr) (0.4)\n",
      "Requirement already satisfied: MarkupSafe>=2.0 in /Users/heonyounglee/Library/Python/3.9/lib/python/site-packages (from jinja2->torch>=1.6.0->pororo-ocr) (2.1.5)\n",
      "Requirement already satisfied: mpmath<1.4.0,>=1.1.0 in /Users/heonyounglee/Library/Python/3.9/lib/python/site-packages (from sympy->torch>=1.6.0->pororo-ocr) (1.3.0)\n"
     ]
    }
   ],
   "source": [
    "!pip install pororo-ocr"
   ]
  },
  {
   "cell_type": "code",
   "execution_count": null,
   "metadata": {},
   "outputs": [],
   "source": []
  },
  {
   "cell_type": "code",
   "execution_count": 2,
   "metadata": {},
   "outputs": [],
   "source": [
    "import prrocr"
   ]
  },
  {
   "cell_type": "code",
   "execution_count": 3,
   "metadata": {},
   "outputs": [
    {
     "ename": "ImportError",
     "evalue": "cannot import name 'model_urls' from 'torchvision.models.vgg' (/Users/heonyounglee/Library/Python/3.9/lib/python/site-packages/torchvision/models/vgg.py)",
     "output_type": "error",
     "traceback": [
      "\u001b[0;31m---------------------------------------------------------------------------\u001b[0m",
      "\u001b[0;31mImportError\u001b[0m                               Traceback (most recent call last)",
      "Cell \u001b[0;32mIn[3], line 1\u001b[0m\n\u001b[0;32m----> 1\u001b[0m ocr \u001b[38;5;241m=\u001b[39m \u001b[43mprrocr\u001b[49m\u001b[38;5;241;43m.\u001b[39;49m\u001b[43mocr\u001b[49m\u001b[43m(\u001b[49m\u001b[43mlang\u001b[49m\u001b[38;5;241;43m=\u001b[39;49m\u001b[38;5;124;43m'\u001b[39;49m\u001b[38;5;124;43mko\u001b[39;49m\u001b[38;5;124;43m'\u001b[39;49m\u001b[43m)\u001b[49m\n\u001b[1;32m      3\u001b[0m ocr(\u001b[38;5;124m'\u001b[39m\u001b[38;5;124m./ocr_test.jpeg\u001b[39m\u001b[38;5;124m'\u001b[39m)\n",
      "File \u001b[0;32m~/Library/Python/3.9/lib/python/site-packages/prrocr/prrocr.py:97\u001b[0m, in \u001b[0;36mPororoOCR.__init__\u001b[0;34m(self, lang, model)\u001b[0m\n\u001b[1;32m     94\u001b[0m device \u001b[38;5;241m=\u001b[39m torch\u001b[38;5;241m.\u001b[39mdevice(\u001b[38;5;124m\"\u001b[39m\u001b[38;5;124mcuda\u001b[39m\u001b[38;5;124m\"\u001b[39m \u001b[38;5;28;01mif\u001b[39;00m torch\u001b[38;5;241m.\u001b[39mcuda\u001b[38;5;241m.\u001b[39mis_available() \u001b[38;5;28;01melse\u001b[39;00m \u001b[38;5;124m\"\u001b[39m\u001b[38;5;124mcpu\u001b[39m\u001b[38;5;124m\"\u001b[39m)\n\u001b[1;32m     96\u001b[0m \u001b[38;5;66;03m# Instantiate task-specific pipeline module, if possible\u001b[39;00m\n\u001b[0;32m---> 97\u001b[0m \u001b[38;5;28mself\u001b[39m\u001b[38;5;241m.\u001b[39mmodel \u001b[38;5;241m=\u001b[39m \u001b[38;5;28;43mself\u001b[39;49m\u001b[38;5;241;43m.\u001b[39;49m\u001b[43mload\u001b[49m\u001b[43m(\u001b[49m\u001b[43mdevice\u001b[49m\u001b[43m)\u001b[49m\n",
      "File \u001b[0;32m~/Library/Python/3.9/lib/python/site-packages/prrocr/prrocr.py:129\u001b[0m, in \u001b[0;36mPororoOCR.load\u001b[0;34m(self, device)\u001b[0m\n\u001b[1;32m    118\u001b[0m \u001b[38;5;250m\u001b[39m\u001b[38;5;124;03m\"\"\"\u001b[39;00m\n\u001b[1;32m    119\u001b[0m \u001b[38;5;124;03mLoad user-selected task-specific model\u001b[39;00m\n\u001b[1;32m    120\u001b[0m \n\u001b[0;32m   (...)\u001b[0m\n\u001b[1;32m    126\u001b[0m \n\u001b[1;32m    127\u001b[0m \u001b[38;5;124;03m\"\"\"\u001b[39;00m\n\u001b[1;32m    128\u001b[0m \u001b[38;5;28;01mif\u001b[39;00m \u001b[38;5;28mself\u001b[39m\u001b[38;5;241m.\u001b[39mconfig\u001b[38;5;241m.\u001b[39mn_model \u001b[38;5;241m==\u001b[39m \u001b[38;5;124m\"\u001b[39m\u001b[38;5;124mbrainocr\u001b[39m\u001b[38;5;124m\"\u001b[39m:\n\u001b[0;32m--> 129\u001b[0m     \u001b[38;5;28;01mfrom\u001b[39;00m \u001b[38;5;21;01mprrocr\u001b[39;00m\u001b[38;5;21;01m.\u001b[39;00m\u001b[38;5;21;01mmodels\u001b[39;00m\u001b[38;5;21;01m.\u001b[39;00m\u001b[38;5;21;01mbrainOCR\u001b[39;00m \u001b[38;5;28;01mimport\u001b[39;00m brainocr\n\u001b[1;32m    131\u001b[0m     \u001b[38;5;28;01mif\u001b[39;00m \u001b[38;5;28mself\u001b[39m\u001b[38;5;241m.\u001b[39mconfig\u001b[38;5;241m.\u001b[39mlang \u001b[38;5;129;01mnot\u001b[39;00m \u001b[38;5;129;01min\u001b[39;00m \u001b[38;5;28mself\u001b[39m\u001b[38;5;241m.\u001b[39mget_available_langs():\n\u001b[1;32m    132\u001b[0m         \u001b[38;5;28;01mraise\u001b[39;00m \u001b[38;5;167;01mValueError\u001b[39;00m(\n\u001b[1;32m    133\u001b[0m             \u001b[38;5;124mf\u001b[39m\u001b[38;5;124m\"\u001b[39m\u001b[38;5;124mUnsupported Language : \u001b[39m\u001b[38;5;132;01m{\u001b[39;00m\u001b[38;5;28mself\u001b[39m\u001b[38;5;241m.\u001b[39mconfig\u001b[38;5;241m.\u001b[39mlang\u001b[38;5;132;01m}\u001b[39;00m\u001b[38;5;124m\"\u001b[39m,\n\u001b[1;32m    134\u001b[0m             \u001b[38;5;124m'\u001b[39m\u001b[38;5;124mSupport Languages : [\u001b[39m\u001b[38;5;124m\"\u001b[39m\u001b[38;5;124men\u001b[39m\u001b[38;5;124m\"\u001b[39m\u001b[38;5;124m, \u001b[39m\u001b[38;5;124m\"\u001b[39m\u001b[38;5;124mko\u001b[39m\u001b[38;5;124m\"\u001b[39m\u001b[38;5;124m]\u001b[39m\u001b[38;5;124m'\u001b[39m,\n\u001b[1;32m    135\u001b[0m         )\n",
      "File \u001b[0;32m~/Library/Python/3.9/lib/python/site-packages/prrocr/models/brainOCR/__init__.py:1\u001b[0m\n\u001b[0;32m----> 1\u001b[0m \u001b[38;5;28;01mfrom\u001b[39;00m \u001b[38;5;21;01m.\u001b[39;00m\u001b[38;5;21;01mbrainocr\u001b[39;00m \u001b[38;5;28;01mimport\u001b[39;00m Reader  \u001b[38;5;66;03m# noqa\u001b[39;00m\n",
      "File \u001b[0;32m~/Library/Python/3.9/lib/python/site-packages/prrocr/models/brainOCR/brainocr.py:19\u001b[0m\n\u001b[1;32m     16\u001b[0m \u001b[38;5;28;01mimport\u001b[39;00m \u001b[38;5;21;01mnumpy\u001b[39;00m \u001b[38;5;28;01mas\u001b[39;00m \u001b[38;5;21;01mnp\u001b[39;00m\n\u001b[1;32m     17\u001b[0m \u001b[38;5;28;01mfrom\u001b[39;00m \u001b[38;5;21;01mPIL\u001b[39;00m \u001b[38;5;28;01mimport\u001b[39;00m Image\n\u001b[0;32m---> 19\u001b[0m \u001b[38;5;28;01mfrom\u001b[39;00m \u001b[38;5;21;01m.\u001b[39;00m\u001b[38;5;21;01mdetection\u001b[39;00m \u001b[38;5;28;01mimport\u001b[39;00m get_detector, get_textbox\n\u001b[1;32m     20\u001b[0m \u001b[38;5;28;01mfrom\u001b[39;00m \u001b[38;5;21;01m.\u001b[39;00m\u001b[38;5;21;01mrecognition\u001b[39;00m \u001b[38;5;28;01mimport\u001b[39;00m get_recognizer, get_text\n\u001b[1;32m     21\u001b[0m \u001b[38;5;28;01mfrom\u001b[39;00m \u001b[38;5;21;01m.\u001b[39;00m\u001b[38;5;21;01mutils\u001b[39;00m \u001b[38;5;28;01mimport\u001b[39;00m (\n\u001b[1;32m     22\u001b[0m     diff,\n\u001b[1;32m     23\u001b[0m     get_image_list,\n\u001b[0;32m   (...)\u001b[0m\n\u001b[1;32m     26\u001b[0m     reformat_input,\n\u001b[1;32m     27\u001b[0m )\n",
      "File \u001b[0;32m~/Library/Python/3.9/lib/python/site-packages/prrocr/models/brainOCR/detection.py:13\u001b[0m\n\u001b[1;32m     10\u001b[0m \u001b[38;5;28;01mimport\u001b[39;00m \u001b[38;5;21;01mtorch\u001b[39;00m\u001b[38;5;21;01m.\u001b[39;00m\u001b[38;5;21;01mbackends\u001b[39;00m\u001b[38;5;21;01m.\u001b[39;00m\u001b[38;5;21;01mcudnn\u001b[39;00m \u001b[38;5;28;01mas\u001b[39;00m \u001b[38;5;21;01mcudnn\u001b[39;00m\n\u001b[1;32m     11\u001b[0m \u001b[38;5;28;01mfrom\u001b[39;00m \u001b[38;5;21;01mtorch\u001b[39;00m\u001b[38;5;21;01m.\u001b[39;00m\u001b[38;5;21;01mautograd\u001b[39;00m \u001b[38;5;28;01mimport\u001b[39;00m Variable\n\u001b[0;32m---> 13\u001b[0m \u001b[38;5;28;01mfrom\u001b[39;00m \u001b[38;5;21;01m.\u001b[39;00m\u001b[38;5;21;01mcraft\u001b[39;00m \u001b[38;5;28;01mimport\u001b[39;00m CRAFT\n\u001b[1;32m     14\u001b[0m \u001b[38;5;28;01mfrom\u001b[39;00m \u001b[38;5;21;01m.\u001b[39;00m\u001b[38;5;21;01mcraft_utils\u001b[39;00m \u001b[38;5;28;01mimport\u001b[39;00m adjust_result_coordinates, get_det_boxes\n\u001b[1;32m     15\u001b[0m \u001b[38;5;28;01mfrom\u001b[39;00m \u001b[38;5;21;01m.\u001b[39;00m\u001b[38;5;21;01mimgproc\u001b[39;00m \u001b[38;5;28;01mimport\u001b[39;00m normalize_mean_variance, resize_aspect_ratio\n",
      "File \u001b[0;32m~/Library/Python/3.9/lib/python/site-packages/prrocr/models/brainOCR/craft.py:12\u001b[0m\n\u001b[1;32m      9\u001b[0m \u001b[38;5;28;01mimport\u001b[39;00m \u001b[38;5;21;01mtorch\u001b[39;00m\u001b[38;5;21;01m.\u001b[39;00m\u001b[38;5;21;01mnn\u001b[39;00m\u001b[38;5;21;01m.\u001b[39;00m\u001b[38;5;21;01mfunctional\u001b[39;00m \u001b[38;5;28;01mas\u001b[39;00m \u001b[38;5;21;01mF\u001b[39;00m\n\u001b[1;32m     10\u001b[0m \u001b[38;5;28;01mfrom\u001b[39;00m \u001b[38;5;21;01mtorch\u001b[39;00m \u001b[38;5;28;01mimport\u001b[39;00m Tensor\n\u001b[0;32m---> 12\u001b[0m \u001b[38;5;28;01mfrom\u001b[39;00m \u001b[38;5;21;01m.\u001b[39;00m\u001b[38;5;21;01m_modules\u001b[39;00m \u001b[38;5;28;01mimport\u001b[39;00m Vgg16BN, init_weights\n\u001b[1;32m     15\u001b[0m \u001b[38;5;28;01mclass\u001b[39;00m \u001b[38;5;21;01mDoubleConv\u001b[39;00m(nn\u001b[38;5;241m.\u001b[39mModule):\n\u001b[1;32m     17\u001b[0m     \u001b[38;5;28;01mdef\u001b[39;00m \u001b[38;5;21m__init__\u001b[39m(\u001b[38;5;28mself\u001b[39m, in_ch: \u001b[38;5;28mint\u001b[39m, mid_ch: \u001b[38;5;28mint\u001b[39m, out_ch: \u001b[38;5;28mint\u001b[39m) \u001b[38;5;241m-\u001b[39m\u001b[38;5;241m>\u001b[39m \u001b[38;5;28;01mNone\u001b[39;00m:\n",
      "File \u001b[0;32m~/Library/Python/3.9/lib/python/site-packages/prrocr/models/brainOCR/_modules.py:9\u001b[0m\n\u001b[1;32m      7\u001b[0m \u001b[38;5;28;01mimport\u001b[39;00m \u001b[38;5;21;01mtorch\u001b[39;00m\u001b[38;5;21;01m.\u001b[39;00m\u001b[38;5;21;01mnn\u001b[39;00m\u001b[38;5;21;01m.\u001b[39;00m\u001b[38;5;21;01minit\u001b[39;00m \u001b[38;5;28;01mas\u001b[39;00m \u001b[38;5;21;01minit\u001b[39;00m\n\u001b[1;32m      8\u001b[0m \u001b[38;5;28;01mfrom\u001b[39;00m \u001b[38;5;21;01mtorchvision\u001b[39;00m \u001b[38;5;28;01mimport\u001b[39;00m models\n\u001b[0;32m----> 9\u001b[0m \u001b[38;5;28;01mfrom\u001b[39;00m \u001b[38;5;21;01mtorchvision\u001b[39;00m\u001b[38;5;21;01m.\u001b[39;00m\u001b[38;5;21;01mmodels\u001b[39;00m\u001b[38;5;21;01m.\u001b[39;00m\u001b[38;5;21;01mvgg\u001b[39;00m \u001b[38;5;28;01mimport\u001b[39;00m model_urls\n\u001b[1;32m     11\u001b[0m device \u001b[38;5;241m=\u001b[39m torch\u001b[38;5;241m.\u001b[39mdevice(\u001b[38;5;124m\"\u001b[39m\u001b[38;5;124mcuda\u001b[39m\u001b[38;5;124m\"\u001b[39m \u001b[38;5;28;01mif\u001b[39;00m torch\u001b[38;5;241m.\u001b[39mcuda\u001b[38;5;241m.\u001b[39mis_available() \u001b[38;5;28;01melse\u001b[39;00m \u001b[38;5;124m\"\u001b[39m\u001b[38;5;124mcpu\u001b[39m\u001b[38;5;124m\"\u001b[39m)\n\u001b[1;32m     14\u001b[0m \u001b[38;5;28;01mdef\u001b[39;00m \u001b[38;5;21minit_weights\u001b[39m(modules):\n",
      "\u001b[0;31mImportError\u001b[0m: cannot import name 'model_urls' from 'torchvision.models.vgg' (/Users/heonyounglee/Library/Python/3.9/lib/python/site-packages/torchvision/models/vgg.py)"
     ]
    }
   ],
   "source": [
    "ocr = prrocr.ocr(lang='ko')\n",
    "\n",
    "ocr('./ocr_test.jpeg')"
   ]
  }
 ],
 "metadata": {
  "kernelspec": {
   "display_name": "Python 3",
   "language": "python",
   "name": "python3"
  },
  "language_info": {
   "codemirror_mode": {
    "name": "ipython",
    "version": 3
   },
   "file_extension": ".py",
   "mimetype": "text/x-python",
   "name": "python",
   "nbconvert_exporter": "python",
   "pygments_lexer": "ipython3",
   "version": "3.9.6"
  }
 },
 "nbformat": 4,
 "nbformat_minor": 2
}
