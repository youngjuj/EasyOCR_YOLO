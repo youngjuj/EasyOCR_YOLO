{
 "cells": [
  {
   "cell_type": "code",
   "execution_count": null,
   "metadata": {},
   "outputs": [
    {
     "name": "stderr",
     "output_type": "stream",
     "text": [
      "/Users/heonyounglee/Desktop/ocr/.venv/lib/python3.9/site-packages/urllib3/__init__.py:35: NotOpenSSLWarning: urllib3 v2 only supports OpenSSL 1.1.1+, currently the 'ssl' module is compiled with 'LibreSSL 2.8.3'. See: https://github.com/urllib3/urllib3/issues/3020\n",
      "  warnings.warn(\n"
     ]
    }
   ],
   "source": [
    "import numpy as np\n",
    "import pandas as pd\n",
    "import urllib.request\n",
    "from ultralytics import YOLO\n",
    "import matplotlib.pyplot as plt\n",
    "from sklearn.preprocessing import LabelEncoder\n",
    "from sklearn.model_selection import train_test_split\n",
    "from tensorflow.keras.preprocessing.text import Tokenizer\n",
    "from tensorflow.keras.preprocessing.sequence import pad_sequences\n"
   ]
  },
  {
   "cell_type": "code",
   "execution_count": null,
   "metadata": {},
   "outputs": [],
   "source": [
    "vet_list = pd.read_csv('./fulldata_02_03_01_P_동물병원.csv', encoding='euc-kr').loc[:, ['영업상태명', '사업장명', '도로명전체주소']]\n",
    "vet_list = vet_list.loc[vet_list['영업상태명'] == '영업/정상']\n",
    "\n",
    "vet_list\n"
   ]
  },
  {
   "cell_type": "code",
   "execution_count": null,
   "metadata": {},
   "outputs": [],
   "source": [
    "vet_list[vet_list['도로명전체주소'].isnull()]"
   ]
  },
  {
   "cell_type": "code",
   "execution_count": 6,
   "metadata": {},
   "outputs": [
    {
     "data": {
      "text/plain": [
       "Index(['영업상태명', '사업장명', '도로명전체주소'], dtype='object')"
      ]
     },
     "execution_count": 6,
     "metadata": {},
     "output_type": "execute_result"
    }
   ],
   "source": [
    "vet_list.columns"
   ]
  },
  {
   "cell_type": "code",
   "execution_count": null,
   "metadata": {},
   "outputs": [],
   "source": [
    "# row 생략 없이 출력\n",
    "# pd.set_option('display.max_rows', None)\n",
    "vet_name_label = vet_list.loc[:, ['사업장명']]\n",
    "vet_name_label.rename(columns={'사업장명':'text'}, inplace=True)\n",
    "vet_name_label['category'] = 'vet_name'\n",
    "\n",
    "# vet_list_label.columns\n",
    "\n",
    "# vet_list_label = vet_list_label.iloc[:, 1:]\n",
    "vet_name_label"
   ]
  },
  {
   "cell_type": "code",
   "execution_count": null,
   "metadata": {},
   "outputs": [],
   "source": [
    "vet_addr_label = vet_list.loc[:, ['도로명전체주소']]\n",
    "vet_addr_label = vet_addr_label[vet_addr_label['도로명전체주소'].notnull()]\n",
    "vet_addr_label.rename(columns={'도로명전체주소':'text'}, inplace=True)\n",
    "vet_addr_label['category'] = 'vet_address'\n",
    "\n",
    "vet_addr_label"
   ]
  },
  {
   "cell_type": "code",
   "execution_count": null,
   "metadata": {},
   "outputs": [],
   "source": [
    "treat_list = pd.read_csv('./mySaeKku_hosp_fare_list_re - mySaeKku_hosp_fare_list_re.csv', encoding='utf-8')\n",
    "\n",
    "treat_list"
   ]
  },
  {
   "cell_type": "code",
   "execution_count": null,
   "metadata": {},
   "outputs": [],
   "source": [
    "treat_list_label = treat_list.loc[:, ['소분류']]\n",
    "treat_list_label.drop_duplicates()\n",
    "treat_list_label.rename(columns={'소분류':'text'}, inplace=True)\n",
    "treat_list_label['category'] = 'treat_name'\n",
    "\n",
    "treat_list_label"
   ]
  },
  {
   "cell_type": "code",
   "execution_count": 64,
   "metadata": {},
   "outputs": [
    {
     "data": {
      "text/plain": [
       "Index(['text', 'category'], dtype='object')"
      ]
     },
     "execution_count": 64,
     "metadata": {},
     "output_type": "execute_result"
    }
   ],
   "source": [
    "vet_list_label = pd.concat([vet_name_label, vet_addr_label, treat_list_label], ignore_index=True)\n",
    "\n",
    "vet_list_label.columns"
   ]
  },
  {
   "cell_type": "code",
   "execution_count": null,
   "metadata": {},
   "outputs": [],
   "source": [
    "vet_list_label.to_csv('./vet_list_label.csv', index=False)"
   ]
  },
  {
   "cell_type": "code",
   "execution_count": 15,
   "metadata": {},
   "outputs": [],
   "source": [
    "vet_list_label = pd.read_csv('./vet_list_label.csv', encoding='utf-8')"
   ]
  },
  {
   "cell_type": "code",
   "execution_count": null,
   "metadata": {},
   "outputs": [],
   "source": [
    "import easyocr\n",
    "import pandas as pd\n",
    "from gensim.models import FastText\n",
    "from sklearn.preprocessing import LabelEncoder\n",
    "import numpy as np\n",
    "\n",
    "# 1. 이미지에서 텍스트 추출 (EasyOCR 사용)\n",
    "def extract_text_from_image(image_path):\n",
    "    reader = easyocr.Reader(['en', 'ko'])  # 언어 설정 (여기서는 영어)\n",
    "    results = reader.readtext(image_path)\n",
    "    extracted_text = \" \".join([result[1] for result in results])\n",
    "    return extracted_text\n",
    "\n",
    "# 2. 텍스트 분류 모델 준비\n",
    "def prepare_classification_model():\n",
    "    # sentences = [[\"I\", \"love\", \"programming\"], [\"Python\", \"is\", \"great\"], [\"I\", \"have\", \"a\", \"dog\"]]\n",
    "    # labels = [\"hobby\", \"programming\", \"hobby\"]\n",
    "\n",
    "    # FastText 모델 학습\n",
    "    fasttext_model = FastText(sentences=vet_list_label['text'], vector_size=100, window=3, min_count=1)\n",
    "\n",
    "    # 라벨 인코딩\n",
    "    label_encoder = LabelEncoder()\n",
    "    label_encoder.fit(vet_list_label['category'])\n",
    "    label_mapping = {label: idx for idx, label in enumerate(label_encoder.classes_)}\n",
    "    \n",
    "    return fasttext_model, label_encoder, label_mapping\n",
    "\n",
    "def classify_text(text, model, encoder, label_mapping):\n",
    "    tokens = text.split()\n",
    "    vectors = [model.wv[token] for token in tokens if token in model.wv]\n",
    "\n",
    "    if not vectors:\n",
    "        return \"Unknown\"  # 텍스트가 모델의 단어 사전에 없을 때\n",
    "\n",
    "    vector_mean = np.mean(vectors, axis=0)\n",
    "\n",
    "    similarities = []\n",
    "    for label, idx in label_mapping.items():\n",
    "        # 라벨 벡터를 계산\n",
    "        label_tokens = label.split()\n",
    "        label_vectors = [model.wv[token] for token in label_tokens if token in model.wv]\n",
    "        \n",
    "        if not label_vectors:\n",
    "            similarities.append(-1)  # 라벨에 벡터가 없는 경우 유사도 낮게 설정\n",
    "            continue\n",
    "\n",
    "        label_vector_mean = np.mean(label_vectors, axis=0)\n",
    "        similarity = np.dot(vector_mean, label_vector_mean) / (np.linalg.norm(vector_mean) * np.linalg.norm(label_vector_mean))\n",
    "        similarities.append(similarity)\n",
    "\n",
    "    predicted_label_index = np.argmax(similarities)\n",
    "    predicted_label = [label for label, idx in label_mapping.items()][predicted_label_index]\n",
    "    return predicted_label\n",
    "\n",
    "# 3. 결과를 표로 저장\n",
    "def create_dataframe(text, category):\n",
    "    data = {'Extracted Text': [text], 'Category': [category]}\n",
    "    df = pd.DataFrame(data)\n",
    "    return df\n",
    "\n",
    "def save_to_csv(df, file_path):\n",
    "    df.to_csv(file_path, index=False)\n",
    "    print(f\"Results saved to {file_path}\")\n",
    "\n",
    "# 전체 실행\n",
    "def main(image_path, csv_file_path):\n",
    "    extracted_text = extract_text_from_image(image_path)\n",
    "    print(\"Extracted Text:\", extracted_text)\n",
    "    \n",
    "    fasttext_model, label_encoder, label_mapping = prepare_classification_model()\n",
    "    predicted_category = classify_text(extracted_text, fasttext_model, label_encoder, label_mapping)\n",
    "    print(\"Predicted Category:\", predicted_category)\n",
    "    \n",
    "    df = create_dataframe(extracted_text, predicted_category)\n",
    "    save_to_csv(df, csv_file_path)\n",
    "\n",
    "# 이미지 파일 경로 및 CSV 파일 경로\n",
    "image_path = '../img/2.jpg'\n",
    "csv_file_path = 'classified_text.csv'\n",
    "\n",
    "# 실행\n",
    "main(image_path, csv_file_path)\n"
   ]
  },
  {
   "cell_type": "code",
   "execution_count": null,
   "metadata": {},
   "outputs": [],
   "source": [
    "import easyocr\n",
    "import pandas as pd\n",
    "from gensim.models import FastText\n",
    "from sklearn.preprocessing import LabelEncoder\n",
    "import numpy as np\n",
    "\n",
    "# 1. 이미지에서 텍스트 추출 (EasyOCR 사용)\n",
    "def extract_text_from_image(image_path):\n",
    "    reader = easyocr.Reader(['en', 'ko'])  # 언어 설정 (여기서는 영어)\n",
    "    results = reader.readtext(image_path)\n",
    "    extracted_text = \" \".join([result[1] for result in results])\n",
    "    return extracted_text\n",
    "\n",
    "# 2. 텍스트 분류 모델 준비\n",
    "def prepare_classification_model():\n",
    "    # sentences = [[\"I\", \"love\", \"programming\"], [\"Python\", \"is\", \"great\"], [\"I\", \"have\", \"a\", \"dog\"]]\n",
    "    # labels = [\"hobby\", \"programming\", \"hobby\"]\n",
    "\n",
    "    # FastText 모델 학습\n",
    "    fasttext_model = FastText(sentences=vet_list_label['text'], vector_size=100, window=3, min_count=1)\n",
    "\n",
    "    # 라벨 인코딩\n",
    "    label_encoder = LabelEncoder()\n",
    "    label_encoder.fit(vet_list_label['category'])\n",
    "    label_mapping = {label: idx for idx, label in enumerate(label_encoder.classes_)}\n",
    "    \n",
    "    return fasttext_model, label_encoder, label_mapping\n",
    "\n",
    "def classify_text(text, model, encoder, label_mapping):\n",
    "    tokens = text.split()\n",
    "    vectors = [model.wv[token] for token in tokens if token in model.wv]\n",
    "\n",
    "    if not vectors:\n",
    "        return \"Unknown\"  # 텍스트가 모델의 단어 사전에 없을 때\n",
    "\n",
    "    vector_mean = np.mean(vectors, axis=0)\n",
    "\n",
    "    similarities = []\n",
    "    for label in encoder.classes_:\n",
    "        label_tokens = label  # 라벨을 문자열로 처리\n",
    "        label_vectors = [model.wv[token] for token in label_tokens if token in model.wv]\n",
    "\n",
    "        if not label_vectors:\n",
    "            similarities.append(-1)  # 라벨에 벡터가 없는 경우 유사도 낮게 설정\n",
    "            continue\n",
    "        \n",
    "        label_vector_mean = np.mean(label_vectors, axis=0)\n",
    "        similarity = np.dot(vector_mean, label_vector_mean) / (np.linalg.norm(vector_mean) * np.linalg.norm(label_vector_mean))\n",
    "        similarities.append(similarity)\n",
    "\n",
    "    predicted_label_index = np.argmax(similarities)\n",
    "    return encoder.classes_[predicted_label_index]  # 숫자가 아닌 텍스트로 반환\n",
    "\n",
    "# 3. 결과를 표로 저장\n",
    "def create_dataframe(text, category):\n",
    "    data = {'Extracted Text': [text], 'Category': [category]}\n",
    "    df = pd.DataFrame(data)\n",
    "    return df\n",
    "\n",
    "def save_to_csv(df, file_path):\n",
    "    df.to_csv(file_path, index=False)\n",
    "    print(f\"Results saved to {file_path}\")\n",
    "\n",
    "# 전체 실행\n",
    "def main(image_path, csv_file_path):\n",
    "    extracted_text = extract_text_from_image(image_path)\n",
    "    print(\"Extracted Text:\", extracted_text)\n",
    "    \n",
    "    fasttext_model, label_encoder, label_mapping = prepare_classification_model()\n",
    "    predicted_category = classify_text(extracted_text, fasttext_model, label_encoder, label_mapping)\n",
    "    print(\"Predicted Category:\", predicted_category)\n",
    "    \n",
    "    df = create_dataframe(extracted_text, predicted_category)\n",
    "    save_to_csv(df, csv_file_path)\n",
    "\n",
    "# 이미지 파일 경로 및 CSV 파일 경로\n",
    "image_path = '../img/2.jpg'\n",
    "csv_file_path = 'classified_text.csv'\n",
    "\n",
    "# 실행\n",
    "main(image_path, csv_file_path)\n"
   ]
  },
  {
   "cell_type": "code",
   "execution_count": 4,
   "metadata": {},
   "outputs": [],
   "source": [
    "# 라벨 인코딩\n",
    "label_encoder = LabelEncoder()\n",
    "vet_list_label['category'] = label_encoder.fit_transform(vet_list_label['category'])\n",
    "\n",
    "# 텍스트 토큰화\n",
    "tokenizer = Tokenizer()\n",
    "tokenizer.fit_on_texts(vet_list_label['text'])\n",
    "sequences = tokenizer.texts_to_sequences(vet_list_label['text'])\n",
    "\n",
    "# 시퀀스 패딩\n",
    "max_sequence_length = max(len(x) for x in sequences)\n",
    "data_padded = pad_sequences(sequences, maxlen=max_sequence_length)"
   ]
  },
  {
   "cell_type": "code",
   "execution_count": 5,
   "metadata": {},
   "outputs": [],
   "source": [
    "from gensim.models import FastText\n",
    "\n",
    "# FastText 모델 학습\n",
    "fasttext_model = FastText(sentences=[text.split() for text in vet_list_label['text']], vector_size=100, window=3, min_count=1)\n",
    "\n",
    "# 단어 임베딩 매트릭스 생성\n",
    "embedding_matrix = np.zeros((len(tokenizer.word_index) + 1, 100))\n",
    "for word, i in tokenizer.word_index.items():\n",
    "    embedding_matrix[i] = fasttext_model.wv[word]"
   ]
  },
  {
   "cell_type": "code",
   "execution_count": null,
   "metadata": {},
   "outputs": [],
   "source": [
    "from keras.models import Sequential\n",
    "from keras.layers import Embedding, LSTM, Dense\n",
    "\n",
    "# LSTM 모델 정의\n",
    "model = Sequential()\n",
    "model.add(Embedding(input_dim=len(tokenizer.word_index) + 1, output_dim=100, weights=[embedding_matrix], input_length=max_sequence_length, trainable=False))\n",
    "model.add(LSTM(units=128))\n",
    "model.add(Dense(units=3, activation='softmax'))  # 3개의 카테고리\n",
    "\n",
    "model.compile(optimizer='adam', loss='sparse_categorical_crossentropy', metrics=['accuracy'])\n",
    "\n",
    "# 모델 학습\n",
    "X = data_padded\n",
    "y = vet_list_label['category'].values\n",
    "model.fit(X, y, epochs=10, batch_size=2)"
   ]
  },
  {
   "cell_type": "code",
   "execution_count": null,
   "metadata": {},
   "outputs": [],
   "source": [
    "# 예측\n",
    "predictions = model.predict(X)\n",
    "predicted_categories = np.argmax(predictions, axis=1)\n",
    "\n",
    "# 결과 출력\n",
    "print(\"Original categories:\", y)\n",
    "print(\"Predicted categories:\", predicted_categories)"
   ]
  },
  {
   "cell_type": "code",
   "execution_count": null,
   "metadata": {},
   "outputs": [],
   "source": [
    "# 인코딩을 위한 단어 사이 공백 추가\n",
    "replace_str = ['가축', '병원', '동물', '메디컬', '센터', '의료', '고양이', '애견', '안과', '치과', '피부', '노령', '심장', '외과', '수술', '암', '관절', '파충류', '전문', '출장', '진료', '종합', '펫', '수의', '클리닉', '24시', '25시', '양·한방', '한방', '부설', '응급', '의원', '임상병리', '축산', '농협', '축협', '협동조합']\n",
    "\n",
    "for i in replace_str:\n",
    "    vet_list_label['사업장명'] = vet_list_label['사업장명'].str.replace(i, f' {i} ')\n",
    "\n",
    "vet_list_label['사업장명'] = vet_list_label['사업장명'].str.strip()\n",
    "vet_list_label\n"
   ]
  },
  {
   "cell_type": "code",
   "execution_count": 6,
   "metadata": {},
   "outputs": [
    {
     "data": {
      "text/plain": [
       "(5208, 5208)"
      ]
     },
     "execution_count": 6,
     "metadata": {},
     "output_type": "execute_result"
    }
   ],
   "source": [
    "X_data = vet_list_label['사업장명']\n",
    "y_data = vet_list_label['업종']\n",
    "\n",
    "len(X_data), len(y_data)"
   ]
  },
  {
   "cell_type": "code",
   "execution_count": 7,
   "metadata": {},
   "outputs": [
    {
     "data": {
      "text/plain": [
       "[[1, 2], [173, 1, 2], [1, 2], [1, 6, 3], [12, 3, 1, 2]]"
      ]
     },
     "execution_count": 7,
     "metadata": {},
     "output_type": "execute_result"
    }
   ],
   "source": [
    "X_train, X_test, y_train, y_test = train_test_split(X_data, y_data, test_size=0.2, random_state=0, stratify=y_data)\n",
    "\n",
    "tokenizer = Tokenizer(num_words = 2740 -2072 +1) # total_cnt, rare_cnt -> 2782, 2149\n",
    "tokenizer.fit_on_texts(X_train)\n",
    "X_train_encoded = tokenizer.texts_to_sequences(X_train)\n",
    "\n",
    "X_train_encoded[:5]"
   ]
  },
  {
   "cell_type": "code",
   "execution_count": null,
   "metadata": {},
   "outputs": [],
   "source": [
    "word_to_index = tokenizer.word_index\n",
    "\n",
    "word_to_index"
   ]
  },
  {
   "cell_type": "code",
   "execution_count": null,
   "metadata": {},
   "outputs": [],
   "source": [
    "threshold = 2\n",
    "total_cnt = len(word_to_index)\n",
    "rare_cnt = 0\n",
    "total_freq = 0\n",
    "rare_freq = 0\n",
    "\n",
    "for key, value in tokenizer.word_counts.items():\n",
    "    total_freq = total_freq + value\n",
    "\n",
    "    if(value < threshold):\n",
    "        rare_cnt += 1\n",
    "        rare_freq += 1\n",
    "\n",
    "print('등장 빈도가 %s번 이하인 희귀 단어의 수: %s'%(threshold - 1, rare_cnt))\n",
    "print(\"단어 집합(vocabulary)에서 희귀 단어의 비율:\", (rare_cnt / total_cnt)*100)\n",
    "print(\"전체 등장 빈도에서 희귀 단어 등장 빈도 비율:\", (rare_freq / total_freq)*100)"
   ]
  },
  {
   "cell_type": "code",
   "execution_count": 10,
   "metadata": {},
   "outputs": [
    {
     "data": {
      "text/plain": [
       "2741"
      ]
     },
     "execution_count": 10,
     "metadata": {},
     "output_type": "execute_result"
    }
   ],
   "source": [
    "vocab_size = len(word_to_index) + 1\n",
    "vocab_size"
   ]
  },
  {
   "cell_type": "code",
   "execution_count": null,
   "metadata": {},
   "outputs": [],
   "source": [
    "print('상호의 최대 길이 : %d' % max(len(sample) for sample in X_train_encoded))\n",
    "print('상호의 평균 길이 : %f' % (sum(map(len, X_train_encoded))/len(X_train_encoded)))\n",
    "plt.hist([len(sample) for sample in X_data], bins=50)\n",
    "plt.xlabel('length of samples')\n",
    "plt.ylabel('number of samples')\n",
    "plt.show()"
   ]
  },
  {
   "cell_type": "code",
   "execution_count": 12,
   "metadata": {},
   "outputs": [
    {
     "data": {
      "text/plain": [
       "(4166, 13)"
      ]
     },
     "execution_count": 12,
     "metadata": {},
     "output_type": "execute_result"
    }
   ],
   "source": [
    "max_len = 13\n",
    "X_train_padded = pad_sequences(X_train_encoded, maxlen=max_len)\n",
    "X_train_padded.shape"
   ]
  },
  {
   "cell_type": "code",
   "execution_count": null,
   "metadata": {},
   "outputs": [],
   "source": [
    "from tensorflow.keras.layers import SimpleRNN, Embedding, Dense\n",
    "from tensorflow.keras.models import Sequential\n",
    "\n",
    "embedding_dim = 32\n",
    "hidden_units = 32\n",
    "\n",
    "model = Sequential()\n",
    "model.add(Embedding(vocab_size, embedding_dim))\n",
    "model.add(SimpleRNN(hidden_units))\n",
    "model.add(Dense(1, activation='sigmoid'))\n",
    "\n",
    "model.compile(optimizer='rmsprop', loss='binary_crossentropy', metrics=['acc'])\n",
    "history = model.fit(X_train_padded, y_train, epochs=4, batch_size=64, validation_split=0.2)"
   ]
  },
  {
   "cell_type": "code",
   "execution_count": null,
   "metadata": {},
   "outputs": [],
   "source": [
    "X_test_encoded = tokenizer.texts_to_sequences(X_test)\n",
    "X_test_padded = pad_sequences(X_test_encoded, maxlen = max_len)\n",
    "print(\"\\n 테스트 정확도: %.4f\" % (model.evaluate(X_test_padded, y_test)[1]))\n"
   ]
  },
  {
   "cell_type": "code",
   "execution_count": null,
   "metadata": {},
   "outputs": [],
   "source": [
    "input_encoded = tokenizer.texts_to_sequences('행복 24시 동물 병원')\n",
    "input_padded = pad_sequences(input_encoded, maxlen=max_len)\n",
    "\n",
    "model.predict(input_padded)"
   ]
  },
  {
   "cell_type": "code",
   "execution_count": null,
   "metadata": {},
   "outputs": [],
   "source": [
    "epochs = range(1, len(history.history['acc']) + 1)\n",
    "plt.plot(epochs, history.history['loss'])\n",
    "plt.plot(epochs, history.history['val_loss'])\n",
    "plt.title('model loss')\n",
    "plt.ylabel('loss')\n",
    "plt.xlabel('epoch')\n",
    "plt.legend(['train', 'val'], loc='upper left')\n",
    "plt.show()"
   ]
  },
  {
   "cell_type": "code",
   "execution_count": null,
   "metadata": {},
   "outputs": [
    {
     "name": "stderr",
     "output_type": "stream",
     "text": [
      "WARNING:absl:You are saving your model as an HDF5 file via `model.save()` or `keras.saving.save_model(model)`. This file format is considered legacy. We recommend using instead the native Keras format, e.g. `model.save('my_model.keras')` or `keras.saving.save_model(model, 'my_model.keras')`. \n"
     ]
    }
   ],
   "source": [
    "# 모델저장\n",
    "from keras.models import load_model\n",
    "\n",
    "model.save('rnn_model_240702.h5')"
   ]
  },
  {
   "cell_type": "code",
   "execution_count": 13,
   "metadata": {},
   "outputs": [
    {
     "name": "stdout",
     "output_type": "stream",
     "text": [
      "New https://pypi.org/project/ultralytics/8.2.62 available 😃 Update with 'pip install -U ultralytics'\n",
      "Ultralytics YOLOv8.2.48 🚀 Python-3.9.6 torch-2.3.1 CPU (Apple M2)\n",
      "\u001b[34m\u001b[1mengine/trainer: \u001b[0mtask=segment, mode=train, model=../runs/segment/train7/weights/best.pt, data=./receipts segmentation_240710.v7i.yolov8/data.yaml, epochs=100, time=None, patience=100, batch=16, imgsz=640, save=True, save_period=-1, cache=False, device=None, workers=8, project=None, name=train10, exist_ok=False, pretrained=True, optimizer=auto, verbose=True, seed=0, deterministic=True, single_cls=False, rect=False, cos_lr=False, close_mosaic=10, resume=False, amp=True, fraction=1.0, profile=False, freeze=None, multi_scale=False, overlap_mask=True, mask_ratio=4, dropout=0.0, val=True, split=val, save_json=False, save_hybrid=False, conf=None, iou=0.7, max_det=300, half=False, dnn=False, plots=True, source=None, vid_stride=1, stream_buffer=False, visualize=False, augment=False, agnostic_nms=False, classes=None, retina_masks=False, embed=None, show=False, save_frames=False, save_txt=False, save_conf=False, save_crop=False, show_labels=True, show_conf=True, show_boxes=True, line_width=None, format=torchscript, keras=False, optimize=False, int8=False, dynamic=False, simplify=False, opset=None, workspace=4, nms=False, lr0=0.01, lrf=0.01, momentum=0.937, weight_decay=0.0005, warmup_epochs=3.0, warmup_momentum=0.8, warmup_bias_lr=0.1, box=7.5, cls=0.5, dfl=1.5, pose=12.0, kobj=1.0, label_smoothing=0.0, nbs=64, hsv_h=0.015, hsv_s=0.7, hsv_v=0.4, degrees=0.0, translate=0.1, scale=0.5, shear=0.0, perspective=0.0, flipud=0.0, fliplr=0.5, bgr=0.0, mosaic=1.0, mixup=0.0, copy_paste=0.0, auto_augment=randaugment, erasing=0.4, crop_fraction=1.0, cfg=None, tracker=botsort.yaml, save_dir=/Users/heonyounglee/Desktop/ocr/runs/segment/train10\n",
      "\n",
      "                   from  n    params  module                                       arguments                     \n",
      "  0                  -1  1       464  ultralytics.nn.modules.conv.Conv             [3, 16, 3, 2]                 \n",
      "  1                  -1  1      4672  ultralytics.nn.modules.conv.Conv             [16, 32, 3, 2]                \n",
      "  2                  -1  1      7360  ultralytics.nn.modules.block.C2f             [32, 32, 1, True]             \n",
      "  3                  -1  1     18560  ultralytics.nn.modules.conv.Conv             [32, 64, 3, 2]                \n",
      "  4                  -1  2     49664  ultralytics.nn.modules.block.C2f             [64, 64, 2, True]             \n",
      "  5                  -1  1     73984  ultralytics.nn.modules.conv.Conv             [64, 128, 3, 2]               \n",
      "  6                  -1  2    197632  ultralytics.nn.modules.block.C2f             [128, 128, 2, True]           \n",
      "  7                  -1  1    295424  ultralytics.nn.modules.conv.Conv             [128, 256, 3, 2]              \n",
      "  8                  -1  1    460288  ultralytics.nn.modules.block.C2f             [256, 256, 1, True]           \n",
      "  9                  -1  1    164608  ultralytics.nn.modules.block.SPPF            [256, 256, 5]                 \n",
      " 10                  -1  1         0  torch.nn.modules.upsampling.Upsample         [None, 2, 'nearest']          \n",
      " 11             [-1, 6]  1         0  ultralytics.nn.modules.conv.Concat           [1]                           \n",
      " 12                  -1  1    148224  ultralytics.nn.modules.block.C2f             [384, 128, 1]                 \n",
      " 13                  -1  1         0  torch.nn.modules.upsampling.Upsample         [None, 2, 'nearest']          \n",
      " 14             [-1, 4]  1         0  ultralytics.nn.modules.conv.Concat           [1]                           \n",
      " 15                  -1  1     37248  ultralytics.nn.modules.block.C2f             [192, 64, 1]                  \n",
      " 16                  -1  1     36992  ultralytics.nn.modules.conv.Conv             [64, 64, 3, 2]                \n",
      " 17            [-1, 12]  1         0  ultralytics.nn.modules.conv.Concat           [1]                           \n",
      " 18                  -1  1    123648  ultralytics.nn.modules.block.C2f             [192, 128, 1]                 \n",
      " 19                  -1  1    147712  ultralytics.nn.modules.conv.Conv             [128, 128, 3, 2]              \n",
      " 20             [-1, 9]  1         0  ultralytics.nn.modules.conv.Concat           [1]                           \n",
      " 21                  -1  1    493056  ultralytics.nn.modules.block.C2f             [384, 256, 1]                 \n",
      " 22        [15, 18, 21]  1   1004470  ultralytics.nn.modules.head.Segment          [2, 32, 64, [64, 128, 256]]   \n",
      "YOLOv8n-seg summary: 261 layers, 3264006 parameters, 3263990 gradients, 12.1 GFLOPs\n",
      "\n",
      "Transferred 417/417 items from pretrained weights\n",
      "\u001b[34m\u001b[1mTensorBoard: \u001b[0mStart with 'tensorboard --logdir /Users/heonyounglee/Desktop/ocr/runs/segment/train10', view at http://localhost:6006/\n",
      "Freezing layer 'model.22.dfl.conv.weight'\n"
     ]
    },
    {
     "name": "stderr",
     "output_type": "stream",
     "text": [
      "\u001b[34m\u001b[1mtrain: \u001b[0mScanning /Users/heonyounglee/Desktop/ocr/segmentation/receipts segmentation_240710.v7i.yolov8/train/labels... 9 images, 0 backgrounds, 0 corrupt: 100%|██████████| 9/9 [00:00<00:00, 259.93it/s]"
     ]
    },
    {
     "name": "stdout",
     "output_type": "stream",
     "text": [
      "\u001b[34m\u001b[1mtrain: \u001b[0mNew cache created: /Users/heonyounglee/Desktop/ocr/segmentation/receipts segmentation_240710.v7i.yolov8/train/labels.cache\n"
     ]
    },
    {
     "name": "stderr",
     "output_type": "stream",
     "text": [
      "\n",
      "\u001b[34m\u001b[1mval: \u001b[0mScanning /Users/heonyounglee/Desktop/ocr/segmentation/receipts segmentation_240710.v7i.yolov8/valid/labels... 2 images, 0 backgrounds, 0 corrupt: 100%|██████████| 2/2 [00:00<00:00, 1845.27it/s]"
     ]
    },
    {
     "name": "stdout",
     "output_type": "stream",
     "text": [
      "\u001b[34m\u001b[1mval: \u001b[0mNew cache created: /Users/heonyounglee/Desktop/ocr/segmentation/receipts segmentation_240710.v7i.yolov8/valid/labels.cache\n",
      "Plotting labels to /Users/heonyounglee/Desktop/ocr/runs/segment/train10/labels.jpg... \n"
     ]
    },
    {
     "name": "stderr",
     "output_type": "stream",
     "text": [
      "\n"
     ]
    },
    {
     "name": "stdout",
     "output_type": "stream",
     "text": [
      "\u001b[34m\u001b[1moptimizer:\u001b[0m 'optimizer=auto' found, ignoring 'lr0=0.01' and 'momentum=0.937' and determining best 'optimizer', 'lr0' and 'momentum' automatically... \n",
      "\u001b[34m\u001b[1moptimizer:\u001b[0m AdamW(lr=0.001667, momentum=0.9) with parameter groups 66 weight(decay=0.0), 77 weight(decay=0.0005), 76 bias(decay=0.0)\n",
      "\u001b[34m\u001b[1mTensorBoard: \u001b[0mmodel graph visualization added ✅\n",
      "Image sizes 640 train, 640 val\n",
      "Using 0 dataloader workers\n",
      "Logging results to \u001b[1m/Users/heonyounglee/Desktop/ocr/runs/segment/train10\u001b[0m\n",
      "Starting training for 100 epochs...\n",
      "\n",
      "      Epoch    GPU_mem   box_loss   seg_loss   cls_loss   dfl_loss  Instances       Size\n"
     ]
    },
    {
     "name": "stderr",
     "output_type": "stream",
     "text": [
      "      1/100         0G      1.355      0.728      1.616      1.252         54        640: 100%|██████████| 1/1 [00:05<00:00,  5.07s/it]\n",
      "                 Class     Images  Instances      Box(P          R      mAP50  mAP50-95)     Mask(P          R      mAP50  mAP50-95): 100%|██████████| 1/1 [00:00<00:00,  2.55it/s]"
     ]
    },
    {
     "name": "stdout",
     "output_type": "stream",
     "text": [
      "                   all          2          6      0.949          1      0.995      0.786      0.949          1      0.995      0.622\n"
     ]
    },
    {
     "name": "stderr",
     "output_type": "stream",
     "text": [
      "\n"
     ]
    },
    {
     "name": "stdout",
     "output_type": "stream",
     "text": [
      "\n",
      "      Epoch    GPU_mem   box_loss   seg_loss   cls_loss   dfl_loss  Instances       Size\n"
     ]
    },
    {
     "name": "stderr",
     "output_type": "stream",
     "text": [
      "      2/100         0G      1.678       1.14      2.334      1.527         64        640: 100%|██████████| 1/1 [00:04<00:00,  4.57s/it]\n",
      "                 Class     Images  Instances      Box(P          R      mAP50  mAP50-95)     Mask(P          R      mAP50  mAP50-95): 100%|██████████| 1/1 [00:00<00:00,  2.56it/s]"
     ]
    },
    {
     "name": "stdout",
     "output_type": "stream",
     "text": [
      "                   all          2          6      0.956          1      0.995      0.786      0.956          1      0.995      0.616\n"
     ]
    },
    {
     "name": "stderr",
     "output_type": "stream",
     "text": [
      "\n"
     ]
    },
    {
     "name": "stdout",
     "output_type": "stream",
     "text": [
      "\n",
      "      Epoch    GPU_mem   box_loss   seg_loss   cls_loss   dfl_loss  Instances       Size\n"
     ]
    },
    {
     "name": "stderr",
     "output_type": "stream",
     "text": [
      "      3/100         0G      1.426     0.6512      1.823      1.421         70        640: 100%|██████████| 1/1 [00:04<00:00,  4.76s/it]\n",
      "                 Class     Images  Instances      Box(P          R      mAP50  mAP50-95)     Mask(P          R      mAP50  mAP50-95): 100%|██████████| 1/1 [00:00<00:00,  2.56it/s]"
     ]
    },
    {
     "name": "stdout",
     "output_type": "stream",
     "text": [
      "                   all          2          6      0.963          1      0.995      0.786      0.963          1      0.995      0.609\n"
     ]
    },
    {
     "name": "stderr",
     "output_type": "stream",
     "text": [
      "\n"
     ]
    },
    {
     "name": "stdout",
     "output_type": "stream",
     "text": [
      "\n",
      "      Epoch    GPU_mem   box_loss   seg_loss   cls_loss   dfl_loss  Instances       Size\n"
     ]
    },
    {
     "name": "stderr",
     "output_type": "stream",
     "text": [
      "      4/100         0G      1.482     0.9544       1.66      1.553         63        640: 100%|██████████| 1/1 [00:04<00:00,  4.47s/it]\n",
      "                 Class     Images  Instances      Box(P          R      mAP50  mAP50-95)     Mask(P          R      mAP50  mAP50-95): 100%|██████████| 1/1 [00:00<00:00,  3.06it/s]"
     ]
    },
    {
     "name": "stdout",
     "output_type": "stream",
     "text": [
      "                   all          2          6      0.969          1      0.995      0.782      0.969          1      0.995      0.649\n"
     ]
    },
    {
     "name": "stderr",
     "output_type": "stream",
     "text": [
      "\n"
     ]
    },
    {
     "name": "stdout",
     "output_type": "stream",
     "text": [
      "\n",
      "      Epoch    GPU_mem   box_loss   seg_loss   cls_loss   dfl_loss  Instances       Size\n"
     ]
    },
    {
     "name": "stderr",
     "output_type": "stream",
     "text": [
      "      5/100         0G      1.552     0.6293       1.64      1.391         72        640: 100%|██████████| 1/1 [00:04<00:00,  4.41s/it]\n",
      "                 Class     Images  Instances      Box(P          R      mAP50  mAP50-95)     Mask(P          R      mAP50  mAP50-95): 100%|██████████| 1/1 [00:00<00:00,  2.80it/s]"
     ]
    },
    {
     "name": "stdout",
     "output_type": "stream",
     "text": [
      "                   all          2          6      0.972          1      0.995      0.792      0.972          1      0.995      0.657\n"
     ]
    },
    {
     "name": "stderr",
     "output_type": "stream",
     "text": [
      "\n"
     ]
    },
    {
     "name": "stdout",
     "output_type": "stream",
     "text": [
      "\n",
      "      Epoch    GPU_mem   box_loss   seg_loss   cls_loss   dfl_loss  Instances       Size\n"
     ]
    },
    {
     "name": "stderr",
     "output_type": "stream",
     "text": [
      "      6/100         0G      1.342     0.7535      1.131      1.406         52        640: 100%|██████████| 1/1 [00:04<00:00,  4.44s/it]\n",
      "                 Class     Images  Instances      Box(P          R      mAP50  mAP50-95)     Mask(P          R      mAP50  mAP50-95): 100%|██████████| 1/1 [00:00<00:00,  2.82it/s]"
     ]
    },
    {
     "name": "stdout",
     "output_type": "stream",
     "text": [
      "                   all          2          6      0.974          1      0.995      0.757      0.974          1      0.995      0.663\n"
     ]
    },
    {
     "name": "stderr",
     "output_type": "stream",
     "text": [
      "\n"
     ]
    },
    {
     "name": "stdout",
     "output_type": "stream",
     "text": [
      "\n",
      "      Epoch    GPU_mem   box_loss   seg_loss   cls_loss   dfl_loss  Instances       Size\n"
     ]
    },
    {
     "name": "stderr",
     "output_type": "stream",
     "text": [
      "      7/100         0G      1.384     0.7144      1.237      1.429         54        640: 100%|██████████| 1/1 [00:04<00:00,  4.46s/it]\n",
      "                 Class     Images  Instances      Box(P          R      mAP50  mAP50-95)     Mask(P          R      mAP50  mAP50-95): 100%|██████████| 1/1 [00:00<00:00,  2.98it/s]"
     ]
    },
    {
     "name": "stdout",
     "output_type": "stream",
     "text": [
      "                   all          2          6      0.976          1      0.995      0.757      0.976          1      0.995      0.674\n"
     ]
    },
    {
     "name": "stderr",
     "output_type": "stream",
     "text": [
      "\n"
     ]
    },
    {
     "name": "stdout",
     "output_type": "stream",
     "text": [
      "\n",
      "      Epoch    GPU_mem   box_loss   seg_loss   cls_loss   dfl_loss  Instances       Size\n"
     ]
    },
    {
     "name": "stderr",
     "output_type": "stream",
     "text": [
      "      8/100         0G      1.151     0.7078     0.8272      1.176         61        640: 100%|██████████| 1/1 [00:04<00:00,  4.62s/it]\n",
      "                 Class     Images  Instances      Box(P          R      mAP50  mAP50-95)     Mask(P          R      mAP50  mAP50-95): 100%|██████████| 1/1 [00:00<00:00,  2.96it/s]"
     ]
    },
    {
     "name": "stdout",
     "output_type": "stream",
     "text": [
      "                   all          2          6      0.978          1      0.995      0.757      0.978          1      0.995      0.664\n"
     ]
    },
    {
     "name": "stderr",
     "output_type": "stream",
     "text": [
      "\n"
     ]
    },
    {
     "name": "stdout",
     "output_type": "stream",
     "text": [
      "\n",
      "      Epoch    GPU_mem   box_loss   seg_loss   cls_loss   dfl_loss  Instances       Size\n"
     ]
    },
    {
     "name": "stderr",
     "output_type": "stream",
     "text": [
      "      9/100         0G      1.057     0.7403     0.7971      1.158         50        640: 100%|██████████| 1/1 [00:04<00:00,  4.57s/it]\n",
      "                 Class     Images  Instances      Box(P          R      mAP50  mAP50-95)     Mask(P          R      mAP50  mAP50-95): 100%|██████████| 1/1 [00:00<00:00,  2.98it/s]"
     ]
    },
    {
     "name": "stdout",
     "output_type": "stream",
     "text": [
      "                   all          2          6      0.979          1      0.995      0.733      0.979          1      0.995      0.643\n"
     ]
    },
    {
     "name": "stderr",
     "output_type": "stream",
     "text": [
      "\n"
     ]
    },
    {
     "name": "stdout",
     "output_type": "stream",
     "text": [
      "\n",
      "      Epoch    GPU_mem   box_loss   seg_loss   cls_loss   dfl_loss  Instances       Size\n"
     ]
    },
    {
     "name": "stderr",
     "output_type": "stream",
     "text": [
      "     10/100         0G      1.291      1.128     0.7855      1.315         44        640: 100%|██████████| 1/1 [00:04<00:00,  4.58s/it]\n",
      "                 Class     Images  Instances      Box(P          R      mAP50  mAP50-95)     Mask(P          R      mAP50  mAP50-95): 100%|██████████| 1/1 [00:00<00:00,  2.84it/s]"
     ]
    },
    {
     "name": "stdout",
     "output_type": "stream",
     "text": [
      "                   all          2          6      0.979          1      0.995       0.74      0.979          1      0.995      0.639\n"
     ]
    },
    {
     "name": "stderr",
     "output_type": "stream",
     "text": [
      "\n"
     ]
    },
    {
     "name": "stdout",
     "output_type": "stream",
     "text": [
      "\n",
      "      Epoch    GPU_mem   box_loss   seg_loss   cls_loss   dfl_loss  Instances       Size\n"
     ]
    },
    {
     "name": "stderr",
     "output_type": "stream",
     "text": [
      "     11/100         0G     0.8205     0.4789     0.5788      1.056         41        640: 100%|██████████| 1/1 [00:04<00:00,  4.62s/it]\n",
      "                 Class     Images  Instances      Box(P          R      mAP50  mAP50-95)     Mask(P          R      mAP50  mAP50-95): 100%|██████████| 1/1 [00:00<00:00,  2.93it/s]"
     ]
    },
    {
     "name": "stdout",
     "output_type": "stream",
     "text": [
      "                   all          2          6      0.978          1      0.995      0.724      0.978          1      0.995      0.594\n"
     ]
    },
    {
     "name": "stderr",
     "output_type": "stream",
     "text": [
      "\n"
     ]
    },
    {
     "name": "stdout",
     "output_type": "stream",
     "text": [
      "\n",
      "      Epoch    GPU_mem   box_loss   seg_loss   cls_loss   dfl_loss  Instances       Size\n"
     ]
    },
    {
     "name": "stderr",
     "output_type": "stream",
     "text": [
      "     12/100         0G      0.899     0.8691     0.6436      1.017         65        640: 100%|██████████| 1/1 [00:04<00:00,  4.91s/it]\n",
      "                 Class     Images  Instances      Box(P          R      mAP50  mAP50-95)     Mask(P          R      mAP50  mAP50-95): 100%|██████████| 1/1 [00:00<00:00,  2.73it/s]"
     ]
    },
    {
     "name": "stdout",
     "output_type": "stream",
     "text": [
      "                   all          2          6      0.979          1      0.995      0.715      0.979          1      0.995      0.608\n"
     ]
    },
    {
     "name": "stderr",
     "output_type": "stream",
     "text": [
      "\n"
     ]
    },
    {
     "name": "stdout",
     "output_type": "stream",
     "text": [
      "\n",
      "      Epoch    GPU_mem   box_loss   seg_loss   cls_loss   dfl_loss  Instances       Size\n"
     ]
    },
    {
     "name": "stderr",
     "output_type": "stream",
     "text": [
      "     13/100         0G     0.8494     0.4305     0.5554      1.061         43        640: 100%|██████████| 1/1 [00:04<00:00,  4.38s/it]\n",
      "                 Class     Images  Instances      Box(P          R      mAP50  mAP50-95)     Mask(P          R      mAP50  mAP50-95): 100%|██████████| 1/1 [00:00<00:00,  3.11it/s]"
     ]
    },
    {
     "name": "stdout",
     "output_type": "stream",
     "text": [
      "                   all          2          6      0.978          1      0.995      0.751      0.978          1      0.995       0.54\n"
     ]
    },
    {
     "name": "stderr",
     "output_type": "stream",
     "text": [
      "\n"
     ]
    },
    {
     "name": "stdout",
     "output_type": "stream",
     "text": [
      "\n",
      "      Epoch    GPU_mem   box_loss   seg_loss   cls_loss   dfl_loss  Instances       Size\n"
     ]
    },
    {
     "name": "stderr",
     "output_type": "stream",
     "text": [
      "     14/100         0G     0.7101     0.4249     0.5165     0.9929         43        640: 100%|██████████| 1/1 [00:04<00:00,  4.47s/it]\n",
      "                 Class     Images  Instances      Box(P          R      mAP50  mAP50-95)     Mask(P          R      mAP50  mAP50-95): 100%|██████████| 1/1 [00:00<00:00,  3.07it/s]"
     ]
    },
    {
     "name": "stdout",
     "output_type": "stream",
     "text": [
      "                   all          2          6      0.977          1      0.995       0.76      0.977          1      0.995       0.54\n"
     ]
    },
    {
     "name": "stderr",
     "output_type": "stream",
     "text": [
      "\n"
     ]
    },
    {
     "name": "stdout",
     "output_type": "stream",
     "text": [
      "\n",
      "      Epoch    GPU_mem   box_loss   seg_loss   cls_loss   dfl_loss  Instances       Size\n"
     ]
    },
    {
     "name": "stderr",
     "output_type": "stream",
     "text": [
      "     15/100         0G     0.8038     0.5977     0.5493     0.9638         68        640: 100%|██████████| 1/1 [00:04<00:00,  4.44s/it]\n",
      "                 Class     Images  Instances      Box(P          R      mAP50  mAP50-95)     Mask(P          R      mAP50  mAP50-95): 100%|██████████| 1/1 [00:00<00:00,  3.10it/s]"
     ]
    },
    {
     "name": "stdout",
     "output_type": "stream",
     "text": [
      "                   all          2          6      0.976          1      0.995       0.76      0.976          1      0.995      0.554\n"
     ]
    },
    {
     "name": "stderr",
     "output_type": "stream",
     "text": [
      "\n"
     ]
    },
    {
     "name": "stdout",
     "output_type": "stream",
     "text": [
      "\n",
      "      Epoch    GPU_mem   box_loss   seg_loss   cls_loss   dfl_loss  Instances       Size\n"
     ]
    },
    {
     "name": "stderr",
     "output_type": "stream",
     "text": [
      "     16/100         0G     0.8979     0.5238      0.667      1.066         56        640: 100%|██████████| 1/1 [00:04<00:00,  4.41s/it]\n",
      "                 Class     Images  Instances      Box(P          R      mAP50  mAP50-95)     Mask(P          R      mAP50  mAP50-95): 100%|██████████| 1/1 [00:00<00:00,  3.03it/s]"
     ]
    },
    {
     "name": "stdout",
     "output_type": "stream",
     "text": [
      "                   all          2          6      0.976          1      0.995       0.76      0.976          1      0.995      0.555\n",
      "\n",
      "      Epoch    GPU_mem   box_loss   seg_loss   cls_loss   dfl_loss  Instances       Size\n"
     ]
    },
    {
     "name": "stderr",
     "output_type": "stream",
     "text": [
      "\n",
      "     17/100         0G     0.8255     0.7905     0.5587      1.006         61        640: 100%|██████████| 1/1 [00:04<00:00,  4.50s/it]\n",
      "                 Class     Images  Instances      Box(P          R      mAP50  mAP50-95)     Mask(P          R      mAP50  mAP50-95): 100%|██████████| 1/1 [00:00<00:00,  2.95it/s]"
     ]
    },
    {
     "name": "stdout",
     "output_type": "stream",
     "text": [
      "                   all          2          6      0.975          1      0.995      0.796      0.975          1      0.995      0.582\n"
     ]
    },
    {
     "name": "stderr",
     "output_type": "stream",
     "text": [
      "\n"
     ]
    },
    {
     "name": "stdout",
     "output_type": "stream",
     "text": [
      "\n",
      "      Epoch    GPU_mem   box_loss   seg_loss   cls_loss   dfl_loss  Instances       Size\n"
     ]
    },
    {
     "name": "stderr",
     "output_type": "stream",
     "text": [
      "     18/100         0G     0.7769     0.5342     0.6064      1.085         42        640: 100%|██████████| 1/1 [00:04<00:00,  4.16s/it]\n",
      "                 Class     Images  Instances      Box(P          R      mAP50  mAP50-95)     Mask(P          R      mAP50  mAP50-95): 100%|██████████| 1/1 [00:00<00:00,  3.04it/s]"
     ]
    },
    {
     "name": "stdout",
     "output_type": "stream",
     "text": [
      "                   all          2          6      0.975          1      0.995      0.796      0.975          1      0.995      0.582\n",
      "\n",
      "      Epoch    GPU_mem   box_loss   seg_loss   cls_loss   dfl_loss  Instances       Size\n"
     ]
    },
    {
     "name": "stderr",
     "output_type": "stream",
     "text": [
      "\n",
      "     19/100         0G      0.713     0.3358      0.425      1.013         53        640: 100%|██████████| 1/1 [00:04<00:00,  4.21s/it]\n",
      "                 Class     Images  Instances      Box(P          R      mAP50  mAP50-95)     Mask(P          R      mAP50  mAP50-95): 100%|██████████| 1/1 [00:00<00:00,  3.07it/s]"
     ]
    },
    {
     "name": "stdout",
     "output_type": "stream",
     "text": [
      "                   all          2          6      0.976          1      0.995      0.804      0.976          1      0.995      0.601\n",
      "\n",
      "      Epoch    GPU_mem   box_loss   seg_loss   cls_loss   dfl_loss  Instances       Size\n"
     ]
    },
    {
     "name": "stderr",
     "output_type": "stream",
     "text": [
      "\n",
      "     20/100         0G     0.7171     0.5996     0.4789      1.092         42        640: 100%|██████████| 1/1 [00:04<00:00,  4.11s/it]\n",
      "                 Class     Images  Instances      Box(P          R      mAP50  mAP50-95)     Mask(P          R      mAP50  mAP50-95): 100%|██████████| 1/1 [00:00<00:00,  2.82it/s]"
     ]
    },
    {
     "name": "stdout",
     "output_type": "stream",
     "text": [
      "                   all          2          6      0.976          1      0.995      0.804      0.976          1      0.995      0.601\n"
     ]
    },
    {
     "name": "stderr",
     "output_type": "stream",
     "text": [
      "\n"
     ]
    },
    {
     "name": "stdout",
     "output_type": "stream",
     "text": [
      "\n",
      "      Epoch    GPU_mem   box_loss   seg_loss   cls_loss   dfl_loss  Instances       Size\n"
     ]
    },
    {
     "name": "stderr",
     "output_type": "stream",
     "text": [
      "     21/100         0G     0.7026     0.5931     0.4708     0.9923         55        640: 100%|██████████| 1/1 [00:04<00:00,  4.40s/it]\n",
      "                 Class     Images  Instances      Box(P          R      mAP50  mAP50-95)     Mask(P          R      mAP50  mAP50-95): 100%|██████████| 1/1 [00:00<00:00,  3.02it/s]"
     ]
    },
    {
     "name": "stdout",
     "output_type": "stream",
     "text": [
      "                   all          2          6      0.975          1      0.995      0.811      0.975          1      0.995       0.68\n"
     ]
    },
    {
     "name": "stderr",
     "output_type": "stream",
     "text": [
      "\n"
     ]
    },
    {
     "name": "stdout",
     "output_type": "stream",
     "text": [
      "\n",
      "      Epoch    GPU_mem   box_loss   seg_loss   cls_loss   dfl_loss  Instances       Size\n"
     ]
    },
    {
     "name": "stderr",
     "output_type": "stream",
     "text": [
      "     22/100         0G     0.5894     0.3572     0.3528      0.989         53        640: 100%|██████████| 1/1 [00:04<00:00,  4.35s/it]\n",
      "                 Class     Images  Instances      Box(P          R      mAP50  mAP50-95)     Mask(P          R      mAP50  mAP50-95): 100%|██████████| 1/1 [00:00<00:00,  3.03it/s]"
     ]
    },
    {
     "name": "stdout",
     "output_type": "stream",
     "text": [
      "                   all          2          6      0.975          1      0.995      0.811      0.975          1      0.995       0.68\n",
      "\n",
      "      Epoch    GPU_mem   box_loss   seg_loss   cls_loss   dfl_loss  Instances       Size\n"
     ]
    },
    {
     "name": "stderr",
     "output_type": "stream",
     "text": [
      "\n",
      "     23/100         0G     0.6892     0.3637     0.5234      1.005         53        640: 100%|██████████| 1/1 [00:04<00:00,  4.37s/it]\n",
      "                 Class     Images  Instances      Box(P          R      mAP50  mAP50-95)     Mask(P          R      mAP50  mAP50-95): 100%|██████████| 1/1 [00:00<00:00,  3.14it/s]"
     ]
    },
    {
     "name": "stdout",
     "output_type": "stream",
     "text": [
      "                   all          2          6      0.974          1      0.995      0.832      0.974          1      0.995      0.693\n"
     ]
    },
    {
     "name": "stderr",
     "output_type": "stream",
     "text": [
      "\n"
     ]
    },
    {
     "name": "stdout",
     "output_type": "stream",
     "text": [
      "\n",
      "      Epoch    GPU_mem   box_loss   seg_loss   cls_loss   dfl_loss  Instances       Size\n"
     ]
    },
    {
     "name": "stderr",
     "output_type": "stream",
     "text": [
      "     24/100         0G     0.7631     0.4478     0.5523     0.9795         55        640: 100%|██████████| 1/1 [00:04<00:00,  4.19s/it]\n",
      "                 Class     Images  Instances      Box(P          R      mAP50  mAP50-95)     Mask(P          R      mAP50  mAP50-95): 100%|██████████| 1/1 [00:00<00:00,  3.13it/s]"
     ]
    },
    {
     "name": "stdout",
     "output_type": "stream",
     "text": [
      "                   all          2          6      0.974          1      0.995      0.832      0.974          1      0.995      0.693\n"
     ]
    },
    {
     "name": "stderr",
     "output_type": "stream",
     "text": [
      "\n"
     ]
    },
    {
     "name": "stdout",
     "output_type": "stream",
     "text": [
      "\n",
      "      Epoch    GPU_mem   box_loss   seg_loss   cls_loss   dfl_loss  Instances       Size\n"
     ]
    },
    {
     "name": "stderr",
     "output_type": "stream",
     "text": [
      "     25/100         0G     0.5784      0.271     0.4406     0.9797         47        640: 100%|██████████| 1/1 [00:04<00:00,  4.40s/it]\n",
      "                 Class     Images  Instances      Box(P          R      mAP50  mAP50-95)     Mask(P          R      mAP50  mAP50-95): 100%|██████████| 1/1 [00:00<00:00,  3.06it/s]"
     ]
    },
    {
     "name": "stdout",
     "output_type": "stream",
     "text": [
      "                   all          2          6      0.971          1      0.995      0.811      0.971          1      0.995      0.718\n"
     ]
    },
    {
     "name": "stderr",
     "output_type": "stream",
     "text": [
      "\n"
     ]
    },
    {
     "name": "stdout",
     "output_type": "stream",
     "text": [
      "\n",
      "      Epoch    GPU_mem   box_loss   seg_loss   cls_loss   dfl_loss  Instances       Size\n"
     ]
    },
    {
     "name": "stderr",
     "output_type": "stream",
     "text": [
      "     26/100         0G     0.5828     0.4198     0.4079     0.9555         52        640: 100%|██████████| 1/1 [00:04<00:00,  4.37s/it]\n",
      "                 Class     Images  Instances      Box(P          R      mAP50  mAP50-95)     Mask(P          R      mAP50  mAP50-95): 100%|██████████| 1/1 [00:00<00:00,  2.97it/s]"
     ]
    },
    {
     "name": "stdout",
     "output_type": "stream",
     "text": [
      "                   all          2          6      0.971          1      0.995      0.811      0.971          1      0.995      0.718\n"
     ]
    },
    {
     "name": "stderr",
     "output_type": "stream",
     "text": [
      "\n"
     ]
    },
    {
     "name": "stdout",
     "output_type": "stream",
     "text": [
      "\n",
      "      Epoch    GPU_mem   box_loss   seg_loss   cls_loss   dfl_loss  Instances       Size\n"
     ]
    },
    {
     "name": "stderr",
     "output_type": "stream",
     "text": [
      "     27/100         0G     0.6796     0.3804     0.4507     0.9969         60        640: 100%|██████████| 1/1 [00:04<00:00,  4.35s/it]\n",
      "                 Class     Images  Instances      Box(P          R      mAP50  mAP50-95)     Mask(P          R      mAP50  mAP50-95): 100%|██████████| 1/1 [00:00<00:00,  2.99it/s]"
     ]
    },
    {
     "name": "stdout",
     "output_type": "stream",
     "text": [
      "                   all          2          6      0.968          1      0.995      0.823      0.968          1      0.995      0.718\n",
      "\n",
      "      Epoch    GPU_mem   box_loss   seg_loss   cls_loss   dfl_loss  Instances       Size\n"
     ]
    },
    {
     "name": "stderr",
     "output_type": "stream",
     "text": [
      "\n",
      "     28/100         0G     0.6376     0.4909      0.423     0.9293         66        640: 100%|██████████| 1/1 [00:04<00:00,  4.28s/it]\n",
      "                 Class     Images  Instances      Box(P          R      mAP50  mAP50-95)     Mask(P          R      mAP50  mAP50-95): 100%|██████████| 1/1 [00:00<00:00,  3.10it/s]"
     ]
    },
    {
     "name": "stdout",
     "output_type": "stream",
     "text": [
      "                   all          2          6      0.968          1      0.995      0.823      0.968          1      0.995      0.718\n"
     ]
    },
    {
     "name": "stderr",
     "output_type": "stream",
     "text": [
      "\n"
     ]
    },
    {
     "name": "stdout",
     "output_type": "stream",
     "text": [
      "\n",
      "      Epoch    GPU_mem   box_loss   seg_loss   cls_loss   dfl_loss  Instances       Size\n"
     ]
    },
    {
     "name": "stderr",
     "output_type": "stream",
     "text": [
      "     29/100         0G      0.764      0.347     0.5314     0.9793         50        640: 100%|██████████| 1/1 [00:04<00:00,  4.34s/it]\n",
      "                 Class     Images  Instances      Box(P          R      mAP50  mAP50-95)     Mask(P          R      mAP50  mAP50-95): 100%|██████████| 1/1 [00:00<00:00,  3.03it/s]"
     ]
    },
    {
     "name": "stdout",
     "output_type": "stream",
     "text": [
      "                   all          2          6      0.965          1      0.995      0.823      0.965          1      0.995      0.719\n"
     ]
    },
    {
     "name": "stderr",
     "output_type": "stream",
     "text": [
      "\n"
     ]
    },
    {
     "name": "stdout",
     "output_type": "stream",
     "text": [
      "\n",
      "      Epoch    GPU_mem   box_loss   seg_loss   cls_loss   dfl_loss  Instances       Size\n"
     ]
    },
    {
     "name": "stderr",
     "output_type": "stream",
     "text": [
      "     30/100         0G     0.5793     0.3004     0.3491     0.9203         61        640: 100%|██████████| 1/1 [00:04<00:00,  4.38s/it]\n",
      "                 Class     Images  Instances      Box(P          R      mAP50  mAP50-95)     Mask(P          R      mAP50  mAP50-95): 100%|██████████| 1/1 [00:00<00:00,  3.13it/s]"
     ]
    },
    {
     "name": "stdout",
     "output_type": "stream",
     "text": [
      "                   all          2          6      0.965          1      0.995      0.823      0.965          1      0.995      0.719\n",
      "\n",
      "      Epoch    GPU_mem   box_loss   seg_loss   cls_loss   dfl_loss  Instances       Size\n"
     ]
    },
    {
     "name": "stderr",
     "output_type": "stream",
     "text": [
      "\n",
      "     31/100         0G     0.6883     0.4914     0.4905     0.9681         64        640: 100%|██████████| 1/1 [00:04<00:00,  4.29s/it]\n",
      "                 Class     Images  Instances      Box(P          R      mAP50  mAP50-95)     Mask(P          R      mAP50  mAP50-95): 100%|██████████| 1/1 [00:00<00:00,  3.14it/s]"
     ]
    },
    {
     "name": "stdout",
     "output_type": "stream",
     "text": [
      "                   all          2          6      0.962          1      0.995      0.835      0.962          1      0.995      0.682\n"
     ]
    },
    {
     "name": "stderr",
     "output_type": "stream",
     "text": [
      "\n"
     ]
    },
    {
     "name": "stdout",
     "output_type": "stream",
     "text": [
      "\n",
      "      Epoch    GPU_mem   box_loss   seg_loss   cls_loss   dfl_loss  Instances       Size\n"
     ]
    },
    {
     "name": "stderr",
     "output_type": "stream",
     "text": [
      "     32/100         0G     0.6379     0.4949      0.459     0.9627         50        640: 100%|██████████| 1/1 [00:04<00:00,  4.26s/it]\n",
      "                 Class     Images  Instances      Box(P          R      mAP50  mAP50-95)     Mask(P          R      mAP50  mAP50-95): 100%|██████████| 1/1 [00:00<00:00,  3.01it/s]"
     ]
    },
    {
     "name": "stdout",
     "output_type": "stream",
     "text": [
      "                   all          2          6      0.962          1      0.995      0.835      0.962          1      0.995      0.682\n"
     ]
    },
    {
     "name": "stderr",
     "output_type": "stream",
     "text": [
      "\n"
     ]
    },
    {
     "name": "stdout",
     "output_type": "stream",
     "text": [
      "\n",
      "      Epoch    GPU_mem   box_loss   seg_loss   cls_loss   dfl_loss  Instances       Size\n"
     ]
    },
    {
     "name": "stderr",
     "output_type": "stream",
     "text": [
      "     33/100         0G     0.7415     0.5753     0.5797     0.9991         42        640: 100%|██████████| 1/1 [00:04<00:00,  4.20s/it]\n",
      "                 Class     Images  Instances      Box(P          R      mAP50  mAP50-95)     Mask(P          R      mAP50  mAP50-95): 100%|██████████| 1/1 [00:00<00:00,  3.17it/s]"
     ]
    },
    {
     "name": "stdout",
     "output_type": "stream",
     "text": [
      "                   all          2          6      0.959          1      0.995      0.785      0.959          1      0.995      0.609\n"
     ]
    },
    {
     "name": "stderr",
     "output_type": "stream",
     "text": [
      "\n"
     ]
    },
    {
     "name": "stdout",
     "output_type": "stream",
     "text": [
      "\n",
      "      Epoch    GPU_mem   box_loss   seg_loss   cls_loss   dfl_loss  Instances       Size\n"
     ]
    },
    {
     "name": "stderr",
     "output_type": "stream",
     "text": [
      "     34/100         0G     0.6073     0.4708     0.3789     0.9595         58        640: 100%|██████████| 1/1 [00:04<00:00,  4.21s/it]\n",
      "                 Class     Images  Instances      Box(P          R      mAP50  mAP50-95)     Mask(P          R      mAP50  mAP50-95): 100%|██████████| 1/1 [00:00<00:00,  3.06it/s]"
     ]
    },
    {
     "name": "stdout",
     "output_type": "stream",
     "text": [
      "                   all          2          6      0.959          1      0.995      0.785      0.959          1      0.995      0.609\n"
     ]
    },
    {
     "name": "stderr",
     "output_type": "stream",
     "text": [
      "\n"
     ]
    },
    {
     "name": "stdout",
     "output_type": "stream",
     "text": [
      "\n",
      "      Epoch    GPU_mem   box_loss   seg_loss   cls_loss   dfl_loss  Instances       Size\n"
     ]
    },
    {
     "name": "stderr",
     "output_type": "stream",
     "text": [
      "     35/100         0G     0.6916     0.4066     0.4542      0.976         55        640: 100%|██████████| 1/1 [00:04<00:00,  4.41s/it]\n",
      "                 Class     Images  Instances      Box(P          R      mAP50  mAP50-95)     Mask(P          R      mAP50  mAP50-95): 100%|██████████| 1/1 [00:00<00:00,  3.08it/s]"
     ]
    },
    {
     "name": "stdout",
     "output_type": "stream",
     "text": [
      "                   all          2          6      0.956          1      0.995      0.785      0.956          1      0.995       0.61\n"
     ]
    },
    {
     "name": "stderr",
     "output_type": "stream",
     "text": [
      "\n"
     ]
    },
    {
     "name": "stdout",
     "output_type": "stream",
     "text": [
      "\n",
      "      Epoch    GPU_mem   box_loss   seg_loss   cls_loss   dfl_loss  Instances       Size\n"
     ]
    },
    {
     "name": "stderr",
     "output_type": "stream",
     "text": [
      "     36/100         0G     0.6193     0.5995      0.436     0.9589         62        640: 100%|██████████| 1/1 [00:04<00:00,  4.44s/it]\n",
      "                 Class     Images  Instances      Box(P          R      mAP50  mAP50-95)     Mask(P          R      mAP50  mAP50-95): 100%|██████████| 1/1 [00:00<00:00,  3.13it/s]"
     ]
    },
    {
     "name": "stdout",
     "output_type": "stream",
     "text": [
      "                   all          2          6      0.956          1      0.995      0.785      0.956          1      0.995       0.61\n",
      "\n",
      "      Epoch    GPU_mem   box_loss   seg_loss   cls_loss   dfl_loss  Instances       Size\n"
     ]
    },
    {
     "name": "stderr",
     "output_type": "stream",
     "text": [
      "\n",
      "     37/100         0G     0.5963     0.4043     0.4166     0.9673         53        640: 100%|██████████| 1/1 [00:04<00:00,  4.44s/it]\n",
      "                 Class     Images  Instances      Box(P          R      mAP50  mAP50-95)     Mask(P          R      mAP50  mAP50-95): 100%|██████████| 1/1 [00:00<00:00,  3.02it/s]"
     ]
    },
    {
     "name": "stdout",
     "output_type": "stream",
     "text": [
      "                   all          2          6      0.956          1      0.995      0.751      0.956          1      0.995      0.608\n"
     ]
    },
    {
     "name": "stderr",
     "output_type": "stream",
     "text": [
      "\n"
     ]
    },
    {
     "name": "stdout",
     "output_type": "stream",
     "text": [
      "\n",
      "      Epoch    GPU_mem   box_loss   seg_loss   cls_loss   dfl_loss  Instances       Size\n"
     ]
    },
    {
     "name": "stderr",
     "output_type": "stream",
     "text": [
      "     38/100         0G     0.7555     0.7058     0.4898      1.029         47        640: 100%|██████████| 1/1 [00:04<00:00,  4.31s/it]\n",
      "                 Class     Images  Instances      Box(P          R      mAP50  mAP50-95)     Mask(P          R      mAP50  mAP50-95): 100%|██████████| 1/1 [00:00<00:00,  3.09it/s]"
     ]
    },
    {
     "name": "stdout",
     "output_type": "stream",
     "text": [
      "                   all          2          6      0.956          1      0.995      0.751      0.956          1      0.995      0.608\n",
      "\n",
      "      Epoch    GPU_mem   box_loss   seg_loss   cls_loss   dfl_loss  Instances       Size\n"
     ]
    },
    {
     "name": "stderr",
     "output_type": "stream",
     "text": [
      "\n",
      "     39/100         0G     0.5594     0.5272     0.3901     0.9029         61        640: 100%|██████████| 1/1 [00:04<00:00,  4.28s/it]\n",
      "                 Class     Images  Instances      Box(P          R      mAP50  mAP50-95)     Mask(P          R      mAP50  mAP50-95): 100%|██████████| 1/1 [00:00<00:00,  2.93it/s]"
     ]
    },
    {
     "name": "stdout",
     "output_type": "stream",
     "text": [
      "                   all          2          6      0.958          1      0.995      0.752      0.958          1      0.995      0.585\n"
     ]
    },
    {
     "name": "stderr",
     "output_type": "stream",
     "text": [
      "\n"
     ]
    },
    {
     "name": "stdout",
     "output_type": "stream",
     "text": [
      "\n",
      "      Epoch    GPU_mem   box_loss   seg_loss   cls_loss   dfl_loss  Instances       Size\n"
     ]
    },
    {
     "name": "stderr",
     "output_type": "stream",
     "text": [
      "     40/100         0G     0.5951     0.5507     0.3845     0.9288         58        640: 100%|██████████| 1/1 [00:04<00:00,  4.30s/it]\n",
      "                 Class     Images  Instances      Box(P          R      mAP50  mAP50-95)     Mask(P          R      mAP50  mAP50-95): 100%|██████████| 1/1 [00:00<00:00,  2.96it/s]"
     ]
    },
    {
     "name": "stdout",
     "output_type": "stream",
     "text": [
      "                   all          2          6      0.958          1      0.995      0.752      0.958          1      0.995      0.585\n"
     ]
    },
    {
     "name": "stderr",
     "output_type": "stream",
     "text": [
      "\n"
     ]
    },
    {
     "name": "stdout",
     "output_type": "stream",
     "text": [
      "\n",
      "      Epoch    GPU_mem   box_loss   seg_loss   cls_loss   dfl_loss  Instances       Size\n"
     ]
    },
    {
     "name": "stderr",
     "output_type": "stream",
     "text": [
      "     41/100         0G     0.5856     0.4329     0.3631     0.9515         59        640: 100%|██████████| 1/1 [00:04<00:00,  4.46s/it]\n",
      "                 Class     Images  Instances      Box(P          R      mAP50  mAP50-95)     Mask(P          R      mAP50  mAP50-95): 100%|██████████| 1/1 [00:00<00:00,  3.14it/s]"
     ]
    },
    {
     "name": "stdout",
     "output_type": "stream",
     "text": [
      "                   all          2          6      0.959          1      0.995      0.753      0.959          1      0.995      0.587\n",
      "\n",
      "      Epoch    GPU_mem   box_loss   seg_loss   cls_loss   dfl_loss  Instances       Size\n"
     ]
    },
    {
     "name": "stderr",
     "output_type": "stream",
     "text": [
      "\n",
      "     42/100         0G     0.5337     0.3469     0.3466     0.9221         64        640: 100%|██████████| 1/1 [00:04<00:00,  4.43s/it]\n",
      "                 Class     Images  Instances      Box(P          R      mAP50  mAP50-95)     Mask(P          R      mAP50  mAP50-95): 100%|██████████| 1/1 [00:00<00:00,  3.12it/s]"
     ]
    },
    {
     "name": "stdout",
     "output_type": "stream",
     "text": [
      "                   all          2          6      0.959          1      0.995      0.753      0.959          1      0.995      0.587\n"
     ]
    },
    {
     "name": "stderr",
     "output_type": "stream",
     "text": [
      "\n"
     ]
    },
    {
     "name": "stdout",
     "output_type": "stream",
     "text": [
      "\n",
      "      Epoch    GPU_mem   box_loss   seg_loss   cls_loss   dfl_loss  Instances       Size\n"
     ]
    },
    {
     "name": "stderr",
     "output_type": "stream",
     "text": [
      "     43/100         0G     0.7731     0.6585     0.4896     0.9708         56        640: 100%|██████████| 1/1 [00:04<00:00,  4.39s/it]\n",
      "                 Class     Images  Instances      Box(P          R      mAP50  mAP50-95)     Mask(P          R      mAP50  mAP50-95): 100%|██████████| 1/1 [00:00<00:00,  2.94it/s]"
     ]
    },
    {
     "name": "stdout",
     "output_type": "stream",
     "text": [
      "                   all          2          6       0.96          1      0.995      0.753       0.96          1      0.995      0.587\n"
     ]
    },
    {
     "name": "stderr",
     "output_type": "stream",
     "text": [
      "\n"
     ]
    },
    {
     "name": "stdout",
     "output_type": "stream",
     "text": [
      "\n",
      "      Epoch    GPU_mem   box_loss   seg_loss   cls_loss   dfl_loss  Instances       Size\n"
     ]
    },
    {
     "name": "stderr",
     "output_type": "stream",
     "text": [
      "     44/100         0G     0.6071     0.3666     0.3714     0.9907         54        640: 100%|██████████| 1/1 [00:04<00:00,  4.48s/it]\n",
      "                 Class     Images  Instances      Box(P          R      mAP50  mAP50-95)     Mask(P          R      mAP50  mAP50-95): 100%|██████████| 1/1 [00:00<00:00,  3.03it/s]"
     ]
    },
    {
     "name": "stdout",
     "output_type": "stream",
     "text": [
      "                   all          2          6       0.96          1      0.995      0.753       0.96          1      0.995      0.587\n",
      "\n",
      "      Epoch    GPU_mem   box_loss   seg_loss   cls_loss   dfl_loss  Instances       Size\n"
     ]
    },
    {
     "name": "stderr",
     "output_type": "stream",
     "text": [
      "\n",
      "     45/100         0G     0.5578     0.5097     0.3822     0.9748         58        640: 100%|██████████| 1/1 [00:04<00:00,  4.39s/it]\n",
      "                 Class     Images  Instances      Box(P          R      mAP50  mAP50-95)     Mask(P          R      mAP50  mAP50-95): 100%|██████████| 1/1 [00:00<00:00,  3.13it/s]"
     ]
    },
    {
     "name": "stdout",
     "output_type": "stream",
     "text": [
      "                   all          2          6      0.973          1      0.995      0.755      0.973          1      0.995      0.591\n"
     ]
    },
    {
     "name": "stderr",
     "output_type": "stream",
     "text": [
      "\n"
     ]
    },
    {
     "name": "stdout",
     "output_type": "stream",
     "text": [
      "\n",
      "      Epoch    GPU_mem   box_loss   seg_loss   cls_loss   dfl_loss  Instances       Size\n"
     ]
    },
    {
     "name": "stderr",
     "output_type": "stream",
     "text": [
      "     46/100         0G     0.6764     0.8588     0.5033     0.9505         54        640: 100%|██████████| 1/1 [00:04<00:00,  4.40s/it]\n",
      "                 Class     Images  Instances      Box(P          R      mAP50  mAP50-95)     Mask(P          R      mAP50  mAP50-95): 100%|██████████| 1/1 [00:00<00:00,  3.02it/s]"
     ]
    },
    {
     "name": "stdout",
     "output_type": "stream",
     "text": [
      "                   all          2          6      0.973          1      0.995      0.755      0.973          1      0.995      0.591\n"
     ]
    },
    {
     "name": "stderr",
     "output_type": "stream",
     "text": [
      "\n"
     ]
    },
    {
     "name": "stdout",
     "output_type": "stream",
     "text": [
      "\n",
      "      Epoch    GPU_mem   box_loss   seg_loss   cls_loss   dfl_loss  Instances       Size\n"
     ]
    },
    {
     "name": "stderr",
     "output_type": "stream",
     "text": [
      "     47/100         0G     0.5403     0.3863     0.3998     0.9584         59        640: 100%|██████████| 1/1 [00:04<00:00,  4.47s/it]\n",
      "                 Class     Images  Instances      Box(P          R      mAP50  mAP50-95)     Mask(P          R      mAP50  mAP50-95): 100%|██████████| 1/1 [00:00<00:00,  3.01it/s]"
     ]
    },
    {
     "name": "stdout",
     "output_type": "stream",
     "text": [
      "                   all          2          6      0.975          1      0.995      0.756      0.975          1      0.995        0.6\n"
     ]
    },
    {
     "name": "stderr",
     "output_type": "stream",
     "text": [
      "\n"
     ]
    },
    {
     "name": "stdout",
     "output_type": "stream",
     "text": [
      "\n",
      "      Epoch    GPU_mem   box_loss   seg_loss   cls_loss   dfl_loss  Instances       Size\n"
     ]
    },
    {
     "name": "stderr",
     "output_type": "stream",
     "text": [
      "     48/100         0G      0.562     0.4139     0.3805     0.9714         53        640: 100%|██████████| 1/1 [00:04<00:00,  4.37s/it]\n",
      "                 Class     Images  Instances      Box(P          R      mAP50  mAP50-95)     Mask(P          R      mAP50  mAP50-95): 100%|██████████| 1/1 [00:00<00:00,  2.92it/s]"
     ]
    },
    {
     "name": "stdout",
     "output_type": "stream",
     "text": [
      "                   all          2          6      0.975          1      0.995      0.756      0.975          1      0.995        0.6\n"
     ]
    },
    {
     "name": "stderr",
     "output_type": "stream",
     "text": [
      "\n"
     ]
    },
    {
     "name": "stdout",
     "output_type": "stream",
     "text": [
      "\n",
      "      Epoch    GPU_mem   box_loss   seg_loss   cls_loss   dfl_loss  Instances       Size\n"
     ]
    },
    {
     "name": "stderr",
     "output_type": "stream",
     "text": [
      "     49/100         0G      0.643     0.4479     0.3873     0.9427         64        640: 100%|██████████| 1/1 [00:04<00:00,  4.68s/it]\n",
      "                 Class     Images  Instances      Box(P          R      mAP50  mAP50-95)     Mask(P          R      mAP50  mAP50-95): 100%|██████████| 1/1 [00:00<00:00,  2.95it/s]"
     ]
    },
    {
     "name": "stdout",
     "output_type": "stream",
     "text": [
      "                   all          2          6      0.976          1      0.995      0.775      0.976          1      0.995      0.719\n"
     ]
    },
    {
     "name": "stderr",
     "output_type": "stream",
     "text": [
      "\n"
     ]
    },
    {
     "name": "stdout",
     "output_type": "stream",
     "text": [
      "\n",
      "      Epoch    GPU_mem   box_loss   seg_loss   cls_loss   dfl_loss  Instances       Size\n"
     ]
    },
    {
     "name": "stderr",
     "output_type": "stream",
     "text": [
      "     50/100         0G     0.4743     0.2364      0.351     0.9225         54        640: 100%|██████████| 1/1 [00:04<00:00,  4.17s/it]\n",
      "                 Class     Images  Instances      Box(P          R      mAP50  mAP50-95)     Mask(P          R      mAP50  mAP50-95): 100%|██████████| 1/1 [00:00<00:00,  2.93it/s]"
     ]
    },
    {
     "name": "stdout",
     "output_type": "stream",
     "text": [
      "                   all          2          6      0.976          1      0.995      0.775      0.976          1      0.995      0.719\n"
     ]
    },
    {
     "name": "stderr",
     "output_type": "stream",
     "text": [
      "\n"
     ]
    },
    {
     "name": "stdout",
     "output_type": "stream",
     "text": [
      "\n",
      "      Epoch    GPU_mem   box_loss   seg_loss   cls_loss   dfl_loss  Instances       Size\n"
     ]
    },
    {
     "name": "stderr",
     "output_type": "stream",
     "text": [
      "     51/100         0G      0.676     0.4255     0.4575     0.9918         45        640: 100%|██████████| 1/1 [00:04<00:00,  4.41s/it]\n",
      "                 Class     Images  Instances      Box(P          R      mAP50  mAP50-95)     Mask(P          R      mAP50  mAP50-95): 100%|██████████| 1/1 [00:00<00:00,  2.99it/s]"
     ]
    },
    {
     "name": "stdout",
     "output_type": "stream",
     "text": [
      "                   all          2          6      0.977          1      0.995      0.775      0.977          1      0.995       0.71\n",
      "\n",
      "      Epoch    GPU_mem   box_loss   seg_loss   cls_loss   dfl_loss  Instances       Size\n"
     ]
    },
    {
     "name": "stderr",
     "output_type": "stream",
     "text": [
      "\n",
      "     52/100         0G     0.5487     0.4006     0.3994     0.9389         58        640: 100%|██████████| 1/1 [00:04<00:00,  4.34s/it]\n",
      "                 Class     Images  Instances      Box(P          R      mAP50  mAP50-95)     Mask(P          R      mAP50  mAP50-95): 100%|██████████| 1/1 [00:00<00:00,  3.15it/s]"
     ]
    },
    {
     "name": "stdout",
     "output_type": "stream",
     "text": [
      "                   all          2          6      0.977          1      0.995      0.775      0.977          1      0.995       0.71\n",
      "\n",
      "      Epoch    GPU_mem   box_loss   seg_loss   cls_loss   dfl_loss  Instances       Size\n"
     ]
    },
    {
     "name": "stderr",
     "output_type": "stream",
     "text": [
      "\n",
      "     53/100         0G     0.5614     0.4077     0.3599     0.9374         63        640: 100%|██████████| 1/1 [00:04<00:00,  4.42s/it]\n",
      "                 Class     Images  Instances      Box(P          R      mAP50  mAP50-95)     Mask(P          R      mAP50  mAP50-95): 100%|██████████| 1/1 [00:00<00:00,  3.15it/s]"
     ]
    },
    {
     "name": "stdout",
     "output_type": "stream",
     "text": [
      "                   all          2          6      0.977          1      0.995      0.775      0.977          1      0.995       0.71\n"
     ]
    },
    {
     "name": "stderr",
     "output_type": "stream",
     "text": [
      "\n"
     ]
    },
    {
     "name": "stdout",
     "output_type": "stream",
     "text": [
      "\n",
      "      Epoch    GPU_mem   box_loss   seg_loss   cls_loss   dfl_loss  Instances       Size\n"
     ]
    },
    {
     "name": "stderr",
     "output_type": "stream",
     "text": [
      "     54/100         0G     0.4906     0.3192     0.3029     0.9495         65        640: 100%|██████████| 1/1 [00:04<00:00,  4.45s/it]\n",
      "                 Class     Images  Instances      Box(P          R      mAP50  mAP50-95)     Mask(P          R      mAP50  mAP50-95): 100%|██████████| 1/1 [00:00<00:00,  3.12it/s]"
     ]
    },
    {
     "name": "stdout",
     "output_type": "stream",
     "text": [
      "                   all          2          6      0.977          1      0.995      0.765      0.977          1      0.995       0.71\n"
     ]
    },
    {
     "name": "stderr",
     "output_type": "stream",
     "text": [
      "\n"
     ]
    },
    {
     "name": "stdout",
     "output_type": "stream",
     "text": [
      "\n",
      "      Epoch    GPU_mem   box_loss   seg_loss   cls_loss   dfl_loss  Instances       Size\n"
     ]
    },
    {
     "name": "stderr",
     "output_type": "stream",
     "text": [
      "     55/100         0G     0.5502      0.347     0.3376      0.954         55        640: 100%|██████████| 1/1 [00:04<00:00,  4.36s/it]\n",
      "                 Class     Images  Instances      Box(P          R      mAP50  mAP50-95)     Mask(P          R      mAP50  mAP50-95): 100%|██████████| 1/1 [00:00<00:00,  2.98it/s]"
     ]
    },
    {
     "name": "stdout",
     "output_type": "stream",
     "text": [
      "                   all          2          6      0.977          1      0.995      0.765      0.977          1      0.995       0.71\n"
     ]
    },
    {
     "name": "stderr",
     "output_type": "stream",
     "text": [
      "\n"
     ]
    },
    {
     "name": "stdout",
     "output_type": "stream",
     "text": [
      "\n",
      "      Epoch    GPU_mem   box_loss   seg_loss   cls_loss   dfl_loss  Instances       Size\n"
     ]
    },
    {
     "name": "stderr",
     "output_type": "stream",
     "text": [
      "     56/100         0G     0.5701     0.4596     0.3684     0.9419         58        640: 100%|██████████| 1/1 [00:04<00:00,  4.37s/it]\n",
      "                 Class     Images  Instances      Box(P          R      mAP50  mAP50-95)     Mask(P          R      mAP50  mAP50-95): 100%|██████████| 1/1 [00:00<00:00,  2.90it/s]"
     ]
    },
    {
     "name": "stdout",
     "output_type": "stream",
     "text": [
      "                   all          2          6      0.977          1      0.995      0.765      0.977          1      0.995       0.71\n"
     ]
    },
    {
     "name": "stderr",
     "output_type": "stream",
     "text": [
      "\n"
     ]
    },
    {
     "name": "stdout",
     "output_type": "stream",
     "text": [
      "\n",
      "      Epoch    GPU_mem   box_loss   seg_loss   cls_loss   dfl_loss  Instances       Size\n"
     ]
    },
    {
     "name": "stderr",
     "output_type": "stream",
     "text": [
      "     57/100         0G      0.571     0.4911     0.3605     0.9363         71        640: 100%|██████████| 1/1 [00:04<00:00,  4.65s/it]\n",
      "                 Class     Images  Instances      Box(P          R      mAP50  mAP50-95)     Mask(P          R      mAP50  mAP50-95): 100%|██████████| 1/1 [00:00<00:00,  3.11it/s]"
     ]
    },
    {
     "name": "stdout",
     "output_type": "stream",
     "text": [
      "                   all          2          6      0.969          1      0.995       0.78      0.969          1      0.995       0.69\n"
     ]
    },
    {
     "name": "stderr",
     "output_type": "stream",
     "text": [
      "\n"
     ]
    },
    {
     "name": "stdout",
     "output_type": "stream",
     "text": [
      "\n",
      "      Epoch    GPU_mem   box_loss   seg_loss   cls_loss   dfl_loss  Instances       Size\n"
     ]
    },
    {
     "name": "stderr",
     "output_type": "stream",
     "text": [
      "     58/100         0G     0.7096     0.4803     0.4565     0.9148         51        640: 100%|██████████| 1/1 [00:04<00:00,  4.60s/it]\n",
      "                 Class     Images  Instances      Box(P          R      mAP50  mAP50-95)     Mask(P          R      mAP50  mAP50-95): 100%|██████████| 1/1 [00:00<00:00,  2.98it/s]"
     ]
    },
    {
     "name": "stdout",
     "output_type": "stream",
     "text": [
      "                   all          2          6      0.969          1      0.995       0.78      0.969          1      0.995       0.69\n"
     ]
    },
    {
     "name": "stderr",
     "output_type": "stream",
     "text": [
      "\n"
     ]
    },
    {
     "name": "stdout",
     "output_type": "stream",
     "text": [
      "\n",
      "      Epoch    GPU_mem   box_loss   seg_loss   cls_loss   dfl_loss  Instances       Size\n"
     ]
    },
    {
     "name": "stderr",
     "output_type": "stream",
     "text": [
      "     59/100         0G     0.6616     0.4693      0.416     0.9928         53        640: 100%|██████████| 1/1 [00:04<00:00,  4.60s/it]\n",
      "                 Class     Images  Instances      Box(P          R      mAP50  mAP50-95)     Mask(P          R      mAP50  mAP50-95): 100%|██████████| 1/1 [00:00<00:00,  2.92it/s]"
     ]
    },
    {
     "name": "stdout",
     "output_type": "stream",
     "text": [
      "                   all          2          6      0.969          1      0.995       0.78      0.969          1      0.995       0.69\n"
     ]
    },
    {
     "name": "stderr",
     "output_type": "stream",
     "text": [
      "\n"
     ]
    },
    {
     "name": "stdout",
     "output_type": "stream",
     "text": [
      "\n",
      "      Epoch    GPU_mem   box_loss   seg_loss   cls_loss   dfl_loss  Instances       Size\n"
     ]
    },
    {
     "name": "stderr",
     "output_type": "stream",
     "text": [
      "     60/100         0G     0.6211     0.3542      0.381     0.9699         56        640: 100%|██████████| 1/1 [00:04<00:00,  4.34s/it]\n",
      "                 Class     Images  Instances      Box(P          R      mAP50  mAP50-95)     Mask(P          R      mAP50  mAP50-95): 100%|██████████| 1/1 [00:00<00:00,  3.01it/s]"
     ]
    },
    {
     "name": "stdout",
     "output_type": "stream",
     "text": [
      "                   all          2          6      0.971          1      0.995       0.82      0.971          1      0.995      0.688\n"
     ]
    },
    {
     "name": "stderr",
     "output_type": "stream",
     "text": [
      "\n"
     ]
    },
    {
     "name": "stdout",
     "output_type": "stream",
     "text": [
      "\n",
      "      Epoch    GPU_mem   box_loss   seg_loss   cls_loss   dfl_loss  Instances       Size\n"
     ]
    },
    {
     "name": "stderr",
     "output_type": "stream",
     "text": [
      "     61/100         0G     0.4921     0.4249     0.3321     0.9442         56        640: 100%|██████████| 1/1 [00:04<00:00,  4.41s/it]\n",
      "                 Class     Images  Instances      Box(P          R      mAP50  mAP50-95)     Mask(P          R      mAP50  mAP50-95): 100%|██████████| 1/1 [00:00<00:00,  2.97it/s]"
     ]
    },
    {
     "name": "stdout",
     "output_type": "stream",
     "text": [
      "                   all          2          6      0.971          1      0.995       0.82      0.971          1      0.995      0.688\n",
      "\n",
      "      Epoch    GPU_mem   box_loss   seg_loss   cls_loss   dfl_loss  Instances       Size\n"
     ]
    },
    {
     "name": "stderr",
     "output_type": "stream",
     "text": [
      "\n",
      "     62/100         0G      0.488     0.4736     0.3506     0.8951         56        640: 100%|██████████| 1/1 [00:04<00:00,  4.49s/it]\n",
      "                 Class     Images  Instances      Box(P          R      mAP50  mAP50-95)     Mask(P          R      mAP50  mAP50-95): 100%|██████████| 1/1 [00:00<00:00,  3.06it/s]"
     ]
    },
    {
     "name": "stdout",
     "output_type": "stream",
     "text": [
      "                   all          2          6      0.971          1      0.995       0.82      0.971          1      0.995      0.688\n"
     ]
    },
    {
     "name": "stderr",
     "output_type": "stream",
     "text": [
      "\n"
     ]
    },
    {
     "name": "stdout",
     "output_type": "stream",
     "text": [
      "\n",
      "      Epoch    GPU_mem   box_loss   seg_loss   cls_loss   dfl_loss  Instances       Size\n"
     ]
    },
    {
     "name": "stderr",
     "output_type": "stream",
     "text": [
      "     63/100         0G     0.5325      0.303     0.3558     0.9821         47        640: 100%|██████████| 1/1 [00:04<00:00,  4.41s/it]\n",
      "                 Class     Images  Instances      Box(P          R      mAP50  mAP50-95)     Mask(P          R      mAP50  mAP50-95): 100%|██████████| 1/1 [00:00<00:00,  2.97it/s]"
     ]
    },
    {
     "name": "stdout",
     "output_type": "stream",
     "text": [
      "                   all          2          6      0.973          1      0.995       0.82      0.973          1      0.995      0.699\n"
     ]
    },
    {
     "name": "stderr",
     "output_type": "stream",
     "text": [
      "\n"
     ]
    },
    {
     "name": "stdout",
     "output_type": "stream",
     "text": [
      "\n",
      "      Epoch    GPU_mem   box_loss   seg_loss   cls_loss   dfl_loss  Instances       Size\n"
     ]
    },
    {
     "name": "stderr",
     "output_type": "stream",
     "text": [
      "     64/100         0G     0.4847     0.3303     0.3107     0.9041         71        640: 100%|██████████| 1/1 [00:04<00:00,  4.69s/it]\n",
      "                 Class     Images  Instances      Box(P          R      mAP50  mAP50-95)     Mask(P          R      mAP50  mAP50-95): 100%|██████████| 1/1 [00:00<00:00,  3.08it/s]"
     ]
    },
    {
     "name": "stdout",
     "output_type": "stream",
     "text": [
      "                   all          2          6      0.973          1      0.995       0.82      0.973          1      0.995      0.699\n"
     ]
    },
    {
     "name": "stderr",
     "output_type": "stream",
     "text": [
      "\n"
     ]
    },
    {
     "name": "stdout",
     "output_type": "stream",
     "text": [
      "\n",
      "      Epoch    GPU_mem   box_loss   seg_loss   cls_loss   dfl_loss  Instances       Size\n"
     ]
    },
    {
     "name": "stderr",
     "output_type": "stream",
     "text": [
      "     65/100         0G     0.4918     0.2909     0.3271     0.9024         61        640: 100%|██████████| 1/1 [00:04<00:00,  4.33s/it]\n",
      "                 Class     Images  Instances      Box(P          R      mAP50  mAP50-95)     Mask(P          R      mAP50  mAP50-95): 100%|██████████| 1/1 [00:00<00:00,  2.92it/s]"
     ]
    },
    {
     "name": "stdout",
     "output_type": "stream",
     "text": [
      "                   all          2          6      0.973          1      0.995       0.82      0.973          1      0.995      0.699\n"
     ]
    },
    {
     "name": "stderr",
     "output_type": "stream",
     "text": [
      "\n"
     ]
    },
    {
     "name": "stdout",
     "output_type": "stream",
     "text": [
      "\n",
      "      Epoch    GPU_mem   box_loss   seg_loss   cls_loss   dfl_loss  Instances       Size\n"
     ]
    },
    {
     "name": "stderr",
     "output_type": "stream",
     "text": [
      "     66/100         0G      0.534     0.3192     0.3592     0.9026         55        640: 100%|██████████| 1/1 [00:04<00:00,  4.52s/it]\n",
      "                 Class     Images  Instances      Box(P          R      mAP50  mAP50-95)     Mask(P          R      mAP50  mAP50-95): 100%|██████████| 1/1 [00:00<00:00,  2.93it/s]"
     ]
    },
    {
     "name": "stdout",
     "output_type": "stream",
     "text": [
      "                   all          2          6      0.974          1      0.995      0.799      0.974          1      0.995      0.699\n"
     ]
    },
    {
     "name": "stderr",
     "output_type": "stream",
     "text": [
      "\n"
     ]
    },
    {
     "name": "stdout",
     "output_type": "stream",
     "text": [
      "\n",
      "      Epoch    GPU_mem   box_loss   seg_loss   cls_loss   dfl_loss  Instances       Size\n"
     ]
    },
    {
     "name": "stderr",
     "output_type": "stream",
     "text": [
      "     67/100         0G     0.5379      0.307     0.3605      0.938         55        640: 100%|██████████| 1/1 [00:04<00:00,  4.39s/it]\n",
      "                 Class     Images  Instances      Box(P          R      mAP50  mAP50-95)     Mask(P          R      mAP50  mAP50-95): 100%|██████████| 1/1 [00:00<00:00,  2.91it/s]"
     ]
    },
    {
     "name": "stdout",
     "output_type": "stream",
     "text": [
      "                   all          2          6      0.974          1      0.995      0.799      0.974          1      0.995      0.699\n"
     ]
    },
    {
     "name": "stderr",
     "output_type": "stream",
     "text": [
      "\n"
     ]
    },
    {
     "name": "stdout",
     "output_type": "stream",
     "text": [
      "\n",
      "      Epoch    GPU_mem   box_loss   seg_loss   cls_loss   dfl_loss  Instances       Size\n"
     ]
    },
    {
     "name": "stderr",
     "output_type": "stream",
     "text": [
      "     68/100         0G     0.4397     0.3435      0.294     0.9183         58        640: 100%|██████████| 1/1 [00:04<00:00,  4.41s/it]\n",
      "                 Class     Images  Instances      Box(P          R      mAP50  mAP50-95)     Mask(P          R      mAP50  mAP50-95): 100%|██████████| 1/1 [00:00<00:00,  3.07it/s]"
     ]
    },
    {
     "name": "stdout",
     "output_type": "stream",
     "text": [
      "                   all          2          6      0.974          1      0.995      0.799      0.974          1      0.995      0.699\n"
     ]
    },
    {
     "name": "stderr",
     "output_type": "stream",
     "text": [
      "\n"
     ]
    },
    {
     "name": "stdout",
     "output_type": "stream",
     "text": [
      "\n",
      "      Epoch    GPU_mem   box_loss   seg_loss   cls_loss   dfl_loss  Instances       Size\n"
     ]
    },
    {
     "name": "stderr",
     "output_type": "stream",
     "text": [
      "     69/100         0G      0.569     0.4234     0.3777     0.9339         51        640: 100%|██████████| 1/1 [00:04<00:00,  4.43s/it]\n",
      "                 Class     Images  Instances      Box(P          R      mAP50  mAP50-95)     Mask(P          R      mAP50  mAP50-95): 100%|██████████| 1/1 [00:00<00:00,  2.94it/s]"
     ]
    },
    {
     "name": "stdout",
     "output_type": "stream",
     "text": [
      "                   all          2          6      0.974          1      0.995      0.789      0.974          1      0.995      0.699\n"
     ]
    },
    {
     "name": "stderr",
     "output_type": "stream",
     "text": [
      "\n"
     ]
    },
    {
     "name": "stdout",
     "output_type": "stream",
     "text": [
      "\n",
      "      Epoch    GPU_mem   box_loss   seg_loss   cls_loss   dfl_loss  Instances       Size\n"
     ]
    },
    {
     "name": "stderr",
     "output_type": "stream",
     "text": [
      "     70/100         0G     0.5677     0.5865     0.4022     0.9515         54        640: 100%|██████████| 1/1 [00:04<00:00,  4.37s/it]\n",
      "                 Class     Images  Instances      Box(P          R      mAP50  mAP50-95)     Mask(P          R      mAP50  mAP50-95): 100%|██████████| 1/1 [00:00<00:00,  3.01it/s]"
     ]
    },
    {
     "name": "stdout",
     "output_type": "stream",
     "text": [
      "                   all          2          6      0.974          1      0.995      0.789      0.974          1      0.995      0.699\n"
     ]
    },
    {
     "name": "stderr",
     "output_type": "stream",
     "text": [
      "\n"
     ]
    },
    {
     "name": "stdout",
     "output_type": "stream",
     "text": [
      "\n",
      "      Epoch    GPU_mem   box_loss   seg_loss   cls_loss   dfl_loss  Instances       Size\n"
     ]
    },
    {
     "name": "stderr",
     "output_type": "stream",
     "text": [
      "     71/100         0G     0.5016     0.6129     0.3144     0.9256         50        640: 100%|██████████| 1/1 [00:04<00:00,  4.41s/it]\n",
      "                 Class     Images  Instances      Box(P          R      mAP50  mAP50-95)     Mask(P          R      mAP50  mAP50-95): 100%|██████████| 1/1 [00:00<00:00,  2.98it/s]"
     ]
    },
    {
     "name": "stdout",
     "output_type": "stream",
     "text": [
      "                   all          2          6      0.974          1      0.995      0.789      0.974          1      0.995      0.699\n"
     ]
    },
    {
     "name": "stderr",
     "output_type": "stream",
     "text": [
      "\n"
     ]
    },
    {
     "name": "stdout",
     "output_type": "stream",
     "text": [
      "\n",
      "      Epoch    GPU_mem   box_loss   seg_loss   cls_loss   dfl_loss  Instances       Size\n"
     ]
    },
    {
     "name": "stderr",
     "output_type": "stream",
     "text": [
      "     72/100         0G     0.4778     0.2845     0.3228     0.9558         49        640: 100%|██████████| 1/1 [00:04<00:00,  4.40s/it]\n",
      "                 Class     Images  Instances      Box(P          R      mAP50  mAP50-95)     Mask(P          R      mAP50  mAP50-95): 100%|██████████| 1/1 [00:00<00:00,  2.90it/s]"
     ]
    },
    {
     "name": "stdout",
     "output_type": "stream",
     "text": [
      "                   all          2          6      0.974          1      0.995      0.796      0.974          1      0.995      0.813\n"
     ]
    },
    {
     "name": "stderr",
     "output_type": "stream",
     "text": [
      "\n"
     ]
    },
    {
     "name": "stdout",
     "output_type": "stream",
     "text": [
      "\n",
      "      Epoch    GPU_mem   box_loss   seg_loss   cls_loss   dfl_loss  Instances       Size\n"
     ]
    },
    {
     "name": "stderr",
     "output_type": "stream",
     "text": [
      "     73/100         0G     0.6688     0.5789     0.4218     0.9641         53        640: 100%|██████████| 1/1 [00:04<00:00,  4.41s/it]\n",
      "                 Class     Images  Instances      Box(P          R      mAP50  mAP50-95)     Mask(P          R      mAP50  mAP50-95): 100%|██████████| 1/1 [00:00<00:00,  2.96it/s]"
     ]
    },
    {
     "name": "stdout",
     "output_type": "stream",
     "text": [
      "                   all          2          6      0.974          1      0.995      0.796      0.974          1      0.995      0.813\n"
     ]
    },
    {
     "name": "stderr",
     "output_type": "stream",
     "text": [
      "\n"
     ]
    },
    {
     "name": "stdout",
     "output_type": "stream",
     "text": [
      "\n",
      "      Epoch    GPU_mem   box_loss   seg_loss   cls_loss   dfl_loss  Instances       Size\n"
     ]
    },
    {
     "name": "stderr",
     "output_type": "stream",
     "text": [
      "     74/100         0G     0.6104     0.3428     0.3609     0.9365         48        640: 100%|██████████| 1/1 [00:04<00:00,  4.38s/it]\n",
      "                 Class     Images  Instances      Box(P          R      mAP50  mAP50-95)     Mask(P          R      mAP50  mAP50-95): 100%|██████████| 1/1 [00:00<00:00,  3.10it/s]"
     ]
    },
    {
     "name": "stdout",
     "output_type": "stream",
     "text": [
      "                   all          2          6      0.974          1      0.995      0.796      0.974          1      0.995      0.813\n"
     ]
    },
    {
     "name": "stderr",
     "output_type": "stream",
     "text": [
      "\n"
     ]
    },
    {
     "name": "stdout",
     "output_type": "stream",
     "text": [
      "\n",
      "      Epoch    GPU_mem   box_loss   seg_loss   cls_loss   dfl_loss  Instances       Size\n"
     ]
    },
    {
     "name": "stderr",
     "output_type": "stream",
     "text": [
      "     75/100         0G     0.6271     0.5038     0.3648     0.9478         65        640: 100%|██████████| 1/1 [00:04<00:00,  4.55s/it]\n",
      "                 Class     Images  Instances      Box(P          R      mAP50  mAP50-95)     Mask(P          R      mAP50  mAP50-95): 100%|██████████| 1/1 [00:00<00:00,  2.91it/s]"
     ]
    },
    {
     "name": "stdout",
     "output_type": "stream",
     "text": [
      "                   all          2          6      0.973          1      0.995      0.762      0.973          1      0.995      0.806\n"
     ]
    },
    {
     "name": "stderr",
     "output_type": "stream",
     "text": [
      "\n"
     ]
    },
    {
     "name": "stdout",
     "output_type": "stream",
     "text": [
      "\n",
      "      Epoch    GPU_mem   box_loss   seg_loss   cls_loss   dfl_loss  Instances       Size\n"
     ]
    },
    {
     "name": "stderr",
     "output_type": "stream",
     "text": [
      "     76/100         0G     0.5854     0.5985     0.3715      0.926         61        640: 100%|██████████| 1/1 [00:04<00:00,  4.75s/it]\n",
      "                 Class     Images  Instances      Box(P          R      mAP50  mAP50-95)     Mask(P          R      mAP50  mAP50-95): 100%|██████████| 1/1 [00:00<00:00,  3.00it/s]"
     ]
    },
    {
     "name": "stdout",
     "output_type": "stream",
     "text": [
      "                   all          2          6      0.973          1      0.995      0.762      0.973          1      0.995      0.806\n"
     ]
    },
    {
     "name": "stderr",
     "output_type": "stream",
     "text": [
      "\n"
     ]
    },
    {
     "name": "stdout",
     "output_type": "stream",
     "text": [
      "\n",
      "      Epoch    GPU_mem   box_loss   seg_loss   cls_loss   dfl_loss  Instances       Size\n"
     ]
    },
    {
     "name": "stderr",
     "output_type": "stream",
     "text": [
      "     77/100         0G     0.5252     0.3252     0.3915     0.9351         53        640: 100%|██████████| 1/1 [00:04<00:00,  4.46s/it]\n",
      "                 Class     Images  Instances      Box(P          R      mAP50  mAP50-95)     Mask(P          R      mAP50  mAP50-95): 100%|██████████| 1/1 [00:00<00:00,  2.94it/s]"
     ]
    },
    {
     "name": "stdout",
     "output_type": "stream",
     "text": [
      "                   all          2          6      0.973          1      0.995      0.762      0.973          1      0.995      0.806\n"
     ]
    },
    {
     "name": "stderr",
     "output_type": "stream",
     "text": [
      "\n"
     ]
    },
    {
     "name": "stdout",
     "output_type": "stream",
     "text": [
      "\n",
      "      Epoch    GPU_mem   box_loss   seg_loss   cls_loss   dfl_loss  Instances       Size\n"
     ]
    },
    {
     "name": "stderr",
     "output_type": "stream",
     "text": [
      "     78/100         0G     0.5217     0.5328     0.3329     0.9393         55        640: 100%|██████████| 1/1 [00:04<00:00,  4.59s/it]\n",
      "                 Class     Images  Instances      Box(P          R      mAP50  mAP50-95)     Mask(P          R      mAP50  mAP50-95): 100%|██████████| 1/1 [00:00<00:00,  2.99it/s]"
     ]
    },
    {
     "name": "stdout",
     "output_type": "stream",
     "text": [
      "                   all          2          6      0.973          1      0.995      0.763      0.973          1      0.995      0.805\n"
     ]
    },
    {
     "name": "stderr",
     "output_type": "stream",
     "text": [
      "\n"
     ]
    },
    {
     "name": "stdout",
     "output_type": "stream",
     "text": [
      "\n",
      "      Epoch    GPU_mem   box_loss   seg_loss   cls_loss   dfl_loss  Instances       Size\n"
     ]
    },
    {
     "name": "stderr",
     "output_type": "stream",
     "text": [
      "     79/100         0G     0.4969      0.346     0.3471     0.9358         62        640: 100%|██████████| 1/1 [00:04<00:00,  4.49s/it]\n",
      "                 Class     Images  Instances      Box(P          R      mAP50  mAP50-95)     Mask(P          R      mAP50  mAP50-95): 100%|██████████| 1/1 [00:00<00:00,  3.10it/s]"
     ]
    },
    {
     "name": "stdout",
     "output_type": "stream",
     "text": [
      "                   all          2          6      0.973          1      0.995      0.763      0.973          1      0.995      0.805\n"
     ]
    },
    {
     "name": "stderr",
     "output_type": "stream",
     "text": [
      "\n"
     ]
    },
    {
     "name": "stdout",
     "output_type": "stream",
     "text": [
      "\n",
      "      Epoch    GPU_mem   box_loss   seg_loss   cls_loss   dfl_loss  Instances       Size\n"
     ]
    },
    {
     "name": "stderr",
     "output_type": "stream",
     "text": [
      "     80/100         0G     0.5419     0.2764     0.3358     0.9116         60        640: 100%|██████████| 1/1 [00:04<00:00,  4.44s/it]\n",
      "                 Class     Images  Instances      Box(P          R      mAP50  mAP50-95)     Mask(P          R      mAP50  mAP50-95): 100%|██████████| 1/1 [00:00<00:00,  2.99it/s]"
     ]
    },
    {
     "name": "stdout",
     "output_type": "stream",
     "text": [
      "                   all          2          6      0.973          1      0.995      0.763      0.973          1      0.995      0.805\n"
     ]
    },
    {
     "name": "stderr",
     "output_type": "stream",
     "text": [
      "\n"
     ]
    },
    {
     "name": "stdout",
     "output_type": "stream",
     "text": [
      "\n",
      "      Epoch    GPU_mem   box_loss   seg_loss   cls_loss   dfl_loss  Instances       Size\n"
     ]
    },
    {
     "name": "stderr",
     "output_type": "stream",
     "text": [
      "     81/100         0G     0.5445     0.5281     0.3289     0.9487         73        640: 100%|██████████| 1/1 [00:04<00:00,  4.50s/it]\n",
      "                 Class     Images  Instances      Box(P          R      mAP50  mAP50-95)     Mask(P          R      mAP50  mAP50-95): 100%|██████████| 1/1 [00:00<00:00,  3.11it/s]"
     ]
    },
    {
     "name": "stdout",
     "output_type": "stream",
     "text": [
      "                   all          2          6      0.972          1      0.995      0.763      0.972          1      0.995      0.772\n"
     ]
    },
    {
     "name": "stderr",
     "output_type": "stream",
     "text": [
      "\n"
     ]
    },
    {
     "name": "stdout",
     "output_type": "stream",
     "text": [
      "\n",
      "      Epoch    GPU_mem   box_loss   seg_loss   cls_loss   dfl_loss  Instances       Size\n"
     ]
    },
    {
     "name": "stderr",
     "output_type": "stream",
     "text": [
      "     82/100         0G      0.485     0.3422     0.3528     0.9214         65        640: 100%|██████████| 1/1 [00:04<00:00,  4.45s/it]\n",
      "                 Class     Images  Instances      Box(P          R      mAP50  mAP50-95)     Mask(P          R      mAP50  mAP50-95): 100%|██████████| 1/1 [00:00<00:00,  2.94it/s]"
     ]
    },
    {
     "name": "stdout",
     "output_type": "stream",
     "text": [
      "                   all          2          6      0.972          1      0.995      0.763      0.972          1      0.995      0.772\n"
     ]
    },
    {
     "name": "stderr",
     "output_type": "stream",
     "text": [
      "\n"
     ]
    },
    {
     "name": "stdout",
     "output_type": "stream",
     "text": [
      "\n",
      "      Epoch    GPU_mem   box_loss   seg_loss   cls_loss   dfl_loss  Instances       Size\n"
     ]
    },
    {
     "name": "stderr",
     "output_type": "stream",
     "text": [
      "     83/100         0G      0.542      0.355      0.344     0.9204         59        640: 100%|██████████| 1/1 [00:04<00:00,  4.52s/it]\n",
      "                 Class     Images  Instances      Box(P          R      mAP50  mAP50-95)     Mask(P          R      mAP50  mAP50-95): 100%|██████████| 1/1 [00:00<00:00,  2.96it/s]"
     ]
    },
    {
     "name": "stdout",
     "output_type": "stream",
     "text": [
      "                   all          2          6      0.972          1      0.995      0.763      0.972          1      0.995      0.772\n"
     ]
    },
    {
     "name": "stderr",
     "output_type": "stream",
     "text": [
      "\n"
     ]
    },
    {
     "name": "stdout",
     "output_type": "stream",
     "text": [
      "\n",
      "      Epoch    GPU_mem   box_loss   seg_loss   cls_loss   dfl_loss  Instances       Size\n"
     ]
    },
    {
     "name": "stderr",
     "output_type": "stream",
     "text": [
      "     84/100         0G     0.5896     0.3907      0.375     0.9361         56        640: 100%|██████████| 1/1 [00:04<00:00,  4.36s/it]\n",
      "                 Class     Images  Instances      Box(P          R      mAP50  mAP50-95)     Mask(P          R      mAP50  mAP50-95): 100%|██████████| 1/1 [00:00<00:00,  2.95it/s]"
     ]
    },
    {
     "name": "stdout",
     "output_type": "stream",
     "text": [
      "                   all          2          6      0.972          1      0.995      0.772      0.972          1      0.995      0.811\n"
     ]
    },
    {
     "name": "stderr",
     "output_type": "stream",
     "text": [
      "\n"
     ]
    },
    {
     "name": "stdout",
     "output_type": "stream",
     "text": [
      "\n",
      "      Epoch    GPU_mem   box_loss   seg_loss   cls_loss   dfl_loss  Instances       Size\n"
     ]
    },
    {
     "name": "stderr",
     "output_type": "stream",
     "text": [
      "     85/100         0G     0.4898     0.4133     0.3331     0.9447         52        640: 100%|██████████| 1/1 [00:04<00:00,  4.38s/it]\n",
      "                 Class     Images  Instances      Box(P          R      mAP50  mAP50-95)     Mask(P          R      mAP50  mAP50-95): 100%|██████████| 1/1 [00:00<00:00,  3.00it/s]"
     ]
    },
    {
     "name": "stdout",
     "output_type": "stream",
     "text": [
      "                   all          2          6      0.972          1      0.995      0.772      0.972          1      0.995      0.811\n"
     ]
    },
    {
     "name": "stderr",
     "output_type": "stream",
     "text": [
      "\n"
     ]
    },
    {
     "name": "stdout",
     "output_type": "stream",
     "text": [
      "\n",
      "      Epoch    GPU_mem   box_loss   seg_loss   cls_loss   dfl_loss  Instances       Size\n"
     ]
    },
    {
     "name": "stderr",
     "output_type": "stream",
     "text": [
      "     86/100         0G     0.5029     0.3371     0.3339       0.94         51        640: 100%|██████████| 1/1 [00:04<00:00,  4.36s/it]\n",
      "                 Class     Images  Instances      Box(P          R      mAP50  mAP50-95)     Mask(P          R      mAP50  mAP50-95): 100%|██████████| 1/1 [00:00<00:00,  2.94it/s]"
     ]
    },
    {
     "name": "stdout",
     "output_type": "stream",
     "text": [
      "                   all          2          6      0.972          1      0.995      0.772      0.972          1      0.995      0.811\n"
     ]
    },
    {
     "name": "stderr",
     "output_type": "stream",
     "text": [
      "\n"
     ]
    },
    {
     "name": "stdout",
     "output_type": "stream",
     "text": [
      "\n",
      "      Epoch    GPU_mem   box_loss   seg_loss   cls_loss   dfl_loss  Instances       Size\n"
     ]
    },
    {
     "name": "stderr",
     "output_type": "stream",
     "text": [
      "     87/100         0G     0.5611     0.4615     0.3802     0.9313         64        640: 100%|██████████| 1/1 [00:04<00:00,  4.51s/it]\n",
      "                 Class     Images  Instances      Box(P          R      mAP50  mAP50-95)     Mask(P          R      mAP50  mAP50-95): 100%|██████████| 1/1 [00:00<00:00,  2.93it/s]"
     ]
    },
    {
     "name": "stdout",
     "output_type": "stream",
     "text": [
      "                   all          2          6      0.972          1      0.995      0.772      0.972          1      0.995      0.811\n"
     ]
    },
    {
     "name": "stderr",
     "output_type": "stream",
     "text": [
      "\n"
     ]
    },
    {
     "name": "stdout",
     "output_type": "stream",
     "text": [
      "\n",
      "      Epoch    GPU_mem   box_loss   seg_loss   cls_loss   dfl_loss  Instances       Size\n"
     ]
    },
    {
     "name": "stderr",
     "output_type": "stream",
     "text": [
      "     88/100         0G     0.4357     0.3076     0.2975     0.9122         50        640: 100%|██████████| 1/1 [00:04<00:00,  4.44s/it]\n",
      "                 Class     Images  Instances      Box(P          R      mAP50  mAP50-95)     Mask(P          R      mAP50  mAP50-95): 100%|██████████| 1/1 [00:00<00:00,  2.91it/s]"
     ]
    },
    {
     "name": "stdout",
     "output_type": "stream",
     "text": [
      "                   all          2          6      0.972          1      0.995      0.769      0.972          1      0.995      0.819\n"
     ]
    },
    {
     "name": "stderr",
     "output_type": "stream",
     "text": [
      "\n"
     ]
    },
    {
     "name": "stdout",
     "output_type": "stream",
     "text": [
      "\n",
      "      Epoch    GPU_mem   box_loss   seg_loss   cls_loss   dfl_loss  Instances       Size\n"
     ]
    },
    {
     "name": "stderr",
     "output_type": "stream",
     "text": [
      "     89/100         0G     0.4821      0.245     0.3155     0.9438         61        640: 100%|██████████| 1/1 [00:04<00:00,  4.40s/it]\n",
      "                 Class     Images  Instances      Box(P          R      mAP50  mAP50-95)     Mask(P          R      mAP50  mAP50-95): 100%|██████████| 1/1 [00:00<00:00,  2.88it/s]"
     ]
    },
    {
     "name": "stdout",
     "output_type": "stream",
     "text": [
      "                   all          2          6      0.972          1      0.995      0.769      0.972          1      0.995      0.819\n"
     ]
    },
    {
     "name": "stderr",
     "output_type": "stream",
     "text": [
      "\n"
     ]
    },
    {
     "name": "stdout",
     "output_type": "stream",
     "text": [
      "\n",
      "      Epoch    GPU_mem   box_loss   seg_loss   cls_loss   dfl_loss  Instances       Size\n"
     ]
    },
    {
     "name": "stderr",
     "output_type": "stream",
     "text": [
      "     90/100         0G      0.567     0.3586     0.3752     0.8982         73        640: 100%|██████████| 1/1 [00:04<00:00,  4.46s/it]\n",
      "                 Class     Images  Instances      Box(P          R      mAP50  mAP50-95)     Mask(P          R      mAP50  mAP50-95): 100%|██████████| 1/1 [00:00<00:00,  3.00it/s]"
     ]
    },
    {
     "name": "stdout",
     "output_type": "stream",
     "text": [
      "                   all          2          6      0.972          1      0.995      0.769      0.972          1      0.995      0.819\n"
     ]
    },
    {
     "name": "stderr",
     "output_type": "stream",
     "text": [
      "\n"
     ]
    },
    {
     "name": "stdout",
     "output_type": "stream",
     "text": [
      "Closing dataloader mosaic\n",
      "\n",
      "      Epoch    GPU_mem   box_loss   seg_loss   cls_loss   dfl_loss  Instances       Size\n"
     ]
    },
    {
     "name": "stderr",
     "output_type": "stream",
     "text": [
      "     91/100         0G     0.4474     0.1978     0.4064     0.9645         21        640: 100%|██████████| 1/1 [00:04<00:00,  4.30s/it]\n",
      "                 Class     Images  Instances      Box(P          R      mAP50  mAP50-95)     Mask(P          R      mAP50  mAP50-95): 100%|██████████| 1/1 [00:00<00:00,  2.59it/s]"
     ]
    },
    {
     "name": "stdout",
     "output_type": "stream",
     "text": [
      "                   all          2          6      0.972          1      0.995      0.769      0.972          1      0.995      0.819\n"
     ]
    },
    {
     "name": "stderr",
     "output_type": "stream",
     "text": [
      "\n"
     ]
    },
    {
     "name": "stdout",
     "output_type": "stream",
     "text": [
      "\n",
      "      Epoch    GPU_mem   box_loss   seg_loss   cls_loss   dfl_loss  Instances       Size\n"
     ]
    },
    {
     "name": "stderr",
     "output_type": "stream",
     "text": [
      "     92/100         0G     0.4575     0.1957     0.3689     0.9461         23        640: 100%|██████████| 1/1 [00:04<00:00,  4.31s/it]\n",
      "                 Class     Images  Instances      Box(P          R      mAP50  mAP50-95)     Mask(P          R      mAP50  mAP50-95): 100%|██████████| 1/1 [00:00<00:00,  2.65it/s]"
     ]
    },
    {
     "name": "stdout",
     "output_type": "stream",
     "text": [
      "                   all          2          6      0.972          1      0.995      0.769      0.972          1      0.995      0.819\n"
     ]
    },
    {
     "name": "stderr",
     "output_type": "stream",
     "text": [
      "\n"
     ]
    },
    {
     "name": "stdout",
     "output_type": "stream",
     "text": [
      "\n",
      "      Epoch    GPU_mem   box_loss   seg_loss   cls_loss   dfl_loss  Instances       Size\n"
     ]
    },
    {
     "name": "stderr",
     "output_type": "stream",
     "text": [
      "     93/100         0G     0.3507     0.2432     0.3199     0.9127         22        640: 100%|██████████| 1/1 [00:04<00:00,  4.23s/it]\n",
      "                 Class     Images  Instances      Box(P          R      mAP50  mAP50-95)     Mask(P          R      mAP50  mAP50-95): 100%|██████████| 1/1 [00:00<00:00,  2.47it/s]"
     ]
    },
    {
     "name": "stdout",
     "output_type": "stream",
     "text": [
      "                   all          2          6      0.972          1      0.995      0.769      0.972          1      0.995      0.819\n"
     ]
    },
    {
     "name": "stderr",
     "output_type": "stream",
     "text": [
      "\n"
     ]
    },
    {
     "name": "stdout",
     "output_type": "stream",
     "text": [
      "\n",
      "      Epoch    GPU_mem   box_loss   seg_loss   cls_loss   dfl_loss  Instances       Size\n"
     ]
    },
    {
     "name": "stderr",
     "output_type": "stream",
     "text": [
      "     94/100         0G     0.4222      0.312     0.4432     0.8886         20        640: 100%|██████████| 1/1 [00:04<00:00,  4.28s/it]\n",
      "                 Class     Images  Instances      Box(P          R      mAP50  mAP50-95)     Mask(P          R      mAP50  mAP50-95): 100%|██████████| 1/1 [00:00<00:00,  2.85it/s]"
     ]
    },
    {
     "name": "stdout",
     "output_type": "stream",
     "text": [
      "                   all          2          6      0.972          1      0.995      0.769      0.972          1      0.995      0.819\n"
     ]
    },
    {
     "name": "stderr",
     "output_type": "stream",
     "text": [
      "\n"
     ]
    },
    {
     "name": "stdout",
     "output_type": "stream",
     "text": [
      "\n",
      "      Epoch    GPU_mem   box_loss   seg_loss   cls_loss   dfl_loss  Instances       Size\n"
     ]
    },
    {
     "name": "stderr",
     "output_type": "stream",
     "text": [
      "     95/100         0G     0.4549     0.2678     0.4615     0.9265         22        640: 100%|██████████| 1/1 [00:04<00:00,  4.25s/it]\n",
      "                 Class     Images  Instances      Box(P          R      mAP50  mAP50-95)     Mask(P          R      mAP50  mAP50-95): 100%|██████████| 1/1 [00:00<00:00,  2.97it/s]"
     ]
    },
    {
     "name": "stdout",
     "output_type": "stream",
     "text": [
      "                   all          2          6      0.972          1      0.995      0.769      0.972          1      0.995      0.819\n"
     ]
    },
    {
     "name": "stderr",
     "output_type": "stream",
     "text": [
      "\n"
     ]
    },
    {
     "name": "stdout",
     "output_type": "stream",
     "text": [
      "\n",
      "      Epoch    GPU_mem   box_loss   seg_loss   cls_loss   dfl_loss  Instances       Size\n"
     ]
    },
    {
     "name": "stderr",
     "output_type": "stream",
     "text": [
      "     96/100         0G      0.398     0.3113     0.3687     0.8955         22        640: 100%|██████████| 1/1 [00:04<00:00,  4.23s/it]\n",
      "                 Class     Images  Instances      Box(P          R      mAP50  mAP50-95)     Mask(P          R      mAP50  mAP50-95): 100%|██████████| 1/1 [00:00<00:00,  3.00it/s]"
     ]
    },
    {
     "name": "stdout",
     "output_type": "stream",
     "text": [
      "                   all          2          6      0.972          1      0.995      0.787      0.972          1      0.995      0.725\n"
     ]
    },
    {
     "name": "stderr",
     "output_type": "stream",
     "text": [
      "\n"
     ]
    },
    {
     "name": "stdout",
     "output_type": "stream",
     "text": [
      "\n",
      "      Epoch    GPU_mem   box_loss   seg_loss   cls_loss   dfl_loss  Instances       Size\n"
     ]
    },
    {
     "name": "stderr",
     "output_type": "stream",
     "text": [
      "     97/100         0G     0.3819     0.1798     0.3118     0.8991         24        640: 100%|██████████| 1/1 [00:04<00:00,  4.25s/it]\n",
      "                 Class     Images  Instances      Box(P          R      mAP50  mAP50-95)     Mask(P          R      mAP50  mAP50-95): 100%|██████████| 1/1 [00:00<00:00,  2.92it/s]"
     ]
    },
    {
     "name": "stdout",
     "output_type": "stream",
     "text": [
      "                   all          2          6      0.972          1      0.995      0.787      0.972          1      0.995      0.725\n"
     ]
    },
    {
     "name": "stderr",
     "output_type": "stream",
     "text": [
      "\n"
     ]
    },
    {
     "name": "stdout",
     "output_type": "stream",
     "text": [
      "\n",
      "      Epoch    GPU_mem   box_loss   seg_loss   cls_loss   dfl_loss  Instances       Size\n"
     ]
    },
    {
     "name": "stderr",
     "output_type": "stream",
     "text": [
      "     98/100         0G     0.3769     0.2516     0.3823      0.896         21        640: 100%|██████████| 1/1 [00:04<00:00,  4.25s/it]\n",
      "                 Class     Images  Instances      Box(P          R      mAP50  mAP50-95)     Mask(P          R      mAP50  mAP50-95): 100%|██████████| 1/1 [00:00<00:00,  2.77it/s]"
     ]
    },
    {
     "name": "stdout",
     "output_type": "stream",
     "text": [
      "                   all          2          6      0.972          1      0.995      0.787      0.972          1      0.995      0.725\n"
     ]
    },
    {
     "name": "stderr",
     "output_type": "stream",
     "text": [
      "\n"
     ]
    },
    {
     "name": "stdout",
     "output_type": "stream",
     "text": [
      "\n",
      "      Epoch    GPU_mem   box_loss   seg_loss   cls_loss   dfl_loss  Instances       Size\n"
     ]
    },
    {
     "name": "stderr",
     "output_type": "stream",
     "text": [
      "     99/100         0G     0.4106     0.2381     0.3885     0.9185         24        640: 100%|██████████| 1/1 [00:04<00:00,  4.25s/it]\n",
      "                 Class     Images  Instances      Box(P          R      mAP50  mAP50-95)     Mask(P          R      mAP50  mAP50-95): 100%|██████████| 1/1 [00:00<00:00,  2.96it/s]"
     ]
    },
    {
     "name": "stdout",
     "output_type": "stream",
     "text": [
      "                   all          2          6      0.972          1      0.995      0.787      0.972          1      0.995      0.725\n",
      "\n",
      "      Epoch    GPU_mem   box_loss   seg_loss   cls_loss   dfl_loss  Instances       Size\n"
     ]
    },
    {
     "name": "stderr",
     "output_type": "stream",
     "text": [
      "\n",
      "    100/100         0G     0.3552     0.3575     0.3882     0.8914         22        640: 100%|██████████| 1/1 [00:04<00:00,  4.24s/it]\n",
      "                 Class     Images  Instances      Box(P          R      mAP50  mAP50-95)     Mask(P          R      mAP50  mAP50-95): 100%|██████████| 1/1 [00:00<00:00,  3.03it/s]"
     ]
    },
    {
     "name": "stdout",
     "output_type": "stream",
     "text": [
      "                   all          2          6      0.972          1      0.995      0.769      0.972          1      0.995      0.704\n"
     ]
    },
    {
     "name": "stderr",
     "output_type": "stream",
     "text": [
      "\n"
     ]
    },
    {
     "name": "stdout",
     "output_type": "stream",
     "text": [
      "\n",
      "100 epochs completed in 0.139 hours.\n",
      "Optimizer stripped from /Users/heonyounglee/Desktop/ocr/runs/segment/train10/weights/last.pt, 6.8MB\n",
      "Optimizer stripped from /Users/heonyounglee/Desktop/ocr/runs/segment/train10/weights/best.pt, 6.8MB\n",
      "\n",
      "Validating /Users/heonyounglee/Desktop/ocr/runs/segment/train10/weights/best.pt...\n",
      "Ultralytics YOLOv8.2.48 🚀 Python-3.9.6 torch-2.3.1 CPU (Apple M2)\n",
      "YOLOv8n-seg summary (fused): 195 layers, 3258454 parameters, 0 gradients, 12.0 GFLOPs\n"
     ]
    },
    {
     "name": "stderr",
     "output_type": "stream",
     "text": [
      "                 Class     Images  Instances      Box(P          R      mAP50  mAP50-95)     Mask(P          R      mAP50  mAP50-95): 100%|██████████| 1/1 [00:00<00:00,  3.15it/s]\n"
     ]
    },
    {
     "name": "stdout",
     "output_type": "stream",
     "text": [
      "                   all          2          6      0.974          1      0.995      0.796      0.974          1      0.995      0.813\n",
      "                  date          2          2      0.981          1      0.995      0.697      0.981          1      0.995      0.697\n",
      "             text_area          2          4      0.967          1      0.995      0.895      0.967          1      0.995       0.93\n",
      "Speed: 1.7ms preprocess, 150.7ms inference, 0.0ms loss, 0.4ms postprocess per image\n",
      "Results saved to \u001b[1m/Users/heonyounglee/Desktop/ocr/runs/segment/train10\u001b[0m\n"
     ]
    },
    {
     "data": {
      "text/plain": [
       "ultralytics.utils.metrics.SegmentMetrics object with attributes:\n",
       "\n",
       "ap_class_index: array([0, 1])\n",
       "box: ultralytics.utils.metrics.Metric object\n",
       "confusion_matrix: <ultralytics.utils.metrics.ConfusionMatrix object at 0x32e3b5df0>\n",
       "curves: ['Precision-Recall(B)', 'F1-Confidence(B)', 'Precision-Confidence(B)', 'Recall-Confidence(B)', 'Precision-Recall(M)', 'F1-Confidence(M)', 'Precision-Confidence(M)', 'Recall-Confidence(M)']\n",
       "curves_results: [[array([          0,    0.001001,    0.002002,    0.003003,    0.004004,    0.005005,    0.006006,    0.007007,    0.008008,    0.009009,     0.01001,    0.011011,    0.012012,    0.013013,    0.014014,    0.015015,    0.016016,    0.017017,    0.018018,    0.019019,     0.02002,    0.021021,    0.022022,    0.023023,\n",
       "          0.024024,    0.025025,    0.026026,    0.027027,    0.028028,    0.029029,     0.03003,    0.031031,    0.032032,    0.033033,    0.034034,    0.035035,    0.036036,    0.037037,    0.038038,    0.039039,     0.04004,    0.041041,    0.042042,    0.043043,    0.044044,    0.045045,    0.046046,    0.047047,\n",
       "          0.048048,    0.049049,     0.05005,    0.051051,    0.052052,    0.053053,    0.054054,    0.055055,    0.056056,    0.057057,    0.058058,    0.059059,     0.06006,    0.061061,    0.062062,    0.063063,    0.064064,    0.065065,    0.066066,    0.067067,    0.068068,    0.069069,     0.07007,    0.071071,\n",
       "          0.072072,    0.073073,    0.074074,    0.075075,    0.076076,    0.077077,    0.078078,    0.079079,     0.08008,    0.081081,    0.082082,    0.083083,    0.084084,    0.085085,    0.086086,    0.087087,    0.088088,    0.089089,     0.09009,    0.091091,    0.092092,    0.093093,    0.094094,    0.095095,\n",
       "          0.096096,    0.097097,    0.098098,    0.099099,      0.1001,      0.1011,      0.1021,      0.1031,      0.1041,     0.10511,     0.10611,     0.10711,     0.10811,     0.10911,     0.11011,     0.11111,     0.11211,     0.11311,     0.11411,     0.11512,     0.11612,     0.11712,     0.11812,     0.11912,\n",
       "           0.12012,     0.12112,     0.12212,     0.12312,     0.12412,     0.12513,     0.12613,     0.12713,     0.12813,     0.12913,     0.13013,     0.13113,     0.13213,     0.13313,     0.13413,     0.13514,     0.13614,     0.13714,     0.13814,     0.13914,     0.14014,     0.14114,     0.14214,     0.14314,\n",
       "           0.14414,     0.14515,     0.14615,     0.14715,     0.14815,     0.14915,     0.15015,     0.15115,     0.15215,     0.15315,     0.15415,     0.15516,     0.15616,     0.15716,     0.15816,     0.15916,     0.16016,     0.16116,     0.16216,     0.16316,     0.16416,     0.16517,     0.16617,     0.16717,\n",
       "           0.16817,     0.16917,     0.17017,     0.17117,     0.17217,     0.17317,     0.17417,     0.17518,     0.17618,     0.17718,     0.17818,     0.17918,     0.18018,     0.18118,     0.18218,     0.18318,     0.18418,     0.18519,     0.18619,     0.18719,     0.18819,     0.18919,     0.19019,     0.19119,\n",
       "           0.19219,     0.19319,     0.19419,      0.1952,      0.1962,      0.1972,      0.1982,      0.1992,      0.2002,      0.2012,      0.2022,      0.2032,      0.2042,     0.20521,     0.20621,     0.20721,     0.20821,     0.20921,     0.21021,     0.21121,     0.21221,     0.21321,     0.21421,     0.21522,\n",
       "           0.21622,     0.21722,     0.21822,     0.21922,     0.22022,     0.22122,     0.22222,     0.22322,     0.22422,     0.22523,     0.22623,     0.22723,     0.22823,     0.22923,     0.23023,     0.23123,     0.23223,     0.23323,     0.23423,     0.23524,     0.23624,     0.23724,     0.23824,     0.23924,\n",
       "           0.24024,     0.24124,     0.24224,     0.24324,     0.24424,     0.24525,     0.24625,     0.24725,     0.24825,     0.24925,     0.25025,     0.25125,     0.25225,     0.25325,     0.25425,     0.25526,     0.25626,     0.25726,     0.25826,     0.25926,     0.26026,     0.26126,     0.26226,     0.26326,\n",
       "           0.26426,     0.26527,     0.26627,     0.26727,     0.26827,     0.26927,     0.27027,     0.27127,     0.27227,     0.27327,     0.27427,     0.27528,     0.27628,     0.27728,     0.27828,     0.27928,     0.28028,     0.28128,     0.28228,     0.28328,     0.28428,     0.28529,     0.28629,     0.28729,\n",
       "           0.28829,     0.28929,     0.29029,     0.29129,     0.29229,     0.29329,     0.29429,      0.2953,      0.2963,      0.2973,      0.2983,      0.2993,      0.3003,      0.3013,      0.3023,      0.3033,      0.3043,     0.30531,     0.30631,     0.30731,     0.30831,     0.30931,     0.31031,     0.31131,\n",
       "           0.31231,     0.31331,     0.31431,     0.31532,     0.31632,     0.31732,     0.31832,     0.31932,     0.32032,     0.32132,     0.32232,     0.32332,     0.32432,     0.32533,     0.32633,     0.32733,     0.32833,     0.32933,     0.33033,     0.33133,     0.33233,     0.33333,     0.33433,     0.33534,\n",
       "           0.33634,     0.33734,     0.33834,     0.33934,     0.34034,     0.34134,     0.34234,     0.34334,     0.34434,     0.34535,     0.34635,     0.34735,     0.34835,     0.34935,     0.35035,     0.35135,     0.35235,     0.35335,     0.35435,     0.35536,     0.35636,     0.35736,     0.35836,     0.35936,\n",
       "           0.36036,     0.36136,     0.36236,     0.36336,     0.36436,     0.36537,     0.36637,     0.36737,     0.36837,     0.36937,     0.37037,     0.37137,     0.37237,     0.37337,     0.37437,     0.37538,     0.37638,     0.37738,     0.37838,     0.37938,     0.38038,     0.38138,     0.38238,     0.38338,\n",
       "           0.38438,     0.38539,     0.38639,     0.38739,     0.38839,     0.38939,     0.39039,     0.39139,     0.39239,     0.39339,     0.39439,      0.3954,      0.3964,      0.3974,      0.3984,      0.3994,      0.4004,      0.4014,      0.4024,      0.4034,      0.4044,     0.40541,     0.40641,     0.40741,\n",
       "           0.40841,     0.40941,     0.41041,     0.41141,     0.41241,     0.41341,     0.41441,     0.41542,     0.41642,     0.41742,     0.41842,     0.41942,     0.42042,     0.42142,     0.42242,     0.42342,     0.42442,     0.42543,     0.42643,     0.42743,     0.42843,     0.42943,     0.43043,     0.43143,\n",
       "           0.43243,     0.43343,     0.43443,     0.43544,     0.43644,     0.43744,     0.43844,     0.43944,     0.44044,     0.44144,     0.44244,     0.44344,     0.44444,     0.44545,     0.44645,     0.44745,     0.44845,     0.44945,     0.45045,     0.45145,     0.45245,     0.45345,     0.45445,     0.45546,\n",
       "           0.45646,     0.45746,     0.45846,     0.45946,     0.46046,     0.46146,     0.46246,     0.46346,     0.46446,     0.46547,     0.46647,     0.46747,     0.46847,     0.46947,     0.47047,     0.47147,     0.47247,     0.47347,     0.47447,     0.47548,     0.47648,     0.47748,     0.47848,     0.47948,\n",
       "           0.48048,     0.48148,     0.48248,     0.48348,     0.48448,     0.48549,     0.48649,     0.48749,     0.48849,     0.48949,     0.49049,     0.49149,     0.49249,     0.49349,     0.49449,      0.4955,      0.4965,      0.4975,      0.4985,      0.4995,      0.5005,      0.5015,      0.5025,      0.5035,\n",
       "            0.5045,     0.50551,     0.50651,     0.50751,     0.50851,     0.50951,     0.51051,     0.51151,     0.51251,     0.51351,     0.51451,     0.51552,     0.51652,     0.51752,     0.51852,     0.51952,     0.52052,     0.52152,     0.52252,     0.52352,     0.52452,     0.52553,     0.52653,     0.52753,\n",
       "           0.52853,     0.52953,     0.53053,     0.53153,     0.53253,     0.53353,     0.53453,     0.53554,     0.53654,     0.53754,     0.53854,     0.53954,     0.54054,     0.54154,     0.54254,     0.54354,     0.54454,     0.54555,     0.54655,     0.54755,     0.54855,     0.54955,     0.55055,     0.55155,\n",
       "           0.55255,     0.55355,     0.55455,     0.55556,     0.55656,     0.55756,     0.55856,     0.55956,     0.56056,     0.56156,     0.56256,     0.56356,     0.56456,     0.56557,     0.56657,     0.56757,     0.56857,     0.56957,     0.57057,     0.57157,     0.57257,     0.57357,     0.57457,     0.57558,\n",
       "           0.57658,     0.57758,     0.57858,     0.57958,     0.58058,     0.58158,     0.58258,     0.58358,     0.58458,     0.58559,     0.58659,     0.58759,     0.58859,     0.58959,     0.59059,     0.59159,     0.59259,     0.59359,     0.59459,      0.5956,      0.5966,      0.5976,      0.5986,      0.5996,\n",
       "            0.6006,      0.6016,      0.6026,      0.6036,      0.6046,     0.60561,     0.60661,     0.60761,     0.60861,     0.60961,     0.61061,     0.61161,     0.61261,     0.61361,     0.61461,     0.61562,     0.61662,     0.61762,     0.61862,     0.61962,     0.62062,     0.62162,     0.62262,     0.62362,\n",
       "           0.62462,     0.62563,     0.62663,     0.62763,     0.62863,     0.62963,     0.63063,     0.63163,     0.63263,     0.63363,     0.63463,     0.63564,     0.63664,     0.63764,     0.63864,     0.63964,     0.64064,     0.64164,     0.64264,     0.64364,     0.64464,     0.64565,     0.64665,     0.64765,\n",
       "           0.64865,     0.64965,     0.65065,     0.65165,     0.65265,     0.65365,     0.65465,     0.65566,     0.65666,     0.65766,     0.65866,     0.65966,     0.66066,     0.66166,     0.66266,     0.66366,     0.66466,     0.66567,     0.66667,     0.66767,     0.66867,     0.66967,     0.67067,     0.67167,\n",
       "           0.67267,     0.67367,     0.67467,     0.67568,     0.67668,     0.67768,     0.67868,     0.67968,     0.68068,     0.68168,     0.68268,     0.68368,     0.68468,     0.68569,     0.68669,     0.68769,     0.68869,     0.68969,     0.69069,     0.69169,     0.69269,     0.69369,     0.69469,      0.6957,\n",
       "            0.6967,      0.6977,      0.6987,      0.6997,      0.7007,      0.7017,      0.7027,      0.7037,      0.7047,     0.70571,     0.70671,     0.70771,     0.70871,     0.70971,     0.71071,     0.71171,     0.71271,     0.71371,     0.71471,     0.71572,     0.71672,     0.71772,     0.71872,     0.71972,\n",
       "           0.72072,     0.72172,     0.72272,     0.72372,     0.72472,     0.72573,     0.72673,     0.72773,     0.72873,     0.72973,     0.73073,     0.73173,     0.73273,     0.73373,     0.73473,     0.73574,     0.73674,     0.73774,     0.73874,     0.73974,     0.74074,     0.74174,     0.74274,     0.74374,\n",
       "           0.74474,     0.74575,     0.74675,     0.74775,     0.74875,     0.74975,     0.75075,     0.75175,     0.75275,     0.75375,     0.75475,     0.75576,     0.75676,     0.75776,     0.75876,     0.75976,     0.76076,     0.76176,     0.76276,     0.76376,     0.76476,     0.76577,     0.76677,     0.76777,\n",
       "           0.76877,     0.76977,     0.77077,     0.77177,     0.77277,     0.77377,     0.77477,     0.77578,     0.77678,     0.77778,     0.77878,     0.77978,     0.78078,     0.78178,     0.78278,     0.78378,     0.78478,     0.78579,     0.78679,     0.78779,     0.78879,     0.78979,     0.79079,     0.79179,\n",
       "           0.79279,     0.79379,     0.79479,      0.7958,      0.7968,      0.7978,      0.7988,      0.7998,      0.8008,      0.8018,      0.8028,      0.8038,      0.8048,     0.80581,     0.80681,     0.80781,     0.80881,     0.80981,     0.81081,     0.81181,     0.81281,     0.81381,     0.81481,     0.81582,\n",
       "           0.81682,     0.81782,     0.81882,     0.81982,     0.82082,     0.82182,     0.82282,     0.82382,     0.82482,     0.82583,     0.82683,     0.82783,     0.82883,     0.82983,     0.83083,     0.83183,     0.83283,     0.83383,     0.83483,     0.83584,     0.83684,     0.83784,     0.83884,     0.83984,\n",
       "           0.84084,     0.84184,     0.84284,     0.84384,     0.84484,     0.84585,     0.84685,     0.84785,     0.84885,     0.84985,     0.85085,     0.85185,     0.85285,     0.85385,     0.85485,     0.85586,     0.85686,     0.85786,     0.85886,     0.85986,     0.86086,     0.86186,     0.86286,     0.86386,\n",
       "           0.86486,     0.86587,     0.86687,     0.86787,     0.86887,     0.86987,     0.87087,     0.87187,     0.87287,     0.87387,     0.87487,     0.87588,     0.87688,     0.87788,     0.87888,     0.87988,     0.88088,     0.88188,     0.88288,     0.88388,     0.88488,     0.88589,     0.88689,     0.88789,\n",
       "           0.88889,     0.88989,     0.89089,     0.89189,     0.89289,     0.89389,     0.89489,      0.8959,      0.8969,      0.8979,      0.8989,      0.8999,      0.9009,      0.9019,      0.9029,      0.9039,      0.9049,     0.90591,     0.90691,     0.90791,     0.90891,     0.90991,     0.91091,     0.91191,\n",
       "           0.91291,     0.91391,     0.91491,     0.91592,     0.91692,     0.91792,     0.91892,     0.91992,     0.92092,     0.92192,     0.92292,     0.92392,     0.92492,     0.92593,     0.92693,     0.92793,     0.92893,     0.92993,     0.93093,     0.93193,     0.93293,     0.93393,     0.93493,     0.93594,\n",
       "           0.93694,     0.93794,     0.93894,     0.93994,     0.94094,     0.94194,     0.94294,     0.94394,     0.94494,     0.94595,     0.94695,     0.94795,     0.94895,     0.94995,     0.95095,     0.95195,     0.95295,     0.95395,     0.95495,     0.95596,     0.95696,     0.95796,     0.95896,     0.95996,\n",
       "           0.96096,     0.96196,     0.96296,     0.96396,     0.96496,     0.96597,     0.96697,     0.96797,     0.96897,     0.96997,     0.97097,     0.97197,     0.97297,     0.97397,     0.97497,     0.97598,     0.97698,     0.97798,     0.97898,     0.97998,     0.98098,     0.98198,     0.98298,     0.98398,\n",
       "           0.98498,     0.98599,     0.98699,     0.98799,     0.98899,     0.98999,     0.99099,     0.99199,     0.99299,     0.99399,     0.99499,       0.996,       0.997,       0.998,       0.999,           1]), array([[          1,           1,           1, ...,           1,           1,           0],\n",
       "       [          1,           1,           1, ...,           1,           1,           0]]), 'Recall', 'Precision'], [array([          0,    0.001001,    0.002002,    0.003003,    0.004004,    0.005005,    0.006006,    0.007007,    0.008008,    0.009009,     0.01001,    0.011011,    0.012012,    0.013013,    0.014014,    0.015015,    0.016016,    0.017017,    0.018018,    0.019019,     0.02002,    0.021021,    0.022022,    0.023023,\n",
       "          0.024024,    0.025025,    0.026026,    0.027027,    0.028028,    0.029029,     0.03003,    0.031031,    0.032032,    0.033033,    0.034034,    0.035035,    0.036036,    0.037037,    0.038038,    0.039039,     0.04004,    0.041041,    0.042042,    0.043043,    0.044044,    0.045045,    0.046046,    0.047047,\n",
       "          0.048048,    0.049049,     0.05005,    0.051051,    0.052052,    0.053053,    0.054054,    0.055055,    0.056056,    0.057057,    0.058058,    0.059059,     0.06006,    0.061061,    0.062062,    0.063063,    0.064064,    0.065065,    0.066066,    0.067067,    0.068068,    0.069069,     0.07007,    0.071071,\n",
       "          0.072072,    0.073073,    0.074074,    0.075075,    0.076076,    0.077077,    0.078078,    0.079079,     0.08008,    0.081081,    0.082082,    0.083083,    0.084084,    0.085085,    0.086086,    0.087087,    0.088088,    0.089089,     0.09009,    0.091091,    0.092092,    0.093093,    0.094094,    0.095095,\n",
       "          0.096096,    0.097097,    0.098098,    0.099099,      0.1001,      0.1011,      0.1021,      0.1031,      0.1041,     0.10511,     0.10611,     0.10711,     0.10811,     0.10911,     0.11011,     0.11111,     0.11211,     0.11311,     0.11411,     0.11512,     0.11612,     0.11712,     0.11812,     0.11912,\n",
       "           0.12012,     0.12112,     0.12212,     0.12312,     0.12412,     0.12513,     0.12613,     0.12713,     0.12813,     0.12913,     0.13013,     0.13113,     0.13213,     0.13313,     0.13413,     0.13514,     0.13614,     0.13714,     0.13814,     0.13914,     0.14014,     0.14114,     0.14214,     0.14314,\n",
       "           0.14414,     0.14515,     0.14615,     0.14715,     0.14815,     0.14915,     0.15015,     0.15115,     0.15215,     0.15315,     0.15415,     0.15516,     0.15616,     0.15716,     0.15816,     0.15916,     0.16016,     0.16116,     0.16216,     0.16316,     0.16416,     0.16517,     0.16617,     0.16717,\n",
       "           0.16817,     0.16917,     0.17017,     0.17117,     0.17217,     0.17317,     0.17417,     0.17518,     0.17618,     0.17718,     0.17818,     0.17918,     0.18018,     0.18118,     0.18218,     0.18318,     0.18418,     0.18519,     0.18619,     0.18719,     0.18819,     0.18919,     0.19019,     0.19119,\n",
       "           0.19219,     0.19319,     0.19419,      0.1952,      0.1962,      0.1972,      0.1982,      0.1992,      0.2002,      0.2012,      0.2022,      0.2032,      0.2042,     0.20521,     0.20621,     0.20721,     0.20821,     0.20921,     0.21021,     0.21121,     0.21221,     0.21321,     0.21421,     0.21522,\n",
       "           0.21622,     0.21722,     0.21822,     0.21922,     0.22022,     0.22122,     0.22222,     0.22322,     0.22422,     0.22523,     0.22623,     0.22723,     0.22823,     0.22923,     0.23023,     0.23123,     0.23223,     0.23323,     0.23423,     0.23524,     0.23624,     0.23724,     0.23824,     0.23924,\n",
       "           0.24024,     0.24124,     0.24224,     0.24324,     0.24424,     0.24525,     0.24625,     0.24725,     0.24825,     0.24925,     0.25025,     0.25125,     0.25225,     0.25325,     0.25425,     0.25526,     0.25626,     0.25726,     0.25826,     0.25926,     0.26026,     0.26126,     0.26226,     0.26326,\n",
       "           0.26426,     0.26527,     0.26627,     0.26727,     0.26827,     0.26927,     0.27027,     0.27127,     0.27227,     0.27327,     0.27427,     0.27528,     0.27628,     0.27728,     0.27828,     0.27928,     0.28028,     0.28128,     0.28228,     0.28328,     0.28428,     0.28529,     0.28629,     0.28729,\n",
       "           0.28829,     0.28929,     0.29029,     0.29129,     0.29229,     0.29329,     0.29429,      0.2953,      0.2963,      0.2973,      0.2983,      0.2993,      0.3003,      0.3013,      0.3023,      0.3033,      0.3043,     0.30531,     0.30631,     0.30731,     0.30831,     0.30931,     0.31031,     0.31131,\n",
       "           0.31231,     0.31331,     0.31431,     0.31532,     0.31632,     0.31732,     0.31832,     0.31932,     0.32032,     0.32132,     0.32232,     0.32332,     0.32432,     0.32533,     0.32633,     0.32733,     0.32833,     0.32933,     0.33033,     0.33133,     0.33233,     0.33333,     0.33433,     0.33534,\n",
       "           0.33634,     0.33734,     0.33834,     0.33934,     0.34034,     0.34134,     0.34234,     0.34334,     0.34434,     0.34535,     0.34635,     0.34735,     0.34835,     0.34935,     0.35035,     0.35135,     0.35235,     0.35335,     0.35435,     0.35536,     0.35636,     0.35736,     0.35836,     0.35936,\n",
       "           0.36036,     0.36136,     0.36236,     0.36336,     0.36436,     0.36537,     0.36637,     0.36737,     0.36837,     0.36937,     0.37037,     0.37137,     0.37237,     0.37337,     0.37437,     0.37538,     0.37638,     0.37738,     0.37838,     0.37938,     0.38038,     0.38138,     0.38238,     0.38338,\n",
       "           0.38438,     0.38539,     0.38639,     0.38739,     0.38839,     0.38939,     0.39039,     0.39139,     0.39239,     0.39339,     0.39439,      0.3954,      0.3964,      0.3974,      0.3984,      0.3994,      0.4004,      0.4014,      0.4024,      0.4034,      0.4044,     0.40541,     0.40641,     0.40741,\n",
       "           0.40841,     0.40941,     0.41041,     0.41141,     0.41241,     0.41341,     0.41441,     0.41542,     0.41642,     0.41742,     0.41842,     0.41942,     0.42042,     0.42142,     0.42242,     0.42342,     0.42442,     0.42543,     0.42643,     0.42743,     0.42843,     0.42943,     0.43043,     0.43143,\n",
       "           0.43243,     0.43343,     0.43443,     0.43544,     0.43644,     0.43744,     0.43844,     0.43944,     0.44044,     0.44144,     0.44244,     0.44344,     0.44444,     0.44545,     0.44645,     0.44745,     0.44845,     0.44945,     0.45045,     0.45145,     0.45245,     0.45345,     0.45445,     0.45546,\n",
       "           0.45646,     0.45746,     0.45846,     0.45946,     0.46046,     0.46146,     0.46246,     0.46346,     0.46446,     0.46547,     0.46647,     0.46747,     0.46847,     0.46947,     0.47047,     0.47147,     0.47247,     0.47347,     0.47447,     0.47548,     0.47648,     0.47748,     0.47848,     0.47948,\n",
       "           0.48048,     0.48148,     0.48248,     0.48348,     0.48448,     0.48549,     0.48649,     0.48749,     0.48849,     0.48949,     0.49049,     0.49149,     0.49249,     0.49349,     0.49449,      0.4955,      0.4965,      0.4975,      0.4985,      0.4995,      0.5005,      0.5015,      0.5025,      0.5035,\n",
       "            0.5045,     0.50551,     0.50651,     0.50751,     0.50851,     0.50951,     0.51051,     0.51151,     0.51251,     0.51351,     0.51451,     0.51552,     0.51652,     0.51752,     0.51852,     0.51952,     0.52052,     0.52152,     0.52252,     0.52352,     0.52452,     0.52553,     0.52653,     0.52753,\n",
       "           0.52853,     0.52953,     0.53053,     0.53153,     0.53253,     0.53353,     0.53453,     0.53554,     0.53654,     0.53754,     0.53854,     0.53954,     0.54054,     0.54154,     0.54254,     0.54354,     0.54454,     0.54555,     0.54655,     0.54755,     0.54855,     0.54955,     0.55055,     0.55155,\n",
       "           0.55255,     0.55355,     0.55455,     0.55556,     0.55656,     0.55756,     0.55856,     0.55956,     0.56056,     0.56156,     0.56256,     0.56356,     0.56456,     0.56557,     0.56657,     0.56757,     0.56857,     0.56957,     0.57057,     0.57157,     0.57257,     0.57357,     0.57457,     0.57558,\n",
       "           0.57658,     0.57758,     0.57858,     0.57958,     0.58058,     0.58158,     0.58258,     0.58358,     0.58458,     0.58559,     0.58659,     0.58759,     0.58859,     0.58959,     0.59059,     0.59159,     0.59259,     0.59359,     0.59459,      0.5956,      0.5966,      0.5976,      0.5986,      0.5996,\n",
       "            0.6006,      0.6016,      0.6026,      0.6036,      0.6046,     0.60561,     0.60661,     0.60761,     0.60861,     0.60961,     0.61061,     0.61161,     0.61261,     0.61361,     0.61461,     0.61562,     0.61662,     0.61762,     0.61862,     0.61962,     0.62062,     0.62162,     0.62262,     0.62362,\n",
       "           0.62462,     0.62563,     0.62663,     0.62763,     0.62863,     0.62963,     0.63063,     0.63163,     0.63263,     0.63363,     0.63463,     0.63564,     0.63664,     0.63764,     0.63864,     0.63964,     0.64064,     0.64164,     0.64264,     0.64364,     0.64464,     0.64565,     0.64665,     0.64765,\n",
       "           0.64865,     0.64965,     0.65065,     0.65165,     0.65265,     0.65365,     0.65465,     0.65566,     0.65666,     0.65766,     0.65866,     0.65966,     0.66066,     0.66166,     0.66266,     0.66366,     0.66466,     0.66567,     0.66667,     0.66767,     0.66867,     0.66967,     0.67067,     0.67167,\n",
       "           0.67267,     0.67367,     0.67467,     0.67568,     0.67668,     0.67768,     0.67868,     0.67968,     0.68068,     0.68168,     0.68268,     0.68368,     0.68468,     0.68569,     0.68669,     0.68769,     0.68869,     0.68969,     0.69069,     0.69169,     0.69269,     0.69369,     0.69469,      0.6957,\n",
       "            0.6967,      0.6977,      0.6987,      0.6997,      0.7007,      0.7017,      0.7027,      0.7037,      0.7047,     0.70571,     0.70671,     0.70771,     0.70871,     0.70971,     0.71071,     0.71171,     0.71271,     0.71371,     0.71471,     0.71572,     0.71672,     0.71772,     0.71872,     0.71972,\n",
       "           0.72072,     0.72172,     0.72272,     0.72372,     0.72472,     0.72573,     0.72673,     0.72773,     0.72873,     0.72973,     0.73073,     0.73173,     0.73273,     0.73373,     0.73473,     0.73574,     0.73674,     0.73774,     0.73874,     0.73974,     0.74074,     0.74174,     0.74274,     0.74374,\n",
       "           0.74474,     0.74575,     0.74675,     0.74775,     0.74875,     0.74975,     0.75075,     0.75175,     0.75275,     0.75375,     0.75475,     0.75576,     0.75676,     0.75776,     0.75876,     0.75976,     0.76076,     0.76176,     0.76276,     0.76376,     0.76476,     0.76577,     0.76677,     0.76777,\n",
       "           0.76877,     0.76977,     0.77077,     0.77177,     0.77277,     0.77377,     0.77477,     0.77578,     0.77678,     0.77778,     0.77878,     0.77978,     0.78078,     0.78178,     0.78278,     0.78378,     0.78478,     0.78579,     0.78679,     0.78779,     0.78879,     0.78979,     0.79079,     0.79179,\n",
       "           0.79279,     0.79379,     0.79479,      0.7958,      0.7968,      0.7978,      0.7988,      0.7998,      0.8008,      0.8018,      0.8028,      0.8038,      0.8048,     0.80581,     0.80681,     0.80781,     0.80881,     0.80981,     0.81081,     0.81181,     0.81281,     0.81381,     0.81481,     0.81582,\n",
       "           0.81682,     0.81782,     0.81882,     0.81982,     0.82082,     0.82182,     0.82282,     0.82382,     0.82482,     0.82583,     0.82683,     0.82783,     0.82883,     0.82983,     0.83083,     0.83183,     0.83283,     0.83383,     0.83483,     0.83584,     0.83684,     0.83784,     0.83884,     0.83984,\n",
       "           0.84084,     0.84184,     0.84284,     0.84384,     0.84484,     0.84585,     0.84685,     0.84785,     0.84885,     0.84985,     0.85085,     0.85185,     0.85285,     0.85385,     0.85485,     0.85586,     0.85686,     0.85786,     0.85886,     0.85986,     0.86086,     0.86186,     0.86286,     0.86386,\n",
       "           0.86486,     0.86587,     0.86687,     0.86787,     0.86887,     0.86987,     0.87087,     0.87187,     0.87287,     0.87387,     0.87487,     0.87588,     0.87688,     0.87788,     0.87888,     0.87988,     0.88088,     0.88188,     0.88288,     0.88388,     0.88488,     0.88589,     0.88689,     0.88789,\n",
       "           0.88889,     0.88989,     0.89089,     0.89189,     0.89289,     0.89389,     0.89489,      0.8959,      0.8969,      0.8979,      0.8989,      0.8999,      0.9009,      0.9019,      0.9029,      0.9039,      0.9049,     0.90591,     0.90691,     0.90791,     0.90891,     0.90991,     0.91091,     0.91191,\n",
       "           0.91291,     0.91391,     0.91491,     0.91592,     0.91692,     0.91792,     0.91892,     0.91992,     0.92092,     0.92192,     0.92292,     0.92392,     0.92492,     0.92593,     0.92693,     0.92793,     0.92893,     0.92993,     0.93093,     0.93193,     0.93293,     0.93393,     0.93493,     0.93594,\n",
       "           0.93694,     0.93794,     0.93894,     0.93994,     0.94094,     0.94194,     0.94294,     0.94394,     0.94494,     0.94595,     0.94695,     0.94795,     0.94895,     0.94995,     0.95095,     0.95195,     0.95295,     0.95395,     0.95495,     0.95596,     0.95696,     0.95796,     0.95896,     0.95996,\n",
       "           0.96096,     0.96196,     0.96296,     0.96396,     0.96496,     0.96597,     0.96697,     0.96797,     0.96897,     0.96997,     0.97097,     0.97197,     0.97297,     0.97397,     0.97497,     0.97598,     0.97698,     0.97798,     0.97898,     0.97998,     0.98098,     0.98198,     0.98298,     0.98398,\n",
       "           0.98498,     0.98599,     0.98699,     0.98799,     0.98899,     0.98999,     0.99099,     0.99199,     0.99299,     0.99399,     0.99499,       0.996,       0.997,       0.998,       0.999,           1]), array([[        0.8,         0.8,     0.80025, ...,           0,           0,           0],\n",
       "       [    0.88889,     0.88889,     0.88889, ...,           0,           0,           0]]), 'Confidence', 'F1'], [array([          0,    0.001001,    0.002002,    0.003003,    0.004004,    0.005005,    0.006006,    0.007007,    0.008008,    0.009009,     0.01001,    0.011011,    0.012012,    0.013013,    0.014014,    0.015015,    0.016016,    0.017017,    0.018018,    0.019019,     0.02002,    0.021021,    0.022022,    0.023023,\n",
       "          0.024024,    0.025025,    0.026026,    0.027027,    0.028028,    0.029029,     0.03003,    0.031031,    0.032032,    0.033033,    0.034034,    0.035035,    0.036036,    0.037037,    0.038038,    0.039039,     0.04004,    0.041041,    0.042042,    0.043043,    0.044044,    0.045045,    0.046046,    0.047047,\n",
       "          0.048048,    0.049049,     0.05005,    0.051051,    0.052052,    0.053053,    0.054054,    0.055055,    0.056056,    0.057057,    0.058058,    0.059059,     0.06006,    0.061061,    0.062062,    0.063063,    0.064064,    0.065065,    0.066066,    0.067067,    0.068068,    0.069069,     0.07007,    0.071071,\n",
       "          0.072072,    0.073073,    0.074074,    0.075075,    0.076076,    0.077077,    0.078078,    0.079079,     0.08008,    0.081081,    0.082082,    0.083083,    0.084084,    0.085085,    0.086086,    0.087087,    0.088088,    0.089089,     0.09009,    0.091091,    0.092092,    0.093093,    0.094094,    0.095095,\n",
       "          0.096096,    0.097097,    0.098098,    0.099099,      0.1001,      0.1011,      0.1021,      0.1031,      0.1041,     0.10511,     0.10611,     0.10711,     0.10811,     0.10911,     0.11011,     0.11111,     0.11211,     0.11311,     0.11411,     0.11512,     0.11612,     0.11712,     0.11812,     0.11912,\n",
       "           0.12012,     0.12112,     0.12212,     0.12312,     0.12412,     0.12513,     0.12613,     0.12713,     0.12813,     0.12913,     0.13013,     0.13113,     0.13213,     0.13313,     0.13413,     0.13514,     0.13614,     0.13714,     0.13814,     0.13914,     0.14014,     0.14114,     0.14214,     0.14314,\n",
       "           0.14414,     0.14515,     0.14615,     0.14715,     0.14815,     0.14915,     0.15015,     0.15115,     0.15215,     0.15315,     0.15415,     0.15516,     0.15616,     0.15716,     0.15816,     0.15916,     0.16016,     0.16116,     0.16216,     0.16316,     0.16416,     0.16517,     0.16617,     0.16717,\n",
       "           0.16817,     0.16917,     0.17017,     0.17117,     0.17217,     0.17317,     0.17417,     0.17518,     0.17618,     0.17718,     0.17818,     0.17918,     0.18018,     0.18118,     0.18218,     0.18318,     0.18418,     0.18519,     0.18619,     0.18719,     0.18819,     0.18919,     0.19019,     0.19119,\n",
       "           0.19219,     0.19319,     0.19419,      0.1952,      0.1962,      0.1972,      0.1982,      0.1992,      0.2002,      0.2012,      0.2022,      0.2032,      0.2042,     0.20521,     0.20621,     0.20721,     0.20821,     0.20921,     0.21021,     0.21121,     0.21221,     0.21321,     0.21421,     0.21522,\n",
       "           0.21622,     0.21722,     0.21822,     0.21922,     0.22022,     0.22122,     0.22222,     0.22322,     0.22422,     0.22523,     0.22623,     0.22723,     0.22823,     0.22923,     0.23023,     0.23123,     0.23223,     0.23323,     0.23423,     0.23524,     0.23624,     0.23724,     0.23824,     0.23924,\n",
       "           0.24024,     0.24124,     0.24224,     0.24324,     0.24424,     0.24525,     0.24625,     0.24725,     0.24825,     0.24925,     0.25025,     0.25125,     0.25225,     0.25325,     0.25425,     0.25526,     0.25626,     0.25726,     0.25826,     0.25926,     0.26026,     0.26126,     0.26226,     0.26326,\n",
       "           0.26426,     0.26527,     0.26627,     0.26727,     0.26827,     0.26927,     0.27027,     0.27127,     0.27227,     0.27327,     0.27427,     0.27528,     0.27628,     0.27728,     0.27828,     0.27928,     0.28028,     0.28128,     0.28228,     0.28328,     0.28428,     0.28529,     0.28629,     0.28729,\n",
       "           0.28829,     0.28929,     0.29029,     0.29129,     0.29229,     0.29329,     0.29429,      0.2953,      0.2963,      0.2973,      0.2983,      0.2993,      0.3003,      0.3013,      0.3023,      0.3033,      0.3043,     0.30531,     0.30631,     0.30731,     0.30831,     0.30931,     0.31031,     0.31131,\n",
       "           0.31231,     0.31331,     0.31431,     0.31532,     0.31632,     0.31732,     0.31832,     0.31932,     0.32032,     0.32132,     0.32232,     0.32332,     0.32432,     0.32533,     0.32633,     0.32733,     0.32833,     0.32933,     0.33033,     0.33133,     0.33233,     0.33333,     0.33433,     0.33534,\n",
       "           0.33634,     0.33734,     0.33834,     0.33934,     0.34034,     0.34134,     0.34234,     0.34334,     0.34434,     0.34535,     0.34635,     0.34735,     0.34835,     0.34935,     0.35035,     0.35135,     0.35235,     0.35335,     0.35435,     0.35536,     0.35636,     0.35736,     0.35836,     0.35936,\n",
       "           0.36036,     0.36136,     0.36236,     0.36336,     0.36436,     0.36537,     0.36637,     0.36737,     0.36837,     0.36937,     0.37037,     0.37137,     0.37237,     0.37337,     0.37437,     0.37538,     0.37638,     0.37738,     0.37838,     0.37938,     0.38038,     0.38138,     0.38238,     0.38338,\n",
       "           0.38438,     0.38539,     0.38639,     0.38739,     0.38839,     0.38939,     0.39039,     0.39139,     0.39239,     0.39339,     0.39439,      0.3954,      0.3964,      0.3974,      0.3984,      0.3994,      0.4004,      0.4014,      0.4024,      0.4034,      0.4044,     0.40541,     0.40641,     0.40741,\n",
       "           0.40841,     0.40941,     0.41041,     0.41141,     0.41241,     0.41341,     0.41441,     0.41542,     0.41642,     0.41742,     0.41842,     0.41942,     0.42042,     0.42142,     0.42242,     0.42342,     0.42442,     0.42543,     0.42643,     0.42743,     0.42843,     0.42943,     0.43043,     0.43143,\n",
       "           0.43243,     0.43343,     0.43443,     0.43544,     0.43644,     0.43744,     0.43844,     0.43944,     0.44044,     0.44144,     0.44244,     0.44344,     0.44444,     0.44545,     0.44645,     0.44745,     0.44845,     0.44945,     0.45045,     0.45145,     0.45245,     0.45345,     0.45445,     0.45546,\n",
       "           0.45646,     0.45746,     0.45846,     0.45946,     0.46046,     0.46146,     0.46246,     0.46346,     0.46446,     0.46547,     0.46647,     0.46747,     0.46847,     0.46947,     0.47047,     0.47147,     0.47247,     0.47347,     0.47447,     0.47548,     0.47648,     0.47748,     0.47848,     0.47948,\n",
       "           0.48048,     0.48148,     0.48248,     0.48348,     0.48448,     0.48549,     0.48649,     0.48749,     0.48849,     0.48949,     0.49049,     0.49149,     0.49249,     0.49349,     0.49449,      0.4955,      0.4965,      0.4975,      0.4985,      0.4995,      0.5005,      0.5015,      0.5025,      0.5035,\n",
       "            0.5045,     0.50551,     0.50651,     0.50751,     0.50851,     0.50951,     0.51051,     0.51151,     0.51251,     0.51351,     0.51451,     0.51552,     0.51652,     0.51752,     0.51852,     0.51952,     0.52052,     0.52152,     0.52252,     0.52352,     0.52452,     0.52553,     0.52653,     0.52753,\n",
       "           0.52853,     0.52953,     0.53053,     0.53153,     0.53253,     0.53353,     0.53453,     0.53554,     0.53654,     0.53754,     0.53854,     0.53954,     0.54054,     0.54154,     0.54254,     0.54354,     0.54454,     0.54555,     0.54655,     0.54755,     0.54855,     0.54955,     0.55055,     0.55155,\n",
       "           0.55255,     0.55355,     0.55455,     0.55556,     0.55656,     0.55756,     0.55856,     0.55956,     0.56056,     0.56156,     0.56256,     0.56356,     0.56456,     0.56557,     0.56657,     0.56757,     0.56857,     0.56957,     0.57057,     0.57157,     0.57257,     0.57357,     0.57457,     0.57558,\n",
       "           0.57658,     0.57758,     0.57858,     0.57958,     0.58058,     0.58158,     0.58258,     0.58358,     0.58458,     0.58559,     0.58659,     0.58759,     0.58859,     0.58959,     0.59059,     0.59159,     0.59259,     0.59359,     0.59459,      0.5956,      0.5966,      0.5976,      0.5986,      0.5996,\n",
       "            0.6006,      0.6016,      0.6026,      0.6036,      0.6046,     0.60561,     0.60661,     0.60761,     0.60861,     0.60961,     0.61061,     0.61161,     0.61261,     0.61361,     0.61461,     0.61562,     0.61662,     0.61762,     0.61862,     0.61962,     0.62062,     0.62162,     0.62262,     0.62362,\n",
       "           0.62462,     0.62563,     0.62663,     0.62763,     0.62863,     0.62963,     0.63063,     0.63163,     0.63263,     0.63363,     0.63463,     0.63564,     0.63664,     0.63764,     0.63864,     0.63964,     0.64064,     0.64164,     0.64264,     0.64364,     0.64464,     0.64565,     0.64665,     0.64765,\n",
       "           0.64865,     0.64965,     0.65065,     0.65165,     0.65265,     0.65365,     0.65465,     0.65566,     0.65666,     0.65766,     0.65866,     0.65966,     0.66066,     0.66166,     0.66266,     0.66366,     0.66466,     0.66567,     0.66667,     0.66767,     0.66867,     0.66967,     0.67067,     0.67167,\n",
       "           0.67267,     0.67367,     0.67467,     0.67568,     0.67668,     0.67768,     0.67868,     0.67968,     0.68068,     0.68168,     0.68268,     0.68368,     0.68468,     0.68569,     0.68669,     0.68769,     0.68869,     0.68969,     0.69069,     0.69169,     0.69269,     0.69369,     0.69469,      0.6957,\n",
       "            0.6967,      0.6977,      0.6987,      0.6997,      0.7007,      0.7017,      0.7027,      0.7037,      0.7047,     0.70571,     0.70671,     0.70771,     0.70871,     0.70971,     0.71071,     0.71171,     0.71271,     0.71371,     0.71471,     0.71572,     0.71672,     0.71772,     0.71872,     0.71972,\n",
       "           0.72072,     0.72172,     0.72272,     0.72372,     0.72472,     0.72573,     0.72673,     0.72773,     0.72873,     0.72973,     0.73073,     0.73173,     0.73273,     0.73373,     0.73473,     0.73574,     0.73674,     0.73774,     0.73874,     0.73974,     0.74074,     0.74174,     0.74274,     0.74374,\n",
       "           0.74474,     0.74575,     0.74675,     0.74775,     0.74875,     0.74975,     0.75075,     0.75175,     0.75275,     0.75375,     0.75475,     0.75576,     0.75676,     0.75776,     0.75876,     0.75976,     0.76076,     0.76176,     0.76276,     0.76376,     0.76476,     0.76577,     0.76677,     0.76777,\n",
       "           0.76877,     0.76977,     0.77077,     0.77177,     0.77277,     0.77377,     0.77477,     0.77578,     0.77678,     0.77778,     0.77878,     0.77978,     0.78078,     0.78178,     0.78278,     0.78378,     0.78478,     0.78579,     0.78679,     0.78779,     0.78879,     0.78979,     0.79079,     0.79179,\n",
       "           0.79279,     0.79379,     0.79479,      0.7958,      0.7968,      0.7978,      0.7988,      0.7998,      0.8008,      0.8018,      0.8028,      0.8038,      0.8048,     0.80581,     0.80681,     0.80781,     0.80881,     0.80981,     0.81081,     0.81181,     0.81281,     0.81381,     0.81481,     0.81582,\n",
       "           0.81682,     0.81782,     0.81882,     0.81982,     0.82082,     0.82182,     0.82282,     0.82382,     0.82482,     0.82583,     0.82683,     0.82783,     0.82883,     0.82983,     0.83083,     0.83183,     0.83283,     0.83383,     0.83483,     0.83584,     0.83684,     0.83784,     0.83884,     0.83984,\n",
       "           0.84084,     0.84184,     0.84284,     0.84384,     0.84484,     0.84585,     0.84685,     0.84785,     0.84885,     0.84985,     0.85085,     0.85185,     0.85285,     0.85385,     0.85485,     0.85586,     0.85686,     0.85786,     0.85886,     0.85986,     0.86086,     0.86186,     0.86286,     0.86386,\n",
       "           0.86486,     0.86587,     0.86687,     0.86787,     0.86887,     0.86987,     0.87087,     0.87187,     0.87287,     0.87387,     0.87487,     0.87588,     0.87688,     0.87788,     0.87888,     0.87988,     0.88088,     0.88188,     0.88288,     0.88388,     0.88488,     0.88589,     0.88689,     0.88789,\n",
       "           0.88889,     0.88989,     0.89089,     0.89189,     0.89289,     0.89389,     0.89489,      0.8959,      0.8969,      0.8979,      0.8989,      0.8999,      0.9009,      0.9019,      0.9029,      0.9039,      0.9049,     0.90591,     0.90691,     0.90791,     0.90891,     0.90991,     0.91091,     0.91191,\n",
       "           0.91291,     0.91391,     0.91491,     0.91592,     0.91692,     0.91792,     0.91892,     0.91992,     0.92092,     0.92192,     0.92292,     0.92392,     0.92492,     0.92593,     0.92693,     0.92793,     0.92893,     0.92993,     0.93093,     0.93193,     0.93293,     0.93393,     0.93493,     0.93594,\n",
       "           0.93694,     0.93794,     0.93894,     0.93994,     0.94094,     0.94194,     0.94294,     0.94394,     0.94494,     0.94595,     0.94695,     0.94795,     0.94895,     0.94995,     0.95095,     0.95195,     0.95295,     0.95395,     0.95495,     0.95596,     0.95696,     0.95796,     0.95896,     0.95996,\n",
       "           0.96096,     0.96196,     0.96296,     0.96396,     0.96496,     0.96597,     0.96697,     0.96797,     0.96897,     0.96997,     0.97097,     0.97197,     0.97297,     0.97397,     0.97497,     0.97598,     0.97698,     0.97798,     0.97898,     0.97998,     0.98098,     0.98198,     0.98298,     0.98398,\n",
       "           0.98498,     0.98599,     0.98699,     0.98799,     0.98899,     0.98999,     0.99099,     0.99199,     0.99299,     0.99399,     0.99499,       0.996,       0.997,       0.998,       0.999,           1]), array([[    0.66667,     0.66667,     0.66702, ...,           1,           1,           1],\n",
       "       [        0.8,         0.8,         0.8, ...,           1,           1,           1]]), 'Confidence', 'Precision'], [array([          0,    0.001001,    0.002002,    0.003003,    0.004004,    0.005005,    0.006006,    0.007007,    0.008008,    0.009009,     0.01001,    0.011011,    0.012012,    0.013013,    0.014014,    0.015015,    0.016016,    0.017017,    0.018018,    0.019019,     0.02002,    0.021021,    0.022022,    0.023023,\n",
       "          0.024024,    0.025025,    0.026026,    0.027027,    0.028028,    0.029029,     0.03003,    0.031031,    0.032032,    0.033033,    0.034034,    0.035035,    0.036036,    0.037037,    0.038038,    0.039039,     0.04004,    0.041041,    0.042042,    0.043043,    0.044044,    0.045045,    0.046046,    0.047047,\n",
       "          0.048048,    0.049049,     0.05005,    0.051051,    0.052052,    0.053053,    0.054054,    0.055055,    0.056056,    0.057057,    0.058058,    0.059059,     0.06006,    0.061061,    0.062062,    0.063063,    0.064064,    0.065065,    0.066066,    0.067067,    0.068068,    0.069069,     0.07007,    0.071071,\n",
       "          0.072072,    0.073073,    0.074074,    0.075075,    0.076076,    0.077077,    0.078078,    0.079079,     0.08008,    0.081081,    0.082082,    0.083083,    0.084084,    0.085085,    0.086086,    0.087087,    0.088088,    0.089089,     0.09009,    0.091091,    0.092092,    0.093093,    0.094094,    0.095095,\n",
       "          0.096096,    0.097097,    0.098098,    0.099099,      0.1001,      0.1011,      0.1021,      0.1031,      0.1041,     0.10511,     0.10611,     0.10711,     0.10811,     0.10911,     0.11011,     0.11111,     0.11211,     0.11311,     0.11411,     0.11512,     0.11612,     0.11712,     0.11812,     0.11912,\n",
       "           0.12012,     0.12112,     0.12212,     0.12312,     0.12412,     0.12513,     0.12613,     0.12713,     0.12813,     0.12913,     0.13013,     0.13113,     0.13213,     0.13313,     0.13413,     0.13514,     0.13614,     0.13714,     0.13814,     0.13914,     0.14014,     0.14114,     0.14214,     0.14314,\n",
       "           0.14414,     0.14515,     0.14615,     0.14715,     0.14815,     0.14915,     0.15015,     0.15115,     0.15215,     0.15315,     0.15415,     0.15516,     0.15616,     0.15716,     0.15816,     0.15916,     0.16016,     0.16116,     0.16216,     0.16316,     0.16416,     0.16517,     0.16617,     0.16717,\n",
       "           0.16817,     0.16917,     0.17017,     0.17117,     0.17217,     0.17317,     0.17417,     0.17518,     0.17618,     0.17718,     0.17818,     0.17918,     0.18018,     0.18118,     0.18218,     0.18318,     0.18418,     0.18519,     0.18619,     0.18719,     0.18819,     0.18919,     0.19019,     0.19119,\n",
       "           0.19219,     0.19319,     0.19419,      0.1952,      0.1962,      0.1972,      0.1982,      0.1992,      0.2002,      0.2012,      0.2022,      0.2032,      0.2042,     0.20521,     0.20621,     0.20721,     0.20821,     0.20921,     0.21021,     0.21121,     0.21221,     0.21321,     0.21421,     0.21522,\n",
       "           0.21622,     0.21722,     0.21822,     0.21922,     0.22022,     0.22122,     0.22222,     0.22322,     0.22422,     0.22523,     0.22623,     0.22723,     0.22823,     0.22923,     0.23023,     0.23123,     0.23223,     0.23323,     0.23423,     0.23524,     0.23624,     0.23724,     0.23824,     0.23924,\n",
       "           0.24024,     0.24124,     0.24224,     0.24324,     0.24424,     0.24525,     0.24625,     0.24725,     0.24825,     0.24925,     0.25025,     0.25125,     0.25225,     0.25325,     0.25425,     0.25526,     0.25626,     0.25726,     0.25826,     0.25926,     0.26026,     0.26126,     0.26226,     0.26326,\n",
       "           0.26426,     0.26527,     0.26627,     0.26727,     0.26827,     0.26927,     0.27027,     0.27127,     0.27227,     0.27327,     0.27427,     0.27528,     0.27628,     0.27728,     0.27828,     0.27928,     0.28028,     0.28128,     0.28228,     0.28328,     0.28428,     0.28529,     0.28629,     0.28729,\n",
       "           0.28829,     0.28929,     0.29029,     0.29129,     0.29229,     0.29329,     0.29429,      0.2953,      0.2963,      0.2973,      0.2983,      0.2993,      0.3003,      0.3013,      0.3023,      0.3033,      0.3043,     0.30531,     0.30631,     0.30731,     0.30831,     0.30931,     0.31031,     0.31131,\n",
       "           0.31231,     0.31331,     0.31431,     0.31532,     0.31632,     0.31732,     0.31832,     0.31932,     0.32032,     0.32132,     0.32232,     0.32332,     0.32432,     0.32533,     0.32633,     0.32733,     0.32833,     0.32933,     0.33033,     0.33133,     0.33233,     0.33333,     0.33433,     0.33534,\n",
       "           0.33634,     0.33734,     0.33834,     0.33934,     0.34034,     0.34134,     0.34234,     0.34334,     0.34434,     0.34535,     0.34635,     0.34735,     0.34835,     0.34935,     0.35035,     0.35135,     0.35235,     0.35335,     0.35435,     0.35536,     0.35636,     0.35736,     0.35836,     0.35936,\n",
       "           0.36036,     0.36136,     0.36236,     0.36336,     0.36436,     0.36537,     0.36637,     0.36737,     0.36837,     0.36937,     0.37037,     0.37137,     0.37237,     0.37337,     0.37437,     0.37538,     0.37638,     0.37738,     0.37838,     0.37938,     0.38038,     0.38138,     0.38238,     0.38338,\n",
       "           0.38438,     0.38539,     0.38639,     0.38739,     0.38839,     0.38939,     0.39039,     0.39139,     0.39239,     0.39339,     0.39439,      0.3954,      0.3964,      0.3974,      0.3984,      0.3994,      0.4004,      0.4014,      0.4024,      0.4034,      0.4044,     0.40541,     0.40641,     0.40741,\n",
       "           0.40841,     0.40941,     0.41041,     0.41141,     0.41241,     0.41341,     0.41441,     0.41542,     0.41642,     0.41742,     0.41842,     0.41942,     0.42042,     0.42142,     0.42242,     0.42342,     0.42442,     0.42543,     0.42643,     0.42743,     0.42843,     0.42943,     0.43043,     0.43143,\n",
       "           0.43243,     0.43343,     0.43443,     0.43544,     0.43644,     0.43744,     0.43844,     0.43944,     0.44044,     0.44144,     0.44244,     0.44344,     0.44444,     0.44545,     0.44645,     0.44745,     0.44845,     0.44945,     0.45045,     0.45145,     0.45245,     0.45345,     0.45445,     0.45546,\n",
       "           0.45646,     0.45746,     0.45846,     0.45946,     0.46046,     0.46146,     0.46246,     0.46346,     0.46446,     0.46547,     0.46647,     0.46747,     0.46847,     0.46947,     0.47047,     0.47147,     0.47247,     0.47347,     0.47447,     0.47548,     0.47648,     0.47748,     0.47848,     0.47948,\n",
       "           0.48048,     0.48148,     0.48248,     0.48348,     0.48448,     0.48549,     0.48649,     0.48749,     0.48849,     0.48949,     0.49049,     0.49149,     0.49249,     0.49349,     0.49449,      0.4955,      0.4965,      0.4975,      0.4985,      0.4995,      0.5005,      0.5015,      0.5025,      0.5035,\n",
       "            0.5045,     0.50551,     0.50651,     0.50751,     0.50851,     0.50951,     0.51051,     0.51151,     0.51251,     0.51351,     0.51451,     0.51552,     0.51652,     0.51752,     0.51852,     0.51952,     0.52052,     0.52152,     0.52252,     0.52352,     0.52452,     0.52553,     0.52653,     0.52753,\n",
       "           0.52853,     0.52953,     0.53053,     0.53153,     0.53253,     0.53353,     0.53453,     0.53554,     0.53654,     0.53754,     0.53854,     0.53954,     0.54054,     0.54154,     0.54254,     0.54354,     0.54454,     0.54555,     0.54655,     0.54755,     0.54855,     0.54955,     0.55055,     0.55155,\n",
       "           0.55255,     0.55355,     0.55455,     0.55556,     0.55656,     0.55756,     0.55856,     0.55956,     0.56056,     0.56156,     0.56256,     0.56356,     0.56456,     0.56557,     0.56657,     0.56757,     0.56857,     0.56957,     0.57057,     0.57157,     0.57257,     0.57357,     0.57457,     0.57558,\n",
       "           0.57658,     0.57758,     0.57858,     0.57958,     0.58058,     0.58158,     0.58258,     0.58358,     0.58458,     0.58559,     0.58659,     0.58759,     0.58859,     0.58959,     0.59059,     0.59159,     0.59259,     0.59359,     0.59459,      0.5956,      0.5966,      0.5976,      0.5986,      0.5996,\n",
       "            0.6006,      0.6016,      0.6026,      0.6036,      0.6046,     0.60561,     0.60661,     0.60761,     0.60861,     0.60961,     0.61061,     0.61161,     0.61261,     0.61361,     0.61461,     0.61562,     0.61662,     0.61762,     0.61862,     0.61962,     0.62062,     0.62162,     0.62262,     0.62362,\n",
       "           0.62462,     0.62563,     0.62663,     0.62763,     0.62863,     0.62963,     0.63063,     0.63163,     0.63263,     0.63363,     0.63463,     0.63564,     0.63664,     0.63764,     0.63864,     0.63964,     0.64064,     0.64164,     0.64264,     0.64364,     0.64464,     0.64565,     0.64665,     0.64765,\n",
       "           0.64865,     0.64965,     0.65065,     0.65165,     0.65265,     0.65365,     0.65465,     0.65566,     0.65666,     0.65766,     0.65866,     0.65966,     0.66066,     0.66166,     0.66266,     0.66366,     0.66466,     0.66567,     0.66667,     0.66767,     0.66867,     0.66967,     0.67067,     0.67167,\n",
       "           0.67267,     0.67367,     0.67467,     0.67568,     0.67668,     0.67768,     0.67868,     0.67968,     0.68068,     0.68168,     0.68268,     0.68368,     0.68468,     0.68569,     0.68669,     0.68769,     0.68869,     0.68969,     0.69069,     0.69169,     0.69269,     0.69369,     0.69469,      0.6957,\n",
       "            0.6967,      0.6977,      0.6987,      0.6997,      0.7007,      0.7017,      0.7027,      0.7037,      0.7047,     0.70571,     0.70671,     0.70771,     0.70871,     0.70971,     0.71071,     0.71171,     0.71271,     0.71371,     0.71471,     0.71572,     0.71672,     0.71772,     0.71872,     0.71972,\n",
       "           0.72072,     0.72172,     0.72272,     0.72372,     0.72472,     0.72573,     0.72673,     0.72773,     0.72873,     0.72973,     0.73073,     0.73173,     0.73273,     0.73373,     0.73473,     0.73574,     0.73674,     0.73774,     0.73874,     0.73974,     0.74074,     0.74174,     0.74274,     0.74374,\n",
       "           0.74474,     0.74575,     0.74675,     0.74775,     0.74875,     0.74975,     0.75075,     0.75175,     0.75275,     0.75375,     0.75475,     0.75576,     0.75676,     0.75776,     0.75876,     0.75976,     0.76076,     0.76176,     0.76276,     0.76376,     0.76476,     0.76577,     0.76677,     0.76777,\n",
       "           0.76877,     0.76977,     0.77077,     0.77177,     0.77277,     0.77377,     0.77477,     0.77578,     0.77678,     0.77778,     0.77878,     0.77978,     0.78078,     0.78178,     0.78278,     0.78378,     0.78478,     0.78579,     0.78679,     0.78779,     0.78879,     0.78979,     0.79079,     0.79179,\n",
       "           0.79279,     0.79379,     0.79479,      0.7958,      0.7968,      0.7978,      0.7988,      0.7998,      0.8008,      0.8018,      0.8028,      0.8038,      0.8048,     0.80581,     0.80681,     0.80781,     0.80881,     0.80981,     0.81081,     0.81181,     0.81281,     0.81381,     0.81481,     0.81582,\n",
       "           0.81682,     0.81782,     0.81882,     0.81982,     0.82082,     0.82182,     0.82282,     0.82382,     0.82482,     0.82583,     0.82683,     0.82783,     0.82883,     0.82983,     0.83083,     0.83183,     0.83283,     0.83383,     0.83483,     0.83584,     0.83684,     0.83784,     0.83884,     0.83984,\n",
       "           0.84084,     0.84184,     0.84284,     0.84384,     0.84484,     0.84585,     0.84685,     0.84785,     0.84885,     0.84985,     0.85085,     0.85185,     0.85285,     0.85385,     0.85485,     0.85586,     0.85686,     0.85786,     0.85886,     0.85986,     0.86086,     0.86186,     0.86286,     0.86386,\n",
       "           0.86486,     0.86587,     0.86687,     0.86787,     0.86887,     0.86987,     0.87087,     0.87187,     0.87287,     0.87387,     0.87487,     0.87588,     0.87688,     0.87788,     0.87888,     0.87988,     0.88088,     0.88188,     0.88288,     0.88388,     0.88488,     0.88589,     0.88689,     0.88789,\n",
       "           0.88889,     0.88989,     0.89089,     0.89189,     0.89289,     0.89389,     0.89489,      0.8959,      0.8969,      0.8979,      0.8989,      0.8999,      0.9009,      0.9019,      0.9029,      0.9039,      0.9049,     0.90591,     0.90691,     0.90791,     0.90891,     0.90991,     0.91091,     0.91191,\n",
       "           0.91291,     0.91391,     0.91491,     0.91592,     0.91692,     0.91792,     0.91892,     0.91992,     0.92092,     0.92192,     0.92292,     0.92392,     0.92492,     0.92593,     0.92693,     0.92793,     0.92893,     0.92993,     0.93093,     0.93193,     0.93293,     0.93393,     0.93493,     0.93594,\n",
       "           0.93694,     0.93794,     0.93894,     0.93994,     0.94094,     0.94194,     0.94294,     0.94394,     0.94494,     0.94595,     0.94695,     0.94795,     0.94895,     0.94995,     0.95095,     0.95195,     0.95295,     0.95395,     0.95495,     0.95596,     0.95696,     0.95796,     0.95896,     0.95996,\n",
       "           0.96096,     0.96196,     0.96296,     0.96396,     0.96496,     0.96597,     0.96697,     0.96797,     0.96897,     0.96997,     0.97097,     0.97197,     0.97297,     0.97397,     0.97497,     0.97598,     0.97698,     0.97798,     0.97898,     0.97998,     0.98098,     0.98198,     0.98298,     0.98398,\n",
       "           0.98498,     0.98599,     0.98699,     0.98799,     0.98899,     0.98999,     0.99099,     0.99199,     0.99299,     0.99399,     0.99499,       0.996,       0.997,       0.998,       0.999,           1]), array([[          1,           1,           1, ...,           0,           0,           0],\n",
       "       [          1,           1,           1, ...,           0,           0,           0]]), 'Confidence', 'Recall'], [array([          0,    0.001001,    0.002002,    0.003003,    0.004004,    0.005005,    0.006006,    0.007007,    0.008008,    0.009009,     0.01001,    0.011011,    0.012012,    0.013013,    0.014014,    0.015015,    0.016016,    0.017017,    0.018018,    0.019019,     0.02002,    0.021021,    0.022022,    0.023023,\n",
       "          0.024024,    0.025025,    0.026026,    0.027027,    0.028028,    0.029029,     0.03003,    0.031031,    0.032032,    0.033033,    0.034034,    0.035035,    0.036036,    0.037037,    0.038038,    0.039039,     0.04004,    0.041041,    0.042042,    0.043043,    0.044044,    0.045045,    0.046046,    0.047047,\n",
       "          0.048048,    0.049049,     0.05005,    0.051051,    0.052052,    0.053053,    0.054054,    0.055055,    0.056056,    0.057057,    0.058058,    0.059059,     0.06006,    0.061061,    0.062062,    0.063063,    0.064064,    0.065065,    0.066066,    0.067067,    0.068068,    0.069069,     0.07007,    0.071071,\n",
       "          0.072072,    0.073073,    0.074074,    0.075075,    0.076076,    0.077077,    0.078078,    0.079079,     0.08008,    0.081081,    0.082082,    0.083083,    0.084084,    0.085085,    0.086086,    0.087087,    0.088088,    0.089089,     0.09009,    0.091091,    0.092092,    0.093093,    0.094094,    0.095095,\n",
       "          0.096096,    0.097097,    0.098098,    0.099099,      0.1001,      0.1011,      0.1021,      0.1031,      0.1041,     0.10511,     0.10611,     0.10711,     0.10811,     0.10911,     0.11011,     0.11111,     0.11211,     0.11311,     0.11411,     0.11512,     0.11612,     0.11712,     0.11812,     0.11912,\n",
       "           0.12012,     0.12112,     0.12212,     0.12312,     0.12412,     0.12513,     0.12613,     0.12713,     0.12813,     0.12913,     0.13013,     0.13113,     0.13213,     0.13313,     0.13413,     0.13514,     0.13614,     0.13714,     0.13814,     0.13914,     0.14014,     0.14114,     0.14214,     0.14314,\n",
       "           0.14414,     0.14515,     0.14615,     0.14715,     0.14815,     0.14915,     0.15015,     0.15115,     0.15215,     0.15315,     0.15415,     0.15516,     0.15616,     0.15716,     0.15816,     0.15916,     0.16016,     0.16116,     0.16216,     0.16316,     0.16416,     0.16517,     0.16617,     0.16717,\n",
       "           0.16817,     0.16917,     0.17017,     0.17117,     0.17217,     0.17317,     0.17417,     0.17518,     0.17618,     0.17718,     0.17818,     0.17918,     0.18018,     0.18118,     0.18218,     0.18318,     0.18418,     0.18519,     0.18619,     0.18719,     0.18819,     0.18919,     0.19019,     0.19119,\n",
       "           0.19219,     0.19319,     0.19419,      0.1952,      0.1962,      0.1972,      0.1982,      0.1992,      0.2002,      0.2012,      0.2022,      0.2032,      0.2042,     0.20521,     0.20621,     0.20721,     0.20821,     0.20921,     0.21021,     0.21121,     0.21221,     0.21321,     0.21421,     0.21522,\n",
       "           0.21622,     0.21722,     0.21822,     0.21922,     0.22022,     0.22122,     0.22222,     0.22322,     0.22422,     0.22523,     0.22623,     0.22723,     0.22823,     0.22923,     0.23023,     0.23123,     0.23223,     0.23323,     0.23423,     0.23524,     0.23624,     0.23724,     0.23824,     0.23924,\n",
       "           0.24024,     0.24124,     0.24224,     0.24324,     0.24424,     0.24525,     0.24625,     0.24725,     0.24825,     0.24925,     0.25025,     0.25125,     0.25225,     0.25325,     0.25425,     0.25526,     0.25626,     0.25726,     0.25826,     0.25926,     0.26026,     0.26126,     0.26226,     0.26326,\n",
       "           0.26426,     0.26527,     0.26627,     0.26727,     0.26827,     0.26927,     0.27027,     0.27127,     0.27227,     0.27327,     0.27427,     0.27528,     0.27628,     0.27728,     0.27828,     0.27928,     0.28028,     0.28128,     0.28228,     0.28328,     0.28428,     0.28529,     0.28629,     0.28729,\n",
       "           0.28829,     0.28929,     0.29029,     0.29129,     0.29229,     0.29329,     0.29429,      0.2953,      0.2963,      0.2973,      0.2983,      0.2993,      0.3003,      0.3013,      0.3023,      0.3033,      0.3043,     0.30531,     0.30631,     0.30731,     0.30831,     0.30931,     0.31031,     0.31131,\n",
       "           0.31231,     0.31331,     0.31431,     0.31532,     0.31632,     0.31732,     0.31832,     0.31932,     0.32032,     0.32132,     0.32232,     0.32332,     0.32432,     0.32533,     0.32633,     0.32733,     0.32833,     0.32933,     0.33033,     0.33133,     0.33233,     0.33333,     0.33433,     0.33534,\n",
       "           0.33634,     0.33734,     0.33834,     0.33934,     0.34034,     0.34134,     0.34234,     0.34334,     0.34434,     0.34535,     0.34635,     0.34735,     0.34835,     0.34935,     0.35035,     0.35135,     0.35235,     0.35335,     0.35435,     0.35536,     0.35636,     0.35736,     0.35836,     0.35936,\n",
       "           0.36036,     0.36136,     0.36236,     0.36336,     0.36436,     0.36537,     0.36637,     0.36737,     0.36837,     0.36937,     0.37037,     0.37137,     0.37237,     0.37337,     0.37437,     0.37538,     0.37638,     0.37738,     0.37838,     0.37938,     0.38038,     0.38138,     0.38238,     0.38338,\n",
       "           0.38438,     0.38539,     0.38639,     0.38739,     0.38839,     0.38939,     0.39039,     0.39139,     0.39239,     0.39339,     0.39439,      0.3954,      0.3964,      0.3974,      0.3984,      0.3994,      0.4004,      0.4014,      0.4024,      0.4034,      0.4044,     0.40541,     0.40641,     0.40741,\n",
       "           0.40841,     0.40941,     0.41041,     0.41141,     0.41241,     0.41341,     0.41441,     0.41542,     0.41642,     0.41742,     0.41842,     0.41942,     0.42042,     0.42142,     0.42242,     0.42342,     0.42442,     0.42543,     0.42643,     0.42743,     0.42843,     0.42943,     0.43043,     0.43143,\n",
       "           0.43243,     0.43343,     0.43443,     0.43544,     0.43644,     0.43744,     0.43844,     0.43944,     0.44044,     0.44144,     0.44244,     0.44344,     0.44444,     0.44545,     0.44645,     0.44745,     0.44845,     0.44945,     0.45045,     0.45145,     0.45245,     0.45345,     0.45445,     0.45546,\n",
       "           0.45646,     0.45746,     0.45846,     0.45946,     0.46046,     0.46146,     0.46246,     0.46346,     0.46446,     0.46547,     0.46647,     0.46747,     0.46847,     0.46947,     0.47047,     0.47147,     0.47247,     0.47347,     0.47447,     0.47548,     0.47648,     0.47748,     0.47848,     0.47948,\n",
       "           0.48048,     0.48148,     0.48248,     0.48348,     0.48448,     0.48549,     0.48649,     0.48749,     0.48849,     0.48949,     0.49049,     0.49149,     0.49249,     0.49349,     0.49449,      0.4955,      0.4965,      0.4975,      0.4985,      0.4995,      0.5005,      0.5015,      0.5025,      0.5035,\n",
       "            0.5045,     0.50551,     0.50651,     0.50751,     0.50851,     0.50951,     0.51051,     0.51151,     0.51251,     0.51351,     0.51451,     0.51552,     0.51652,     0.51752,     0.51852,     0.51952,     0.52052,     0.52152,     0.52252,     0.52352,     0.52452,     0.52553,     0.52653,     0.52753,\n",
       "           0.52853,     0.52953,     0.53053,     0.53153,     0.53253,     0.53353,     0.53453,     0.53554,     0.53654,     0.53754,     0.53854,     0.53954,     0.54054,     0.54154,     0.54254,     0.54354,     0.54454,     0.54555,     0.54655,     0.54755,     0.54855,     0.54955,     0.55055,     0.55155,\n",
       "           0.55255,     0.55355,     0.55455,     0.55556,     0.55656,     0.55756,     0.55856,     0.55956,     0.56056,     0.56156,     0.56256,     0.56356,     0.56456,     0.56557,     0.56657,     0.56757,     0.56857,     0.56957,     0.57057,     0.57157,     0.57257,     0.57357,     0.57457,     0.57558,\n",
       "           0.57658,     0.57758,     0.57858,     0.57958,     0.58058,     0.58158,     0.58258,     0.58358,     0.58458,     0.58559,     0.58659,     0.58759,     0.58859,     0.58959,     0.59059,     0.59159,     0.59259,     0.59359,     0.59459,      0.5956,      0.5966,      0.5976,      0.5986,      0.5996,\n",
       "            0.6006,      0.6016,      0.6026,      0.6036,      0.6046,     0.60561,     0.60661,     0.60761,     0.60861,     0.60961,     0.61061,     0.61161,     0.61261,     0.61361,     0.61461,     0.61562,     0.61662,     0.61762,     0.61862,     0.61962,     0.62062,     0.62162,     0.62262,     0.62362,\n",
       "           0.62462,     0.62563,     0.62663,     0.62763,     0.62863,     0.62963,     0.63063,     0.63163,     0.63263,     0.63363,     0.63463,     0.63564,     0.63664,     0.63764,     0.63864,     0.63964,     0.64064,     0.64164,     0.64264,     0.64364,     0.64464,     0.64565,     0.64665,     0.64765,\n",
       "           0.64865,     0.64965,     0.65065,     0.65165,     0.65265,     0.65365,     0.65465,     0.65566,     0.65666,     0.65766,     0.65866,     0.65966,     0.66066,     0.66166,     0.66266,     0.66366,     0.66466,     0.66567,     0.66667,     0.66767,     0.66867,     0.66967,     0.67067,     0.67167,\n",
       "           0.67267,     0.67367,     0.67467,     0.67568,     0.67668,     0.67768,     0.67868,     0.67968,     0.68068,     0.68168,     0.68268,     0.68368,     0.68468,     0.68569,     0.68669,     0.68769,     0.68869,     0.68969,     0.69069,     0.69169,     0.69269,     0.69369,     0.69469,      0.6957,\n",
       "            0.6967,      0.6977,      0.6987,      0.6997,      0.7007,      0.7017,      0.7027,      0.7037,      0.7047,     0.70571,     0.70671,     0.70771,     0.70871,     0.70971,     0.71071,     0.71171,     0.71271,     0.71371,     0.71471,     0.71572,     0.71672,     0.71772,     0.71872,     0.71972,\n",
       "           0.72072,     0.72172,     0.72272,     0.72372,     0.72472,     0.72573,     0.72673,     0.72773,     0.72873,     0.72973,     0.73073,     0.73173,     0.73273,     0.73373,     0.73473,     0.73574,     0.73674,     0.73774,     0.73874,     0.73974,     0.74074,     0.74174,     0.74274,     0.74374,\n",
       "           0.74474,     0.74575,     0.74675,     0.74775,     0.74875,     0.74975,     0.75075,     0.75175,     0.75275,     0.75375,     0.75475,     0.75576,     0.75676,     0.75776,     0.75876,     0.75976,     0.76076,     0.76176,     0.76276,     0.76376,     0.76476,     0.76577,     0.76677,     0.76777,\n",
       "           0.76877,     0.76977,     0.77077,     0.77177,     0.77277,     0.77377,     0.77477,     0.77578,     0.77678,     0.77778,     0.77878,     0.77978,     0.78078,     0.78178,     0.78278,     0.78378,     0.78478,     0.78579,     0.78679,     0.78779,     0.78879,     0.78979,     0.79079,     0.79179,\n",
       "           0.79279,     0.79379,     0.79479,      0.7958,      0.7968,      0.7978,      0.7988,      0.7998,      0.8008,      0.8018,      0.8028,      0.8038,      0.8048,     0.80581,     0.80681,     0.80781,     0.80881,     0.80981,     0.81081,     0.81181,     0.81281,     0.81381,     0.81481,     0.81582,\n",
       "           0.81682,     0.81782,     0.81882,     0.81982,     0.82082,     0.82182,     0.82282,     0.82382,     0.82482,     0.82583,     0.82683,     0.82783,     0.82883,     0.82983,     0.83083,     0.83183,     0.83283,     0.83383,     0.83483,     0.83584,     0.83684,     0.83784,     0.83884,     0.83984,\n",
       "           0.84084,     0.84184,     0.84284,     0.84384,     0.84484,     0.84585,     0.84685,     0.84785,     0.84885,     0.84985,     0.85085,     0.85185,     0.85285,     0.85385,     0.85485,     0.85586,     0.85686,     0.85786,     0.85886,     0.85986,     0.86086,     0.86186,     0.86286,     0.86386,\n",
       "           0.86486,     0.86587,     0.86687,     0.86787,     0.86887,     0.86987,     0.87087,     0.87187,     0.87287,     0.87387,     0.87487,     0.87588,     0.87688,     0.87788,     0.87888,     0.87988,     0.88088,     0.88188,     0.88288,     0.88388,     0.88488,     0.88589,     0.88689,     0.88789,\n",
       "           0.88889,     0.88989,     0.89089,     0.89189,     0.89289,     0.89389,     0.89489,      0.8959,      0.8969,      0.8979,      0.8989,      0.8999,      0.9009,      0.9019,      0.9029,      0.9039,      0.9049,     0.90591,     0.90691,     0.90791,     0.90891,     0.90991,     0.91091,     0.91191,\n",
       "           0.91291,     0.91391,     0.91491,     0.91592,     0.91692,     0.91792,     0.91892,     0.91992,     0.92092,     0.92192,     0.92292,     0.92392,     0.92492,     0.92593,     0.92693,     0.92793,     0.92893,     0.92993,     0.93093,     0.93193,     0.93293,     0.93393,     0.93493,     0.93594,\n",
       "           0.93694,     0.93794,     0.93894,     0.93994,     0.94094,     0.94194,     0.94294,     0.94394,     0.94494,     0.94595,     0.94695,     0.94795,     0.94895,     0.94995,     0.95095,     0.95195,     0.95295,     0.95395,     0.95495,     0.95596,     0.95696,     0.95796,     0.95896,     0.95996,\n",
       "           0.96096,     0.96196,     0.96296,     0.96396,     0.96496,     0.96597,     0.96697,     0.96797,     0.96897,     0.96997,     0.97097,     0.97197,     0.97297,     0.97397,     0.97497,     0.97598,     0.97698,     0.97798,     0.97898,     0.97998,     0.98098,     0.98198,     0.98298,     0.98398,\n",
       "           0.98498,     0.98599,     0.98699,     0.98799,     0.98899,     0.98999,     0.99099,     0.99199,     0.99299,     0.99399,     0.99499,       0.996,       0.997,       0.998,       0.999,           1]), array([[          1,           1,           1, ...,           1,           1,           0],\n",
       "       [          1,           1,           1, ...,           1,           1,           0]]), 'Recall', 'Precision'], [array([          0,    0.001001,    0.002002,    0.003003,    0.004004,    0.005005,    0.006006,    0.007007,    0.008008,    0.009009,     0.01001,    0.011011,    0.012012,    0.013013,    0.014014,    0.015015,    0.016016,    0.017017,    0.018018,    0.019019,     0.02002,    0.021021,    0.022022,    0.023023,\n",
       "          0.024024,    0.025025,    0.026026,    0.027027,    0.028028,    0.029029,     0.03003,    0.031031,    0.032032,    0.033033,    0.034034,    0.035035,    0.036036,    0.037037,    0.038038,    0.039039,     0.04004,    0.041041,    0.042042,    0.043043,    0.044044,    0.045045,    0.046046,    0.047047,\n",
       "          0.048048,    0.049049,     0.05005,    0.051051,    0.052052,    0.053053,    0.054054,    0.055055,    0.056056,    0.057057,    0.058058,    0.059059,     0.06006,    0.061061,    0.062062,    0.063063,    0.064064,    0.065065,    0.066066,    0.067067,    0.068068,    0.069069,     0.07007,    0.071071,\n",
       "          0.072072,    0.073073,    0.074074,    0.075075,    0.076076,    0.077077,    0.078078,    0.079079,     0.08008,    0.081081,    0.082082,    0.083083,    0.084084,    0.085085,    0.086086,    0.087087,    0.088088,    0.089089,     0.09009,    0.091091,    0.092092,    0.093093,    0.094094,    0.095095,\n",
       "          0.096096,    0.097097,    0.098098,    0.099099,      0.1001,      0.1011,      0.1021,      0.1031,      0.1041,     0.10511,     0.10611,     0.10711,     0.10811,     0.10911,     0.11011,     0.11111,     0.11211,     0.11311,     0.11411,     0.11512,     0.11612,     0.11712,     0.11812,     0.11912,\n",
       "           0.12012,     0.12112,     0.12212,     0.12312,     0.12412,     0.12513,     0.12613,     0.12713,     0.12813,     0.12913,     0.13013,     0.13113,     0.13213,     0.13313,     0.13413,     0.13514,     0.13614,     0.13714,     0.13814,     0.13914,     0.14014,     0.14114,     0.14214,     0.14314,\n",
       "           0.14414,     0.14515,     0.14615,     0.14715,     0.14815,     0.14915,     0.15015,     0.15115,     0.15215,     0.15315,     0.15415,     0.15516,     0.15616,     0.15716,     0.15816,     0.15916,     0.16016,     0.16116,     0.16216,     0.16316,     0.16416,     0.16517,     0.16617,     0.16717,\n",
       "           0.16817,     0.16917,     0.17017,     0.17117,     0.17217,     0.17317,     0.17417,     0.17518,     0.17618,     0.17718,     0.17818,     0.17918,     0.18018,     0.18118,     0.18218,     0.18318,     0.18418,     0.18519,     0.18619,     0.18719,     0.18819,     0.18919,     0.19019,     0.19119,\n",
       "           0.19219,     0.19319,     0.19419,      0.1952,      0.1962,      0.1972,      0.1982,      0.1992,      0.2002,      0.2012,      0.2022,      0.2032,      0.2042,     0.20521,     0.20621,     0.20721,     0.20821,     0.20921,     0.21021,     0.21121,     0.21221,     0.21321,     0.21421,     0.21522,\n",
       "           0.21622,     0.21722,     0.21822,     0.21922,     0.22022,     0.22122,     0.22222,     0.22322,     0.22422,     0.22523,     0.22623,     0.22723,     0.22823,     0.22923,     0.23023,     0.23123,     0.23223,     0.23323,     0.23423,     0.23524,     0.23624,     0.23724,     0.23824,     0.23924,\n",
       "           0.24024,     0.24124,     0.24224,     0.24324,     0.24424,     0.24525,     0.24625,     0.24725,     0.24825,     0.24925,     0.25025,     0.25125,     0.25225,     0.25325,     0.25425,     0.25526,     0.25626,     0.25726,     0.25826,     0.25926,     0.26026,     0.26126,     0.26226,     0.26326,\n",
       "           0.26426,     0.26527,     0.26627,     0.26727,     0.26827,     0.26927,     0.27027,     0.27127,     0.27227,     0.27327,     0.27427,     0.27528,     0.27628,     0.27728,     0.27828,     0.27928,     0.28028,     0.28128,     0.28228,     0.28328,     0.28428,     0.28529,     0.28629,     0.28729,\n",
       "           0.28829,     0.28929,     0.29029,     0.29129,     0.29229,     0.29329,     0.29429,      0.2953,      0.2963,      0.2973,      0.2983,      0.2993,      0.3003,      0.3013,      0.3023,      0.3033,      0.3043,     0.30531,     0.30631,     0.30731,     0.30831,     0.30931,     0.31031,     0.31131,\n",
       "           0.31231,     0.31331,     0.31431,     0.31532,     0.31632,     0.31732,     0.31832,     0.31932,     0.32032,     0.32132,     0.32232,     0.32332,     0.32432,     0.32533,     0.32633,     0.32733,     0.32833,     0.32933,     0.33033,     0.33133,     0.33233,     0.33333,     0.33433,     0.33534,\n",
       "           0.33634,     0.33734,     0.33834,     0.33934,     0.34034,     0.34134,     0.34234,     0.34334,     0.34434,     0.34535,     0.34635,     0.34735,     0.34835,     0.34935,     0.35035,     0.35135,     0.35235,     0.35335,     0.35435,     0.35536,     0.35636,     0.35736,     0.35836,     0.35936,\n",
       "           0.36036,     0.36136,     0.36236,     0.36336,     0.36436,     0.36537,     0.36637,     0.36737,     0.36837,     0.36937,     0.37037,     0.37137,     0.37237,     0.37337,     0.37437,     0.37538,     0.37638,     0.37738,     0.37838,     0.37938,     0.38038,     0.38138,     0.38238,     0.38338,\n",
       "           0.38438,     0.38539,     0.38639,     0.38739,     0.38839,     0.38939,     0.39039,     0.39139,     0.39239,     0.39339,     0.39439,      0.3954,      0.3964,      0.3974,      0.3984,      0.3994,      0.4004,      0.4014,      0.4024,      0.4034,      0.4044,     0.40541,     0.40641,     0.40741,\n",
       "           0.40841,     0.40941,     0.41041,     0.41141,     0.41241,     0.41341,     0.41441,     0.41542,     0.41642,     0.41742,     0.41842,     0.41942,     0.42042,     0.42142,     0.42242,     0.42342,     0.42442,     0.42543,     0.42643,     0.42743,     0.42843,     0.42943,     0.43043,     0.43143,\n",
       "           0.43243,     0.43343,     0.43443,     0.43544,     0.43644,     0.43744,     0.43844,     0.43944,     0.44044,     0.44144,     0.44244,     0.44344,     0.44444,     0.44545,     0.44645,     0.44745,     0.44845,     0.44945,     0.45045,     0.45145,     0.45245,     0.45345,     0.45445,     0.45546,\n",
       "           0.45646,     0.45746,     0.45846,     0.45946,     0.46046,     0.46146,     0.46246,     0.46346,     0.46446,     0.46547,     0.46647,     0.46747,     0.46847,     0.46947,     0.47047,     0.47147,     0.47247,     0.47347,     0.47447,     0.47548,     0.47648,     0.47748,     0.47848,     0.47948,\n",
       "           0.48048,     0.48148,     0.48248,     0.48348,     0.48448,     0.48549,     0.48649,     0.48749,     0.48849,     0.48949,     0.49049,     0.49149,     0.49249,     0.49349,     0.49449,      0.4955,      0.4965,      0.4975,      0.4985,      0.4995,      0.5005,      0.5015,      0.5025,      0.5035,\n",
       "            0.5045,     0.50551,     0.50651,     0.50751,     0.50851,     0.50951,     0.51051,     0.51151,     0.51251,     0.51351,     0.51451,     0.51552,     0.51652,     0.51752,     0.51852,     0.51952,     0.52052,     0.52152,     0.52252,     0.52352,     0.52452,     0.52553,     0.52653,     0.52753,\n",
       "           0.52853,     0.52953,     0.53053,     0.53153,     0.53253,     0.53353,     0.53453,     0.53554,     0.53654,     0.53754,     0.53854,     0.53954,     0.54054,     0.54154,     0.54254,     0.54354,     0.54454,     0.54555,     0.54655,     0.54755,     0.54855,     0.54955,     0.55055,     0.55155,\n",
       "           0.55255,     0.55355,     0.55455,     0.55556,     0.55656,     0.55756,     0.55856,     0.55956,     0.56056,     0.56156,     0.56256,     0.56356,     0.56456,     0.56557,     0.56657,     0.56757,     0.56857,     0.56957,     0.57057,     0.57157,     0.57257,     0.57357,     0.57457,     0.57558,\n",
       "           0.57658,     0.57758,     0.57858,     0.57958,     0.58058,     0.58158,     0.58258,     0.58358,     0.58458,     0.58559,     0.58659,     0.58759,     0.58859,     0.58959,     0.59059,     0.59159,     0.59259,     0.59359,     0.59459,      0.5956,      0.5966,      0.5976,      0.5986,      0.5996,\n",
       "            0.6006,      0.6016,      0.6026,      0.6036,      0.6046,     0.60561,     0.60661,     0.60761,     0.60861,     0.60961,     0.61061,     0.61161,     0.61261,     0.61361,     0.61461,     0.61562,     0.61662,     0.61762,     0.61862,     0.61962,     0.62062,     0.62162,     0.62262,     0.62362,\n",
       "           0.62462,     0.62563,     0.62663,     0.62763,     0.62863,     0.62963,     0.63063,     0.63163,     0.63263,     0.63363,     0.63463,     0.63564,     0.63664,     0.63764,     0.63864,     0.63964,     0.64064,     0.64164,     0.64264,     0.64364,     0.64464,     0.64565,     0.64665,     0.64765,\n",
       "           0.64865,     0.64965,     0.65065,     0.65165,     0.65265,     0.65365,     0.65465,     0.65566,     0.65666,     0.65766,     0.65866,     0.65966,     0.66066,     0.66166,     0.66266,     0.66366,     0.66466,     0.66567,     0.66667,     0.66767,     0.66867,     0.66967,     0.67067,     0.67167,\n",
       "           0.67267,     0.67367,     0.67467,     0.67568,     0.67668,     0.67768,     0.67868,     0.67968,     0.68068,     0.68168,     0.68268,     0.68368,     0.68468,     0.68569,     0.68669,     0.68769,     0.68869,     0.68969,     0.69069,     0.69169,     0.69269,     0.69369,     0.69469,      0.6957,\n",
       "            0.6967,      0.6977,      0.6987,      0.6997,      0.7007,      0.7017,      0.7027,      0.7037,      0.7047,     0.70571,     0.70671,     0.70771,     0.70871,     0.70971,     0.71071,     0.71171,     0.71271,     0.71371,     0.71471,     0.71572,     0.71672,     0.71772,     0.71872,     0.71972,\n",
       "           0.72072,     0.72172,     0.72272,     0.72372,     0.72472,     0.72573,     0.72673,     0.72773,     0.72873,     0.72973,     0.73073,     0.73173,     0.73273,     0.73373,     0.73473,     0.73574,     0.73674,     0.73774,     0.73874,     0.73974,     0.74074,     0.74174,     0.74274,     0.74374,\n",
       "           0.74474,     0.74575,     0.74675,     0.74775,     0.74875,     0.74975,     0.75075,     0.75175,     0.75275,     0.75375,     0.75475,     0.75576,     0.75676,     0.75776,     0.75876,     0.75976,     0.76076,     0.76176,     0.76276,     0.76376,     0.76476,     0.76577,     0.76677,     0.76777,\n",
       "           0.76877,     0.76977,     0.77077,     0.77177,     0.77277,     0.77377,     0.77477,     0.77578,     0.77678,     0.77778,     0.77878,     0.77978,     0.78078,     0.78178,     0.78278,     0.78378,     0.78478,     0.78579,     0.78679,     0.78779,     0.78879,     0.78979,     0.79079,     0.79179,\n",
       "           0.79279,     0.79379,     0.79479,      0.7958,      0.7968,      0.7978,      0.7988,      0.7998,      0.8008,      0.8018,      0.8028,      0.8038,      0.8048,     0.80581,     0.80681,     0.80781,     0.80881,     0.80981,     0.81081,     0.81181,     0.81281,     0.81381,     0.81481,     0.81582,\n",
       "           0.81682,     0.81782,     0.81882,     0.81982,     0.82082,     0.82182,     0.82282,     0.82382,     0.82482,     0.82583,     0.82683,     0.82783,     0.82883,     0.82983,     0.83083,     0.83183,     0.83283,     0.83383,     0.83483,     0.83584,     0.83684,     0.83784,     0.83884,     0.83984,\n",
       "           0.84084,     0.84184,     0.84284,     0.84384,     0.84484,     0.84585,     0.84685,     0.84785,     0.84885,     0.84985,     0.85085,     0.85185,     0.85285,     0.85385,     0.85485,     0.85586,     0.85686,     0.85786,     0.85886,     0.85986,     0.86086,     0.86186,     0.86286,     0.86386,\n",
       "           0.86486,     0.86587,     0.86687,     0.86787,     0.86887,     0.86987,     0.87087,     0.87187,     0.87287,     0.87387,     0.87487,     0.87588,     0.87688,     0.87788,     0.87888,     0.87988,     0.88088,     0.88188,     0.88288,     0.88388,     0.88488,     0.88589,     0.88689,     0.88789,\n",
       "           0.88889,     0.88989,     0.89089,     0.89189,     0.89289,     0.89389,     0.89489,      0.8959,      0.8969,      0.8979,      0.8989,      0.8999,      0.9009,      0.9019,      0.9029,      0.9039,      0.9049,     0.90591,     0.90691,     0.90791,     0.90891,     0.90991,     0.91091,     0.91191,\n",
       "           0.91291,     0.91391,     0.91491,     0.91592,     0.91692,     0.91792,     0.91892,     0.91992,     0.92092,     0.92192,     0.92292,     0.92392,     0.92492,     0.92593,     0.92693,     0.92793,     0.92893,     0.92993,     0.93093,     0.93193,     0.93293,     0.93393,     0.93493,     0.93594,\n",
       "           0.93694,     0.93794,     0.93894,     0.93994,     0.94094,     0.94194,     0.94294,     0.94394,     0.94494,     0.94595,     0.94695,     0.94795,     0.94895,     0.94995,     0.95095,     0.95195,     0.95295,     0.95395,     0.95495,     0.95596,     0.95696,     0.95796,     0.95896,     0.95996,\n",
       "           0.96096,     0.96196,     0.96296,     0.96396,     0.96496,     0.96597,     0.96697,     0.96797,     0.96897,     0.96997,     0.97097,     0.97197,     0.97297,     0.97397,     0.97497,     0.97598,     0.97698,     0.97798,     0.97898,     0.97998,     0.98098,     0.98198,     0.98298,     0.98398,\n",
       "           0.98498,     0.98599,     0.98699,     0.98799,     0.98899,     0.98999,     0.99099,     0.99199,     0.99299,     0.99399,     0.99499,       0.996,       0.997,       0.998,       0.999,           1]), array([[        0.8,         0.8,     0.80025, ...,           0,           0,           0],\n",
       "       [    0.88889,     0.88889,     0.88889, ...,           0,           0,           0]]), 'Confidence', 'F1'], [array([          0,    0.001001,    0.002002,    0.003003,    0.004004,    0.005005,    0.006006,    0.007007,    0.008008,    0.009009,     0.01001,    0.011011,    0.012012,    0.013013,    0.014014,    0.015015,    0.016016,    0.017017,    0.018018,    0.019019,     0.02002,    0.021021,    0.022022,    0.023023,\n",
       "          0.024024,    0.025025,    0.026026,    0.027027,    0.028028,    0.029029,     0.03003,    0.031031,    0.032032,    0.033033,    0.034034,    0.035035,    0.036036,    0.037037,    0.038038,    0.039039,     0.04004,    0.041041,    0.042042,    0.043043,    0.044044,    0.045045,    0.046046,    0.047047,\n",
       "          0.048048,    0.049049,     0.05005,    0.051051,    0.052052,    0.053053,    0.054054,    0.055055,    0.056056,    0.057057,    0.058058,    0.059059,     0.06006,    0.061061,    0.062062,    0.063063,    0.064064,    0.065065,    0.066066,    0.067067,    0.068068,    0.069069,     0.07007,    0.071071,\n",
       "          0.072072,    0.073073,    0.074074,    0.075075,    0.076076,    0.077077,    0.078078,    0.079079,     0.08008,    0.081081,    0.082082,    0.083083,    0.084084,    0.085085,    0.086086,    0.087087,    0.088088,    0.089089,     0.09009,    0.091091,    0.092092,    0.093093,    0.094094,    0.095095,\n",
       "          0.096096,    0.097097,    0.098098,    0.099099,      0.1001,      0.1011,      0.1021,      0.1031,      0.1041,     0.10511,     0.10611,     0.10711,     0.10811,     0.10911,     0.11011,     0.11111,     0.11211,     0.11311,     0.11411,     0.11512,     0.11612,     0.11712,     0.11812,     0.11912,\n",
       "           0.12012,     0.12112,     0.12212,     0.12312,     0.12412,     0.12513,     0.12613,     0.12713,     0.12813,     0.12913,     0.13013,     0.13113,     0.13213,     0.13313,     0.13413,     0.13514,     0.13614,     0.13714,     0.13814,     0.13914,     0.14014,     0.14114,     0.14214,     0.14314,\n",
       "           0.14414,     0.14515,     0.14615,     0.14715,     0.14815,     0.14915,     0.15015,     0.15115,     0.15215,     0.15315,     0.15415,     0.15516,     0.15616,     0.15716,     0.15816,     0.15916,     0.16016,     0.16116,     0.16216,     0.16316,     0.16416,     0.16517,     0.16617,     0.16717,\n",
       "           0.16817,     0.16917,     0.17017,     0.17117,     0.17217,     0.17317,     0.17417,     0.17518,     0.17618,     0.17718,     0.17818,     0.17918,     0.18018,     0.18118,     0.18218,     0.18318,     0.18418,     0.18519,     0.18619,     0.18719,     0.18819,     0.18919,     0.19019,     0.19119,\n",
       "           0.19219,     0.19319,     0.19419,      0.1952,      0.1962,      0.1972,      0.1982,      0.1992,      0.2002,      0.2012,      0.2022,      0.2032,      0.2042,     0.20521,     0.20621,     0.20721,     0.20821,     0.20921,     0.21021,     0.21121,     0.21221,     0.21321,     0.21421,     0.21522,\n",
       "           0.21622,     0.21722,     0.21822,     0.21922,     0.22022,     0.22122,     0.22222,     0.22322,     0.22422,     0.22523,     0.22623,     0.22723,     0.22823,     0.22923,     0.23023,     0.23123,     0.23223,     0.23323,     0.23423,     0.23524,     0.23624,     0.23724,     0.23824,     0.23924,\n",
       "           0.24024,     0.24124,     0.24224,     0.24324,     0.24424,     0.24525,     0.24625,     0.24725,     0.24825,     0.24925,     0.25025,     0.25125,     0.25225,     0.25325,     0.25425,     0.25526,     0.25626,     0.25726,     0.25826,     0.25926,     0.26026,     0.26126,     0.26226,     0.26326,\n",
       "           0.26426,     0.26527,     0.26627,     0.26727,     0.26827,     0.26927,     0.27027,     0.27127,     0.27227,     0.27327,     0.27427,     0.27528,     0.27628,     0.27728,     0.27828,     0.27928,     0.28028,     0.28128,     0.28228,     0.28328,     0.28428,     0.28529,     0.28629,     0.28729,\n",
       "           0.28829,     0.28929,     0.29029,     0.29129,     0.29229,     0.29329,     0.29429,      0.2953,      0.2963,      0.2973,      0.2983,      0.2993,      0.3003,      0.3013,      0.3023,      0.3033,      0.3043,     0.30531,     0.30631,     0.30731,     0.30831,     0.30931,     0.31031,     0.31131,\n",
       "           0.31231,     0.31331,     0.31431,     0.31532,     0.31632,     0.31732,     0.31832,     0.31932,     0.32032,     0.32132,     0.32232,     0.32332,     0.32432,     0.32533,     0.32633,     0.32733,     0.32833,     0.32933,     0.33033,     0.33133,     0.33233,     0.33333,     0.33433,     0.33534,\n",
       "           0.33634,     0.33734,     0.33834,     0.33934,     0.34034,     0.34134,     0.34234,     0.34334,     0.34434,     0.34535,     0.34635,     0.34735,     0.34835,     0.34935,     0.35035,     0.35135,     0.35235,     0.35335,     0.35435,     0.35536,     0.35636,     0.35736,     0.35836,     0.35936,\n",
       "           0.36036,     0.36136,     0.36236,     0.36336,     0.36436,     0.36537,     0.36637,     0.36737,     0.36837,     0.36937,     0.37037,     0.37137,     0.37237,     0.37337,     0.37437,     0.37538,     0.37638,     0.37738,     0.37838,     0.37938,     0.38038,     0.38138,     0.38238,     0.38338,\n",
       "           0.38438,     0.38539,     0.38639,     0.38739,     0.38839,     0.38939,     0.39039,     0.39139,     0.39239,     0.39339,     0.39439,      0.3954,      0.3964,      0.3974,      0.3984,      0.3994,      0.4004,      0.4014,      0.4024,      0.4034,      0.4044,     0.40541,     0.40641,     0.40741,\n",
       "           0.40841,     0.40941,     0.41041,     0.41141,     0.41241,     0.41341,     0.41441,     0.41542,     0.41642,     0.41742,     0.41842,     0.41942,     0.42042,     0.42142,     0.42242,     0.42342,     0.42442,     0.42543,     0.42643,     0.42743,     0.42843,     0.42943,     0.43043,     0.43143,\n",
       "           0.43243,     0.43343,     0.43443,     0.43544,     0.43644,     0.43744,     0.43844,     0.43944,     0.44044,     0.44144,     0.44244,     0.44344,     0.44444,     0.44545,     0.44645,     0.44745,     0.44845,     0.44945,     0.45045,     0.45145,     0.45245,     0.45345,     0.45445,     0.45546,\n",
       "           0.45646,     0.45746,     0.45846,     0.45946,     0.46046,     0.46146,     0.46246,     0.46346,     0.46446,     0.46547,     0.46647,     0.46747,     0.46847,     0.46947,     0.47047,     0.47147,     0.47247,     0.47347,     0.47447,     0.47548,     0.47648,     0.47748,     0.47848,     0.47948,\n",
       "           0.48048,     0.48148,     0.48248,     0.48348,     0.48448,     0.48549,     0.48649,     0.48749,     0.48849,     0.48949,     0.49049,     0.49149,     0.49249,     0.49349,     0.49449,      0.4955,      0.4965,      0.4975,      0.4985,      0.4995,      0.5005,      0.5015,      0.5025,      0.5035,\n",
       "            0.5045,     0.50551,     0.50651,     0.50751,     0.50851,     0.50951,     0.51051,     0.51151,     0.51251,     0.51351,     0.51451,     0.51552,     0.51652,     0.51752,     0.51852,     0.51952,     0.52052,     0.52152,     0.52252,     0.52352,     0.52452,     0.52553,     0.52653,     0.52753,\n",
       "           0.52853,     0.52953,     0.53053,     0.53153,     0.53253,     0.53353,     0.53453,     0.53554,     0.53654,     0.53754,     0.53854,     0.53954,     0.54054,     0.54154,     0.54254,     0.54354,     0.54454,     0.54555,     0.54655,     0.54755,     0.54855,     0.54955,     0.55055,     0.55155,\n",
       "           0.55255,     0.55355,     0.55455,     0.55556,     0.55656,     0.55756,     0.55856,     0.55956,     0.56056,     0.56156,     0.56256,     0.56356,     0.56456,     0.56557,     0.56657,     0.56757,     0.56857,     0.56957,     0.57057,     0.57157,     0.57257,     0.57357,     0.57457,     0.57558,\n",
       "           0.57658,     0.57758,     0.57858,     0.57958,     0.58058,     0.58158,     0.58258,     0.58358,     0.58458,     0.58559,     0.58659,     0.58759,     0.58859,     0.58959,     0.59059,     0.59159,     0.59259,     0.59359,     0.59459,      0.5956,      0.5966,      0.5976,      0.5986,      0.5996,\n",
       "            0.6006,      0.6016,      0.6026,      0.6036,      0.6046,     0.60561,     0.60661,     0.60761,     0.60861,     0.60961,     0.61061,     0.61161,     0.61261,     0.61361,     0.61461,     0.61562,     0.61662,     0.61762,     0.61862,     0.61962,     0.62062,     0.62162,     0.62262,     0.62362,\n",
       "           0.62462,     0.62563,     0.62663,     0.62763,     0.62863,     0.62963,     0.63063,     0.63163,     0.63263,     0.63363,     0.63463,     0.63564,     0.63664,     0.63764,     0.63864,     0.63964,     0.64064,     0.64164,     0.64264,     0.64364,     0.64464,     0.64565,     0.64665,     0.64765,\n",
       "           0.64865,     0.64965,     0.65065,     0.65165,     0.65265,     0.65365,     0.65465,     0.65566,     0.65666,     0.65766,     0.65866,     0.65966,     0.66066,     0.66166,     0.66266,     0.66366,     0.66466,     0.66567,     0.66667,     0.66767,     0.66867,     0.66967,     0.67067,     0.67167,\n",
       "           0.67267,     0.67367,     0.67467,     0.67568,     0.67668,     0.67768,     0.67868,     0.67968,     0.68068,     0.68168,     0.68268,     0.68368,     0.68468,     0.68569,     0.68669,     0.68769,     0.68869,     0.68969,     0.69069,     0.69169,     0.69269,     0.69369,     0.69469,      0.6957,\n",
       "            0.6967,      0.6977,      0.6987,      0.6997,      0.7007,      0.7017,      0.7027,      0.7037,      0.7047,     0.70571,     0.70671,     0.70771,     0.70871,     0.70971,     0.71071,     0.71171,     0.71271,     0.71371,     0.71471,     0.71572,     0.71672,     0.71772,     0.71872,     0.71972,\n",
       "           0.72072,     0.72172,     0.72272,     0.72372,     0.72472,     0.72573,     0.72673,     0.72773,     0.72873,     0.72973,     0.73073,     0.73173,     0.73273,     0.73373,     0.73473,     0.73574,     0.73674,     0.73774,     0.73874,     0.73974,     0.74074,     0.74174,     0.74274,     0.74374,\n",
       "           0.74474,     0.74575,     0.74675,     0.74775,     0.74875,     0.74975,     0.75075,     0.75175,     0.75275,     0.75375,     0.75475,     0.75576,     0.75676,     0.75776,     0.75876,     0.75976,     0.76076,     0.76176,     0.76276,     0.76376,     0.76476,     0.76577,     0.76677,     0.76777,\n",
       "           0.76877,     0.76977,     0.77077,     0.77177,     0.77277,     0.77377,     0.77477,     0.77578,     0.77678,     0.77778,     0.77878,     0.77978,     0.78078,     0.78178,     0.78278,     0.78378,     0.78478,     0.78579,     0.78679,     0.78779,     0.78879,     0.78979,     0.79079,     0.79179,\n",
       "           0.79279,     0.79379,     0.79479,      0.7958,      0.7968,      0.7978,      0.7988,      0.7998,      0.8008,      0.8018,      0.8028,      0.8038,      0.8048,     0.80581,     0.80681,     0.80781,     0.80881,     0.80981,     0.81081,     0.81181,     0.81281,     0.81381,     0.81481,     0.81582,\n",
       "           0.81682,     0.81782,     0.81882,     0.81982,     0.82082,     0.82182,     0.82282,     0.82382,     0.82482,     0.82583,     0.82683,     0.82783,     0.82883,     0.82983,     0.83083,     0.83183,     0.83283,     0.83383,     0.83483,     0.83584,     0.83684,     0.83784,     0.83884,     0.83984,\n",
       "           0.84084,     0.84184,     0.84284,     0.84384,     0.84484,     0.84585,     0.84685,     0.84785,     0.84885,     0.84985,     0.85085,     0.85185,     0.85285,     0.85385,     0.85485,     0.85586,     0.85686,     0.85786,     0.85886,     0.85986,     0.86086,     0.86186,     0.86286,     0.86386,\n",
       "           0.86486,     0.86587,     0.86687,     0.86787,     0.86887,     0.86987,     0.87087,     0.87187,     0.87287,     0.87387,     0.87487,     0.87588,     0.87688,     0.87788,     0.87888,     0.87988,     0.88088,     0.88188,     0.88288,     0.88388,     0.88488,     0.88589,     0.88689,     0.88789,\n",
       "           0.88889,     0.88989,     0.89089,     0.89189,     0.89289,     0.89389,     0.89489,      0.8959,      0.8969,      0.8979,      0.8989,      0.8999,      0.9009,      0.9019,      0.9029,      0.9039,      0.9049,     0.90591,     0.90691,     0.90791,     0.90891,     0.90991,     0.91091,     0.91191,\n",
       "           0.91291,     0.91391,     0.91491,     0.91592,     0.91692,     0.91792,     0.91892,     0.91992,     0.92092,     0.92192,     0.92292,     0.92392,     0.92492,     0.92593,     0.92693,     0.92793,     0.92893,     0.92993,     0.93093,     0.93193,     0.93293,     0.93393,     0.93493,     0.93594,\n",
       "           0.93694,     0.93794,     0.93894,     0.93994,     0.94094,     0.94194,     0.94294,     0.94394,     0.94494,     0.94595,     0.94695,     0.94795,     0.94895,     0.94995,     0.95095,     0.95195,     0.95295,     0.95395,     0.95495,     0.95596,     0.95696,     0.95796,     0.95896,     0.95996,\n",
       "           0.96096,     0.96196,     0.96296,     0.96396,     0.96496,     0.96597,     0.96697,     0.96797,     0.96897,     0.96997,     0.97097,     0.97197,     0.97297,     0.97397,     0.97497,     0.97598,     0.97698,     0.97798,     0.97898,     0.97998,     0.98098,     0.98198,     0.98298,     0.98398,\n",
       "           0.98498,     0.98599,     0.98699,     0.98799,     0.98899,     0.98999,     0.99099,     0.99199,     0.99299,     0.99399,     0.99499,       0.996,       0.997,       0.998,       0.999,           1]), array([[    0.66667,     0.66667,     0.66702, ...,           1,           1,           1],\n",
       "       [        0.8,         0.8,         0.8, ...,           1,           1,           1]]), 'Confidence', 'Precision'], [array([          0,    0.001001,    0.002002,    0.003003,    0.004004,    0.005005,    0.006006,    0.007007,    0.008008,    0.009009,     0.01001,    0.011011,    0.012012,    0.013013,    0.014014,    0.015015,    0.016016,    0.017017,    0.018018,    0.019019,     0.02002,    0.021021,    0.022022,    0.023023,\n",
       "          0.024024,    0.025025,    0.026026,    0.027027,    0.028028,    0.029029,     0.03003,    0.031031,    0.032032,    0.033033,    0.034034,    0.035035,    0.036036,    0.037037,    0.038038,    0.039039,     0.04004,    0.041041,    0.042042,    0.043043,    0.044044,    0.045045,    0.046046,    0.047047,\n",
       "          0.048048,    0.049049,     0.05005,    0.051051,    0.052052,    0.053053,    0.054054,    0.055055,    0.056056,    0.057057,    0.058058,    0.059059,     0.06006,    0.061061,    0.062062,    0.063063,    0.064064,    0.065065,    0.066066,    0.067067,    0.068068,    0.069069,     0.07007,    0.071071,\n",
       "          0.072072,    0.073073,    0.074074,    0.075075,    0.076076,    0.077077,    0.078078,    0.079079,     0.08008,    0.081081,    0.082082,    0.083083,    0.084084,    0.085085,    0.086086,    0.087087,    0.088088,    0.089089,     0.09009,    0.091091,    0.092092,    0.093093,    0.094094,    0.095095,\n",
       "          0.096096,    0.097097,    0.098098,    0.099099,      0.1001,      0.1011,      0.1021,      0.1031,      0.1041,     0.10511,     0.10611,     0.10711,     0.10811,     0.10911,     0.11011,     0.11111,     0.11211,     0.11311,     0.11411,     0.11512,     0.11612,     0.11712,     0.11812,     0.11912,\n",
       "           0.12012,     0.12112,     0.12212,     0.12312,     0.12412,     0.12513,     0.12613,     0.12713,     0.12813,     0.12913,     0.13013,     0.13113,     0.13213,     0.13313,     0.13413,     0.13514,     0.13614,     0.13714,     0.13814,     0.13914,     0.14014,     0.14114,     0.14214,     0.14314,\n",
       "           0.14414,     0.14515,     0.14615,     0.14715,     0.14815,     0.14915,     0.15015,     0.15115,     0.15215,     0.15315,     0.15415,     0.15516,     0.15616,     0.15716,     0.15816,     0.15916,     0.16016,     0.16116,     0.16216,     0.16316,     0.16416,     0.16517,     0.16617,     0.16717,\n",
       "           0.16817,     0.16917,     0.17017,     0.17117,     0.17217,     0.17317,     0.17417,     0.17518,     0.17618,     0.17718,     0.17818,     0.17918,     0.18018,     0.18118,     0.18218,     0.18318,     0.18418,     0.18519,     0.18619,     0.18719,     0.18819,     0.18919,     0.19019,     0.19119,\n",
       "           0.19219,     0.19319,     0.19419,      0.1952,      0.1962,      0.1972,      0.1982,      0.1992,      0.2002,      0.2012,      0.2022,      0.2032,      0.2042,     0.20521,     0.20621,     0.20721,     0.20821,     0.20921,     0.21021,     0.21121,     0.21221,     0.21321,     0.21421,     0.21522,\n",
       "           0.21622,     0.21722,     0.21822,     0.21922,     0.22022,     0.22122,     0.22222,     0.22322,     0.22422,     0.22523,     0.22623,     0.22723,     0.22823,     0.22923,     0.23023,     0.23123,     0.23223,     0.23323,     0.23423,     0.23524,     0.23624,     0.23724,     0.23824,     0.23924,\n",
       "           0.24024,     0.24124,     0.24224,     0.24324,     0.24424,     0.24525,     0.24625,     0.24725,     0.24825,     0.24925,     0.25025,     0.25125,     0.25225,     0.25325,     0.25425,     0.25526,     0.25626,     0.25726,     0.25826,     0.25926,     0.26026,     0.26126,     0.26226,     0.26326,\n",
       "           0.26426,     0.26527,     0.26627,     0.26727,     0.26827,     0.26927,     0.27027,     0.27127,     0.27227,     0.27327,     0.27427,     0.27528,     0.27628,     0.27728,     0.27828,     0.27928,     0.28028,     0.28128,     0.28228,     0.28328,     0.28428,     0.28529,     0.28629,     0.28729,\n",
       "           0.28829,     0.28929,     0.29029,     0.29129,     0.29229,     0.29329,     0.29429,      0.2953,      0.2963,      0.2973,      0.2983,      0.2993,      0.3003,      0.3013,      0.3023,      0.3033,      0.3043,     0.30531,     0.30631,     0.30731,     0.30831,     0.30931,     0.31031,     0.31131,\n",
       "           0.31231,     0.31331,     0.31431,     0.31532,     0.31632,     0.31732,     0.31832,     0.31932,     0.32032,     0.32132,     0.32232,     0.32332,     0.32432,     0.32533,     0.32633,     0.32733,     0.32833,     0.32933,     0.33033,     0.33133,     0.33233,     0.33333,     0.33433,     0.33534,\n",
       "           0.33634,     0.33734,     0.33834,     0.33934,     0.34034,     0.34134,     0.34234,     0.34334,     0.34434,     0.34535,     0.34635,     0.34735,     0.34835,     0.34935,     0.35035,     0.35135,     0.35235,     0.35335,     0.35435,     0.35536,     0.35636,     0.35736,     0.35836,     0.35936,\n",
       "           0.36036,     0.36136,     0.36236,     0.36336,     0.36436,     0.36537,     0.36637,     0.36737,     0.36837,     0.36937,     0.37037,     0.37137,     0.37237,     0.37337,     0.37437,     0.37538,     0.37638,     0.37738,     0.37838,     0.37938,     0.38038,     0.38138,     0.38238,     0.38338,\n",
       "           0.38438,     0.38539,     0.38639,     0.38739,     0.38839,     0.38939,     0.39039,     0.39139,     0.39239,     0.39339,     0.39439,      0.3954,      0.3964,      0.3974,      0.3984,      0.3994,      0.4004,      0.4014,      0.4024,      0.4034,      0.4044,     0.40541,     0.40641,     0.40741,\n",
       "           0.40841,     0.40941,     0.41041,     0.41141,     0.41241,     0.41341,     0.41441,     0.41542,     0.41642,     0.41742,     0.41842,     0.41942,     0.42042,     0.42142,     0.42242,     0.42342,     0.42442,     0.42543,     0.42643,     0.42743,     0.42843,     0.42943,     0.43043,     0.43143,\n",
       "           0.43243,     0.43343,     0.43443,     0.43544,     0.43644,     0.43744,     0.43844,     0.43944,     0.44044,     0.44144,     0.44244,     0.44344,     0.44444,     0.44545,     0.44645,     0.44745,     0.44845,     0.44945,     0.45045,     0.45145,     0.45245,     0.45345,     0.45445,     0.45546,\n",
       "           0.45646,     0.45746,     0.45846,     0.45946,     0.46046,     0.46146,     0.46246,     0.46346,     0.46446,     0.46547,     0.46647,     0.46747,     0.46847,     0.46947,     0.47047,     0.47147,     0.47247,     0.47347,     0.47447,     0.47548,     0.47648,     0.47748,     0.47848,     0.47948,\n",
       "           0.48048,     0.48148,     0.48248,     0.48348,     0.48448,     0.48549,     0.48649,     0.48749,     0.48849,     0.48949,     0.49049,     0.49149,     0.49249,     0.49349,     0.49449,      0.4955,      0.4965,      0.4975,      0.4985,      0.4995,      0.5005,      0.5015,      0.5025,      0.5035,\n",
       "            0.5045,     0.50551,     0.50651,     0.50751,     0.50851,     0.50951,     0.51051,     0.51151,     0.51251,     0.51351,     0.51451,     0.51552,     0.51652,     0.51752,     0.51852,     0.51952,     0.52052,     0.52152,     0.52252,     0.52352,     0.52452,     0.52553,     0.52653,     0.52753,\n",
       "           0.52853,     0.52953,     0.53053,     0.53153,     0.53253,     0.53353,     0.53453,     0.53554,     0.53654,     0.53754,     0.53854,     0.53954,     0.54054,     0.54154,     0.54254,     0.54354,     0.54454,     0.54555,     0.54655,     0.54755,     0.54855,     0.54955,     0.55055,     0.55155,\n",
       "           0.55255,     0.55355,     0.55455,     0.55556,     0.55656,     0.55756,     0.55856,     0.55956,     0.56056,     0.56156,     0.56256,     0.56356,     0.56456,     0.56557,     0.56657,     0.56757,     0.56857,     0.56957,     0.57057,     0.57157,     0.57257,     0.57357,     0.57457,     0.57558,\n",
       "           0.57658,     0.57758,     0.57858,     0.57958,     0.58058,     0.58158,     0.58258,     0.58358,     0.58458,     0.58559,     0.58659,     0.58759,     0.58859,     0.58959,     0.59059,     0.59159,     0.59259,     0.59359,     0.59459,      0.5956,      0.5966,      0.5976,      0.5986,      0.5996,\n",
       "            0.6006,      0.6016,      0.6026,      0.6036,      0.6046,     0.60561,     0.60661,     0.60761,     0.60861,     0.60961,     0.61061,     0.61161,     0.61261,     0.61361,     0.61461,     0.61562,     0.61662,     0.61762,     0.61862,     0.61962,     0.62062,     0.62162,     0.62262,     0.62362,\n",
       "           0.62462,     0.62563,     0.62663,     0.62763,     0.62863,     0.62963,     0.63063,     0.63163,     0.63263,     0.63363,     0.63463,     0.63564,     0.63664,     0.63764,     0.63864,     0.63964,     0.64064,     0.64164,     0.64264,     0.64364,     0.64464,     0.64565,     0.64665,     0.64765,\n",
       "           0.64865,     0.64965,     0.65065,     0.65165,     0.65265,     0.65365,     0.65465,     0.65566,     0.65666,     0.65766,     0.65866,     0.65966,     0.66066,     0.66166,     0.66266,     0.66366,     0.66466,     0.66567,     0.66667,     0.66767,     0.66867,     0.66967,     0.67067,     0.67167,\n",
       "           0.67267,     0.67367,     0.67467,     0.67568,     0.67668,     0.67768,     0.67868,     0.67968,     0.68068,     0.68168,     0.68268,     0.68368,     0.68468,     0.68569,     0.68669,     0.68769,     0.68869,     0.68969,     0.69069,     0.69169,     0.69269,     0.69369,     0.69469,      0.6957,\n",
       "            0.6967,      0.6977,      0.6987,      0.6997,      0.7007,      0.7017,      0.7027,      0.7037,      0.7047,     0.70571,     0.70671,     0.70771,     0.70871,     0.70971,     0.71071,     0.71171,     0.71271,     0.71371,     0.71471,     0.71572,     0.71672,     0.71772,     0.71872,     0.71972,\n",
       "           0.72072,     0.72172,     0.72272,     0.72372,     0.72472,     0.72573,     0.72673,     0.72773,     0.72873,     0.72973,     0.73073,     0.73173,     0.73273,     0.73373,     0.73473,     0.73574,     0.73674,     0.73774,     0.73874,     0.73974,     0.74074,     0.74174,     0.74274,     0.74374,\n",
       "           0.74474,     0.74575,     0.74675,     0.74775,     0.74875,     0.74975,     0.75075,     0.75175,     0.75275,     0.75375,     0.75475,     0.75576,     0.75676,     0.75776,     0.75876,     0.75976,     0.76076,     0.76176,     0.76276,     0.76376,     0.76476,     0.76577,     0.76677,     0.76777,\n",
       "           0.76877,     0.76977,     0.77077,     0.77177,     0.77277,     0.77377,     0.77477,     0.77578,     0.77678,     0.77778,     0.77878,     0.77978,     0.78078,     0.78178,     0.78278,     0.78378,     0.78478,     0.78579,     0.78679,     0.78779,     0.78879,     0.78979,     0.79079,     0.79179,\n",
       "           0.79279,     0.79379,     0.79479,      0.7958,      0.7968,      0.7978,      0.7988,      0.7998,      0.8008,      0.8018,      0.8028,      0.8038,      0.8048,     0.80581,     0.80681,     0.80781,     0.80881,     0.80981,     0.81081,     0.81181,     0.81281,     0.81381,     0.81481,     0.81582,\n",
       "           0.81682,     0.81782,     0.81882,     0.81982,     0.82082,     0.82182,     0.82282,     0.82382,     0.82482,     0.82583,     0.82683,     0.82783,     0.82883,     0.82983,     0.83083,     0.83183,     0.83283,     0.83383,     0.83483,     0.83584,     0.83684,     0.83784,     0.83884,     0.83984,\n",
       "           0.84084,     0.84184,     0.84284,     0.84384,     0.84484,     0.84585,     0.84685,     0.84785,     0.84885,     0.84985,     0.85085,     0.85185,     0.85285,     0.85385,     0.85485,     0.85586,     0.85686,     0.85786,     0.85886,     0.85986,     0.86086,     0.86186,     0.86286,     0.86386,\n",
       "           0.86486,     0.86587,     0.86687,     0.86787,     0.86887,     0.86987,     0.87087,     0.87187,     0.87287,     0.87387,     0.87487,     0.87588,     0.87688,     0.87788,     0.87888,     0.87988,     0.88088,     0.88188,     0.88288,     0.88388,     0.88488,     0.88589,     0.88689,     0.88789,\n",
       "           0.88889,     0.88989,     0.89089,     0.89189,     0.89289,     0.89389,     0.89489,      0.8959,      0.8969,      0.8979,      0.8989,      0.8999,      0.9009,      0.9019,      0.9029,      0.9039,      0.9049,     0.90591,     0.90691,     0.90791,     0.90891,     0.90991,     0.91091,     0.91191,\n",
       "           0.91291,     0.91391,     0.91491,     0.91592,     0.91692,     0.91792,     0.91892,     0.91992,     0.92092,     0.92192,     0.92292,     0.92392,     0.92492,     0.92593,     0.92693,     0.92793,     0.92893,     0.92993,     0.93093,     0.93193,     0.93293,     0.93393,     0.93493,     0.93594,\n",
       "           0.93694,     0.93794,     0.93894,     0.93994,     0.94094,     0.94194,     0.94294,     0.94394,     0.94494,     0.94595,     0.94695,     0.94795,     0.94895,     0.94995,     0.95095,     0.95195,     0.95295,     0.95395,     0.95495,     0.95596,     0.95696,     0.95796,     0.95896,     0.95996,\n",
       "           0.96096,     0.96196,     0.96296,     0.96396,     0.96496,     0.96597,     0.96697,     0.96797,     0.96897,     0.96997,     0.97097,     0.97197,     0.97297,     0.97397,     0.97497,     0.97598,     0.97698,     0.97798,     0.97898,     0.97998,     0.98098,     0.98198,     0.98298,     0.98398,\n",
       "           0.98498,     0.98599,     0.98699,     0.98799,     0.98899,     0.98999,     0.99099,     0.99199,     0.99299,     0.99399,     0.99499,       0.996,       0.997,       0.998,       0.999,           1]), array([[          1,           1,           1, ...,           0,           0,           0],\n",
       "       [          1,           1,           1, ...,           0,           0,           0]]), 'Confidence', 'Recall']]\n",
       "fitness: 1.6475274999999998\n",
       "keys: ['metrics/precision(B)', 'metrics/recall(B)', 'metrics/mAP50(B)', 'metrics/mAP50-95(B)', 'metrics/precision(M)', 'metrics/recall(M)', 'metrics/mAP50(M)', 'metrics/mAP50-95(M)']\n",
       "maps: array([      1.393,       1.826])\n",
       "names: {0: 'date', 1: 'text_area'}\n",
       "plot: True\n",
       "results_dict: {'metrics/precision(B)': 0.9740678409544463, 'metrics/recall(B)': 1.0, 'metrics/mAP50(B)': 0.995, 'metrics/mAP50-95(B)': 0.7959999999999998, 'metrics/precision(M)': 0.9740678409544463, 'metrics/recall(M)': 1.0, 'metrics/mAP50(M)': 0.995, 'metrics/mAP50-95(M)': 0.8134749999999998, 'fitness': 1.6475274999999998}\n",
       "save_dir: PosixPath('/Users/heonyounglee/Desktop/ocr/runs/segment/train10')\n",
       "seg: ultralytics.utils.metrics.Metric object\n",
       "speed: {'preprocess': 1.7191171646118164, 'inference': 150.7340669631958, 'loss': 0.000476837158203125, 'postprocess': 0.4400014877319336}\n",
       "task: 'segment'"
      ]
     },
     "execution_count": 13,
     "metadata": {},
     "output_type": "execute_result"
    }
   ],
   "source": [
    "model = YOLO(\"../runs/segment/train7/weights/best.pt\")\n",
    "\n",
    "model.train(data='./receipts segmentation_240710.v7i.yolov8/data.yaml', epochs=100, imgsz=640)\n",
    "\n",
    "# results = model('../img/ocr_pre.jpg')"
   ]
  },
  {
   "cell_type": "code",
   "execution_count": 11,
   "metadata": {},
   "outputs": [
    {
     "name": "stdout",
     "output_type": "stream",
     "text": [
      "\n",
      "image 1/1 /Users/heonyounglee/Desktop/ocr/segmentation/../img/IMG_2011.jpg: 640x256 1 date, 2 text_areas, 110.1ms\n",
      "Speed: 2.2ms preprocess, 110.1ms inference, 12.2ms postprocess per image at shape (1, 3, 640, 256)\n",
      "검출 결과: ['입원비(iOkg이l하)-12시간', '22,000', '22,000', '5,500', '입원-인#전편프', '5,500', '수액-수액처치료A', '11,000', '11,000', '5,500', '정맵카테터', '5,500']\n",
      "검출 결과: ['사업자 등록번호 401-59-00064 병 원 명 광주동물메디어센터 원 장 : 송정은 사업자 소재지 광주광역시 광산구 북문대로 420번길 206 전   화   번 호 : 062-523-0075']\n",
      "검출 결과: ['발 행 일 2023년 1월 10일 오후 5.07:30']\n",
      "소요시간: 1.4413299560546875 sec\n",
      "\n",
      "image 1/1 /Users/heonyounglee/Desktop/ocr/segmentation/../img/IMG_2005.jpg: 640x256 2 dates, 2 text_areas, 69.0ms\n",
      "Speed: 1.0ms preprocess, 69.0ms inference, 3.8ms postprocess per image at shape (1, 3, 640, 256)\n",
      "검출 결과: ['진료비-평일 (1Okg미만) 8,800 처치-염증치료 C 11,000 (식모 세정 드레성) 처치-주사료 23,000 (1Okg이l상 15k9미만) 주사비추가-진용 / 소염 / 해열 33,000 제(Okg이상~2Ok@미만)', '8,800', '11,000', '23,000', '33,000']\n",
      "검출 결과: ['발 행 일 : 2024년 3월 26일 오후 6:27:45']\n",
      "검출 결과: ['사업자 등록번호 401-59-00064 병 원 명 광주동물메디어센터 원 장 : 승정은 사업자 소재지 광주광역시 광산구 북문대로 420번길 206 전 화 번 호 : 062-523-0075']\n",
      "검출 결과: ['사업자 oo6', '소재지 광주광역시 광산구 북문대로 420번길']\n",
      "소요시간: 0.5316040515899658 sec\n",
      "\n",
      "image 1/1 /Users/heonyounglee/Desktop/ocr/segmentation/../img/IMG_2004.jpg: 640x256 1 date, 2 text_areas, 55.7ms\n",
      "Speed: 1.5ms preprocess, 55.7ms inference, 1.9ms postprocess per image at shape (1, 3, 640, 256)\n",
      "검출 결과: ['입원비(Okg이l하)-12시간', '22,000', '22,000', '입원-인퓨전,프', '5,500', '5,500', '수액-수액처치료A', '11,000', '11,000', '정액카테터', '5,500', '5,500']\n",
      "검출 결과: ['사업자 등록번호 258-22-01518 병 원 명 : SD동물의료센터 원 장 : 김규장 사업자 소재지 서울특별시 중구 왕십리로 407 (신당동 , 신당파인헬하나유보라) 전   화   번 호 : 02-2039-0303']\n",
      "검출 결과: ['발 행 일 : 2023년 1월 11일 오후 5.07:46']\n",
      "소요시간: 1.438340663909912 sec\n",
      "\n",
      "image 1/1 /Users/heonyounglee/Desktop/ocr/segmentation/../img/IMG_2010.jpg: 640x288 1 date, 2 text_areas, 50.7ms\n",
      "Speed: 1.1ms preprocess, 50.7ms inference, 2.3ms postprocess per image at shape (1, 3, 640, 288)\n",
      "검출 결과: ['', '7,700', '7,700', '진료비', '재진', '790,000', '건강검진 반려견 Standard 790,000 건강검진 - 반려견 Standard 270,000 심장추가검사', '270,000']\n",
      "검출 결과: ['발 행 일 2023년 6월 18일 오후 2.09:46']\n",
      "검출 결과: ['사업자 등록번호 258-22-01518 병 원 명 : SD동물의료센터 원 장 : 김규장 사업자 소재지 서울특별시 중구 왕십리로 407 (신당동, 신당파인훨하나유보라) 전   화   번 호 : 02-2039-0303']\n",
      "소요시간: 2.1992108821868896 sec\n",
      "\n",
      "image 1/1 /Users/heonyounglee/Desktop/ocr/segmentation/../img/IMG_2006.jpg: 640x256 2 dates, 2 text_areas, 61.5ms\n",
      "Speed: 1.2ms preprocess, 61.5ms inference, 1.6ms postprocess per image at shape (1, 3, 640, 256)\n",
      "검출 결과: ['입원비(iOkg이l하)-12시간', '22,000', '22,000', '입원-인표전평프', '5,500', '5,500', '수액-수액처치료A', '11,000', '11,000', '정액카테터', '5,500', '5,500']\n",
      "검출 결과: ['발 행 일 : 2023년 1월 15일 오후 5:08:46']\n",
      "검출 결과: ['사업자', '소재지 광주광역시 광산구 북문대로 420번길']\n",
      "검출 결과: ['사업자 등록번호 401-59-00064 병 \" 원 명 : 광주동물메디언센터 원 장 : 송정은 사업자 소재지 광주광역시 광산구 북문대로 420번길 206 전  화 번 호 : 062-523-0075']\n",
      "소요시간: 2.7351081371307373 sec\n",
      "\n",
      "image 1/1 /Users/heonyounglee/Desktop/ocr/segmentation/../img/IMG_2012.jpg: 640x256 1 date, 2 text_areas, 51.2ms\n",
      "Speed: 1.6ms preprocess, 51.2ms inference, 1.9ms postprocess per image at shape (1, 3, 640, 256)\n",
      "검출 결과: ['입원비(iOkg이I하)-12시간', '22,000', '22,000', '입원-인#전,프', '5,500', '5,500', '수액-수액처치료A', '11,000', '11,000', '5,500', '정맥카테터', '5,500', '수액-HIS 1ooOml', '22,000', '22,000', '수액-각종 점가제 추가', '11,000', '11,000']\n",
      "검출 결과: ['사업자 등록번호 258-22-01518 병 원 명 SD동물의료센터 원 장 : 김규장 사업자 소재지 서울특별시 중구 왕십리로 407 (신당동 ,  신당파인헬하나유보라) 전   화   번 호 : 02-2039-0303']\n",
      "검출 결과: ['발 행 일 : 2023년 1월 12일 오후 5.07:46']\n",
      "소요시간: 2.868326187133789 sec\n",
      "\n",
      "image 1/1 /Users/heonyounglee/Desktop/ocr/segmentation/../img/IMG_2013.jpg: 640x224 1 date, 2 text_areas, 48.0ms\n",
      "Speed: 1.7ms preprocess, 48.0ms inference, 1.8ms postprocess per image at shape (1, 3, 640, 224)\n",
      "검출 결과: ['입원비(iOkg이l하)-12시간', '22,000', '22,000', '입원-인표전편프', '5,500', '5,500', '수액-수액처치료A', '11,000', '11,000', '내복약-1일2회(~1Okg)', '39,600', '3,300', '12', '내복약-간보호제추가(~1Okg)', '1,100', '12', '13,200', '내복약 -특수 -위장관 -체장영 C', '660', '9,240', '14', '내복약-특수-인급렉제-S', '2,200', '24,200', '11', '내복약 -특수 -신부전 -`학제 (1cap) RPP (5OOmg)', '1,100', '22', '24,200', '2,750', '30,250', '11', '혈액(전해질)-전해질 (입원 중 재검) 혈액(월구)-CBC (입원 중 재검)', '24,200', '24,200', '22,000', '22,000']\n",
      "검출 결과: ['발 행 일 2023년 1월 14일 오후 5:07:46']\n",
      "검출 결과: ['사업자 등록번호 401-59-00064 병 원 명 광주동물메디?센터 원 장 : 송정은 사업자 소재지 광주광역시   광산구 북문대로 420번길 206 전   화   번 호 : 062-523-0075']\n",
      "소요시간: 3.5169460773468018 sec\n",
      "\n",
      "image 1/1 /Users/heonyounglee/Desktop/ocr/segmentation/../img/IMG_2007.jpg: 640x256 1 date, 2 text_areas, 64.2ms\n",
      "Speed: 2.2ms preprocess, 64.2ms inference, 3.2ms postprocess per image at shape (1, 3, 640, 256)\n",
      "검출 결과: ['입원비(IOkg이l하)-12시간', '22,000', '22,000', '입원-인유전,프', '5,500', '5,500', '수액-수액처치료A', '11,000', '11,000', '주사-조설촉진제(DPO) (~5KG)', '27,500', '27,500']\n",
      "검출 결과: ['발 행 일 : 2023년 1월 13일 오후 3:35:46']\n",
      "검출 결과: ['사업자 등록번호 258-22-01518 병 원 명 SD동물의료센터 원 장 : 김규창 사업자 소재지 서울특별시 중구 왕십리로 407 (신당동 ,  신당파인필하나유보라) 전  화  번 호 : 02-2039-0303']\n",
      "소요시간: 1.50423002243042 sec\n",
      "\n",
      "image 1/1 /Users/heonyounglee/Desktop/ocr/segmentation/../img/IMG_2003.jpg: 640x256 1 date, 2 text_areas, 53.3ms\n",
      "Speed: 1.4ms preprocess, 53.3ms inference, 1.9ms postprocess per image at shape (1, 3, 640, 256)\n",
      "검출 결과: ['발 행 일 * 2024년 3월 23일 오후 4:24.00']\n",
      "검출 결과: ['진료비-평일 (1Okg미만) 8,800 처치-염종치료 C (식모 세정 드레싱) 11,000 외과처치-김스 부목(splint) 88,000 주사처치 2대+조제약7일분 60,500 (1Okg이l상~15kg미만) 주사비추가-진통 / 소염/헤열 33,000 제(Okg이l상~2Okg미만)', '8,800', '11,000', '88,000', '60,500', '33,000']\n",
      "검출 결과: ['사업자 등록번호 401-59-00064 병 원 명 광주동물메디어센터 원 장 : 송정은 사업자 소재지 광주광역시 광산구 북문대로 420번길 206 전  화  번 호 : 062-523-0075']\n",
      "소요시간: 0.7602880001068115 sec\n",
      "\n",
      "image 1/1 /Users/heonyounglee/Desktop/ocr/segmentation/../img/IMG_2009.jpg: 640x256 1 date, 2 text_areas, 66.2ms\n",
      "Speed: 1.7ms preprocess, 66.2ms inference, 2.1ms postprocess per image at shape (1, 3, 640, 256)\n",
      "검출 결과: ['입원비(iOkg이l하)-12시간', '22,000', '22,000', '입원-인표전편프', '5,500', '5,500', '11,000', '액-수액처치료A', '11,000', '액-HS 10oOml', '22,000', '44,000', '2', '수액-각종 철가제 추가', '11,000', '22,000', '2', '내복약-물약-위장관보호제 (1OOml)', '11,000', '11,000']\n",
      "검출 결과: ['사업자 등록번호 258-22-01518 병 ` 원 명 SD동물의료센터 원 장 : 김규장 사업자 소재지 서울특별시 중구 왕십리로 407 (신당동,  신당파인필하나유보라) 전   화  번 호 02-2039-0303']\n",
      "검출 결과: ['발 행 일 2023년 1월 9일 오후 3:55.22']\n",
      "소요시간: 1.655534267425537 sec\n",
      "총 10개의 영수증 이미지 평균 검출 시간 : 1.865091824531555 sec\n"
     ]
    }
   ],
   "source": [
    "import cv2\n",
    "import glob\n",
    "import time\n",
    "import math\n",
    "from ultralytics import YOLO\n",
    "import matplotlib.pyplot as plt\n",
    "from easyocr import Reader\n",
    "import numpy as np\n",
    "from PIL import ImageFont, ImageDraw, Image\n",
    "\n",
    "images = glob.glob('../img/*')\n",
    "model = YOLO('../runs/segment/train10/weights/best.pt')\n",
    "\n",
    "reader = Reader(lang_list=['en', 'ko'])\n",
    "time_list = []\n",
    "\n",
    "for img in images:\n",
    "    results = model.predict(img)\n",
    "    image= cv2.imread(img)\n",
    "    res_plot = results[0].plot()\n",
    "    cv2.imshow('Image', res_plot)\n",
    "    # cv2.waitKey(0)\n",
    "\n",
    "    # cv2.destroyAllWindows()\n",
    "    \n",
    "    start = time.time()\n",
    "\n",
    "\n",
    "    for i, box in enumerate(results[0].boxes):\n",
    "        x1, y1, x2, y2 = map(int, box.xyxy[0])  # Bounding Box 좌표 추출\n",
    "        cropped_img = image[y1:y2, x1:x2]  # 이미지 크롭\n",
    "\n",
    "        gray = cv2.cvtColor(cropped_img, cv2.COLOR_BGR2GRAY)\n",
    "\n",
    "        img_result = reader.readtext(gray, batch_size=10000, detail=0, paragraph=True)\n",
    "\n",
    "        print('검출 결과:',img_result)\n",
    "        \n",
    "        # 5. 크롭된 이미지 저장\n",
    "        # cv2.imwrite(f\"cropped_image_{i}.jpg\", cropped_img)\n",
    "    end = time.time()\n",
    "    time_list.append(end-start)\n",
    "\n",
    "    print('소요시간:', f'{end - start} sec')\n",
    "print(f'총 {len(time_list)}개의 영수증 이미지 평균 검출 시간 : {sum(time_list)/len(time_list)} sec')\n"
   ]
  },
  {
   "cell_type": "code",
   "execution_count": 2,
   "metadata": {},
   "outputs": [],
   "source": [
    "from gensim.models import FastText\n",
    "from keras.models import load_model\n",
    "import fasttext\n",
    "from khaiii import KhaiiiApi\n",
    "api = KhaiiiApi()\n",
    "\n",
    "def seperate(sentence):\n",
    "    sentence = str(sentence)\n",
    "\n",
    "    result = []\n",
    "\n",
    "    for word in api.analyze(sentence):\n",
    "        for morph in word.morphs:\n",
    "            result.append(morph.lex)\n",
    "\n",
    "    return ' '.join(result)"
   ]
  },
  {
   "cell_type": "code",
   "execution_count": 31,
   "metadata": {},
   "outputs": [
    {
     "name": "stdout",
     "output_type": "stream",
     "text": [
      "YOLOv8-segmentation 모델 호출 중...\n",
      "EasyOCR모델 호출중...\n",
      "카테고리 분류용 모델 호출중...\n",
      "50장의 이미지 불러오는 중...\n",
      "시작시간 기록: 1722236615.725686\n",
      "YOLOv8 모델로 필요한 텍스트영역 추출중...\n",
      "\n",
      "image 1/1 /Users/heonyounglee/Desktop/ocr/segmentation/../img/IMG_2039.jpg: 640x416 1 date, 2 text_areas, 150.4ms\n",
      "Speed: 17.3ms preprocess, 150.4ms inference, 35.0ms postprocess per image at shape (1, 3, 640, 416)\n",
      "검출된 이미지에 EasyOCR모델 적용중...\n",
      "검출 결과: ['사업자 등록번호 301-09-95188', '병', '원', '명 : 정성환동물병원', '원', '장 : 정성환', '사업자 소재지 : 충청북도 청주시 청원구 공항로 5', '전  화 번 호 : 043-216-8274']\n",
      "검출 결과: ['진료비', '초진', '11,000', '전해질 분석', '검사 내과(혈액) (ABL8O), GAS', '45,000', '검사 내과(혈액)', 'CRP', '38,000', '검사', '내과', '체장영 (cPLI) 정량검', '77,000', '사', 'X-ray(방사선) / 흥복부 (~1Okg)', '70,000']\n",
      "검출 결과: ['발 행 일 2023년 10월 15일 오전 11:49:59']\n",
      "결과물 모두 출력 >> \n",
      "동물병원 이름 : [': 정성환동물병원']\n",
      "동물병원 주소 : [': 충청북도 청주시 청원구 공항로 5']\n",
      "진료명 : ['진료비', '초진', '전해질 분석', '검사 내과(혈액) (ABL8O), GAS', '검사 내과(혈액)', 'CRP', '검사', '내과', '체장영 (cPLI) 정량검', 'X-ray(방사선) / 흥복부 (~1Okg)']\n",
      "진료비 : ['11,000', '45,000', '38,000', '77,000', '70,000']\n",
      "진료일 : ['발 행 일 2023년 10월 15일 오전 11:49:59']\n",
      "====================================================\n",
      "YOLOv8 모델로 필요한 텍스트영역 추출중...\n",
      "\n",
      "image 1/1 /Users/heonyounglee/Desktop/ocr/segmentation/../img/IMG_2038.jpg: 640x384 1 date, 2 text_areas, 98.8ms\n",
      "Speed: 3.8ms preprocess, 98.8ms inference, 3.6ms postprocess per image at shape (1, 3, 640, 384)\n",
      "검출된 이미지에 EasyOCR모델 적용중...\n",
      "검출 결과: ['사업자 등록번호 227-12-91550', '병', '원', '명 : 대구24시바른동물의료센터', '원', '장 : 이정석', '사업자', '소재지 대구광역시 달서구 와몽로 142 2', '층 (감삼동 280-5)', '전   화 번 호 : 053-571-0075']\n",
      "검출 결과: ['진료비', '초진', '6,600', 'Spec-cPLISpec-fPL(체장염) 검사', '50,000', '영종', '마퀴 검사', 'Canine- CRP', '29,000', 'Feline', 'SAA', '전해질', '검사', '27,500', '림거 수액 처치', '44,000', '철당곡선 (Glucose Curve)', '77,000']\n",
      "검출 결과: ['발 행 일', '2022년 3월 11일 오후 4:03.06']\n",
      "결과물 모두 출력 >> \n",
      "동물병원 이름 : [': 대구24시바른동물의료센터']\n",
      "동물병원 주소 : ['대구광역시 달서구 와몽로 142 2']\n",
      "진료명 : ['층 (감삼동 280-5)', '진료비', '초진', '6,600', 'Spec-cPLISpec-fPL(체장염) 검사', '영종', '마퀴 검사', 'Canine- CRP', 'Feline', 'SAA', '전해질', '검사', '림거 수액 처치', '철당곡선 (Glucose Curve)']\n",
      "진료비 : ['50,000', '29,000', '27,500', '44,000', '77,000']\n",
      "진료일 : ['발 행 일']\n",
      "====================================================\n",
      "YOLOv8 모델로 필요한 텍스트영역 추출중...\n",
      "\n",
      "image 1/1 /Users/heonyounglee/Desktop/ocr/segmentation/../img/IMG_2029.jpg: 640x416 1 date, 2 text_areas, 105.6ms\n",
      "Speed: 8.5ms preprocess, 105.6ms inference, 3.1ms postprocess per image at shape (1, 3, 640, 416)\n",
      "검출된 이미지에 EasyOCR모델 적용중...\n",
      "검출 결과: ['사업자 등록번호 653-66-00440', '병 원', '명 24시온동물의료센터', '원', '장 : 이동환', '사업자 소재지 부산광역시 부산진구 동성로 152', '전  화 번 호 : 051-819-6061']\n",
      "검출 결과: ['심장초음파만리퍼(심 초+홍방+훨압)', '222,000', '내복약 1일 2회 (5kg~1Okg미만)', '6,000', '약물', '고가 (pimobendan 5mg)', '3,000']\n",
      "검출 결과: ['발 행 일 : 2024년 5월 4일 오후 1:40:35']\n",
      "결과물 모두 출력 >> \n",
      "동물병원 이름 : ['24시온동물의료센터']\n",
      "동물병원 주소 : ['부산광역시 부산진구 동성로 152']\n",
      "진료명 : ['병 원', '심장초음파만리퍼(심 초+홍방+훨압)', '내복약 1일 2회 (5kg~1Okg미만)', '약물', '고가 (pimobendan 5mg)']\n",
      "진료비 : ['222,000', '6,000', '3,000']\n",
      "진료일 : ['발 행 일 : 2024년 5월 4일 오후 1:40:35']\n",
      "====================================================\n",
      "YOLOv8 모델로 필요한 텍스트영역 추출중...\n",
      "\n",
      "image 1/1 /Users/heonyounglee/Desktop/ocr/segmentation/../img/IMG_2072.JPG: 640x480 1 date, 2 text_areas, 165.3ms\n",
      "Speed: 5.8ms preprocess, 165.3ms inference, 4.3ms postprocess per image at shape (1, 3, 640, 480)\n",
      "검출된 이미지에 EasyOCR모델 적용중...\n",
      "검출 결과: ['사업자 등록번호', '401-59-00064', '원 ` 명 : 광주동물메디어센터', '병 `', '장 : 송정은', '원', '사업자', '광주광역시 광산구 북문대로 420', '소재지', '번길 206', '전   화   번 호 : 062-523-0075']\n",
      "검출 결과: ['22,000', '입원비(1Okg이l하)-12시간', '5,500', '입원-인표전편프', '11,000', '수액-수액처치료A', '3,300', '내복약-1일2회 (~1Okg)', '1,100', '내복약-간보호제추가(~Okg)', '내복약-특수-위장관-체장영C', '660', '2,200', '내복약-특수-인롭렉제-S', '1,100', '내복약-특수-신부전-흉학제(cap)', '2,750', 'RPP (50Omg)']\n",
      "검출 결과: ['발 행 일 2023년 1월 14일 오후 5.07:46']\n",
      "결과물 모두 출력 >> \n",
      "동물병원 이름 : [': 광주동물메디어센터']\n",
      "동물병원 주소 : ['']\n",
      "진료명 : ['401-59-00064', '병 `', '광주광역시 광산구 북문대로 420', '번길 206', '입원비(1Okg이l하)-12시간', '입원-인표전편프', '수액-수액처치료A', '3,300', '내복약-1일2회 (~1Okg)', '1,100', '내복약-간보호제추가(~Okg)', '내복약-특수-위장관-체장영C', '660', '2,200', '내복약-특수-인롭렉제-S', '1,100', '내복약-특수-신부전-흉학제(cap)', '2,750', 'RPP (50Omg)']\n",
      "진료비 : ['22,000', '5,500', '11,000']\n",
      "진료일 : ['발 행 일 2023년 1월 14일 오후 5.07:46']\n",
      "====================================================\n",
      "YOLOv8 모델로 필요한 텍스트영역 추출중...\n",
      "\n",
      "image 1/1 /Users/heonyounglee/Desktop/ocr/segmentation/../img/IMG_2066.jpg: 640x480 2 dates, 2 text_areas, 175.0ms\n",
      "Speed: 2.9ms preprocess, 175.0ms inference, 6.0ms postprocess per image at shape (1, 3, 640, 480)\n",
      "검출된 이미지에 EasyOCR모델 적용중...\n",
      "검출 결과: ['22,000', '입원비(Okg이l하)-12시간', '5,500', '입원-인표전편프', '11,000', '수액-수액처치료A', '5,500', '정맥카테터']\n",
      "검출 결과: ['사업자 등록번호 258-22-01518', '병  원 \" 명 SD동물의료센터', '장 : 김규창', '원', '소재지 서울특별시 중구', '왕십리로 407', '사업자', '(신당동 ,  신당파인필하나유보라)', '전 화 번 호 : 02-2039-0303']\n",
      "검출 결과: ['발 행 일 2023년 1월 11일 오후 5.07:46']\n",
      "검출 결과: ['발 행 일 2023년 1월 11일']\n",
      "결과물 모두 출력 >> \n",
      "동물병원 이름 : ['SD동물의료센터']\n",
      "동물병원 주소 : ['서울특별시 중구']\n",
      "진료명 : ['입원비(Okg이l하)-12시간', '입원-인표전편프', '수액-수액처치료A', '정맥카테터', '왕십리로 407', '(신당동 ,  신당파인필하나유보라)']\n",
      "진료비 : ['22,000', '5,500', '11,000', '5,500']\n",
      "진료일 : ['발 행 일 2023년 1월 11일 오후 5.07:46', '발 행 일 2023년 1월 11일']\n",
      "====================================================\n",
      "YOLOv8 모델로 필요한 텍스트영역 추출중...\n",
      "\n",
      "image 1/1 /Users/heonyounglee/Desktop/ocr/segmentation/../img/IMG_2067.JPG: 640x480 1 date, 2 text_areas, 119.8ms\n",
      "Speed: 3.9ms preprocess, 119.8ms inference, 5.7ms postprocess per image at shape (1, 3, 640, 480)\n",
      "검출된 이미지에 EasyOCR모델 적용중...\n",
      "검출 결과: ['사업자 등록번호 258-22-01518', '원 ` 명 SD동물의료센터', '병  ', '장 : 김규창', '원', '소재지 서울특별시 중구 왕십리로 407', '사업자', '(신당동 , 신당파인필하나유보라)', '전  화 번 호 : 02-2039-0303']\n",
      "검출 결과: ['발 행 일 2023년 1월 9일 오후 3:55:22']\n",
      "검출 결과: ['22,000', '입원비 (Okg이l하)-12시간', '5,500', '입원-인표전편프', '11,000', '수액-수액처치료A', '22,000', '수액-HS 1oooml', '11,000', '수액-각종 철가제 추가', '내복약-물약-위장관보호제(OOml)', '11,000']\n",
      "결과물 모두 출력 >> \n",
      "동물병원 이름 : ['SD동물의료센터']\n",
      "동물병원 주소 : ['서울특별시 중구 왕십리로 407']\n",
      "진료명 : ['병  ', '(신당동 , 신당파인필하나유보라)', '입원비 (Okg이l하)-12시간', '입원-인표전편프', '수액-수액처치료A', '수액-HS 1oooml', '수액-각종 철가제 추가', '내복약-물약-위장관보호제(OOml)']\n",
      "진료비 : ['22,000', '5,500', '11,000', '22,000', '11,000', '11,000']\n",
      "진료일 : ['발 행 일 2023년 1월 9일 오후 3:55:22']\n",
      "====================================================\n",
      "YOLOv8 모델로 필요한 텍스트영역 추출중...\n",
      "\n",
      "image 1/1 /Users/heonyounglee/Desktop/ocr/segmentation/../img/IMG_2073.JPG: 640x480 1 date, 2 text_areas, 120.9ms\n",
      "Speed: 3.0ms preprocess, 120.9ms inference, 7.4ms postprocess per image at shape (1, 3, 640, 480)\n",
      "검출된 이미지에 EasyOCR모델 적용중...\n",
      "검출 결과: ['8,800', '진료비-평일 (1Okg미만)', '11,000', '처치-영종치료 C(삭모 세정 드레싱)', '처치-주사료 (1Okg이l상 15k9미만)', '23,000', '주사비추가 -진통 | 소염 /해열 제 (1Okg', '33,000', '이상~2Okg미만)']\n",
      "검출 결과: ['발 행 일 2024년 3월 26일 오후 6:27:45']\n",
      "검출 결과: ['사업자 등록번호 401-59-00064', '병   원 \" 명 : 광주동물메디어센터', '장 : 송정은', '원', '광주광역시 광산구 북문대로 420', '사업자', '소재지', '번길 206', '전  화 번 호 : 062-523-0075']\n",
      "결과물 모두 출력 >> \n",
      "동물병원 이름 : [': 광주동물메디어센터']\n",
      "동물병원 주소 : ['']\n",
      "진료명 : ['진료비-평일 (1Okg미만)', '처치-영종치료 C(삭모 세정 드레싱)', '처치-주사료 (1Okg이l상 15k9미만)', '주사비추가 -진통 | 소염 /해열 제 (1Okg', '이상~2Okg미만)', '광주광역시 광산구 북문대로 420', '번길 206']\n",
      "진료비 : ['8,800', '11,000', '23,000', '33,000']\n",
      "진료일 : ['발 행 일 2024년 3월 26일 오후 6:27:45']\n",
      "====================================================\n",
      "YOLOv8 모델로 필요한 텍스트영역 추출중...\n",
      "\n",
      "image 1/1 /Users/heonyounglee/Desktop/ocr/segmentation/../img/IMG_2065.jpg: 640x384 1 date, 2 text_areas, 150.8ms\n",
      "Speed: 2.4ms preprocess, 150.8ms inference, 3.7ms postprocess per image at shape (1, 3, 640, 384)\n",
      "검출된 이미지에 EasyOCR모델 적용중...\n",
      "검출 결과: ['진료비-기본 재진 (외래)', '10,000', '검사-Complete blood celllCBC) -Procyte', '55,000', '검사-Blood', 'analysis', 'gas', '39,000', '(PGA) , 전해질 (Nova)', '검사-Chemistry 17 종', '130,000', '검사-Chemistry (CRP)', '38,000', '내복약-1일 2회 (1Okg~15kg)', '6,000', '내복약-위장관보호 제추가(오메 ** , 1Omg)', '1,800', '내복약-항암 제추가(Melph**2mg)', '3,000']\n",
      "검출 결과: ['발 행 일 2024년', '6월 15일 오전 10:54:25']\n",
      "검출 결과: ['사업자 등록번호 122-11-74356', '병 \" 원  명 : 아마존동물병원', '원', '장 : 류대원', '사업자', '소재지 : 인천 계양구 임학동 67-7 대건', '프라자 101호', '전  화 번 호 : 032-555-7502']\n",
      "결과물 모두 출력 >> \n",
      "동물병원 이름 : [': 아마존동물병원']\n",
      "동물병원 주소 : [': 인천 계양구 임학동 67-7 대건']\n",
      "진료명 : ['진료비-기본 재진 (외래)', '검사-Complete blood celllCBC) -Procyte', '검사-Blood', 'analysis', 'gas', '(PGA) , 전해질 (Nova)', '검사-Chemistry 17 종', '검사-Chemistry (CRP)', '내복약-1일 2회 (1Okg~15kg)', '내복약-위장관보호 제추가(오메 ** , 1Omg)', '1,800', '내복약-항암 제추가(Melph**2mg)', '프라자 101호']\n",
      "진료비 : ['10,000', '55,000', '39,000', '130,000', '38,000', '6,000', '3,000']\n",
      "진료일 : ['발 행 일 2024년']\n",
      "====================================================\n",
      "YOLOv8 모델로 필요한 텍스트영역 추출중...\n",
      "\n",
      "image 1/1 /Users/heonyounglee/Desktop/ocr/segmentation/../img/IMG_2071.JPG: 640x480 1 date, 2 text_areas, 267.0ms\n",
      "Speed: 5.5ms preprocess, 267.0ms inference, 13.8ms postprocess per image at shape (1, 3, 640, 480)\n",
      "검출된 이미지에 EasyOCR모델 적용중...\n",
      "검출 결과: ['발 행 일 2024년 3월 23일 오후 4:24:00']\n",
      "검출 결과: ['진료비-평일 (1Okg미만)', '8,800', '처치-염증치료 C', '11,000', '(삭모 세정 드레싱)', '외과처지-김스 부목(splint)', '88,000', '주사처치 2대+조제약7일분 (1Okgol 상~15kg미만) 주사비추가 -진통 | 소염 /혜열제 (1Okg 이상~20kg미만)', '60,500', '33,000']\n",
      "검출 결과: ['사업자 등록번호 401-59-00064', '병 ` 원 ` 명 : 광주동물메디어센터', '원', '장 : 송정은', '사업자', '소재지 :', '광주광역시 광산구 북문대로 420', '번길 206', '전   화  번 호 : 062-523-0075']\n",
      "결과물 모두 출력 >> \n",
      "동물병원 이름 : [': 광주동물메디어센터']\n",
      "동물병원 주소 : [':']\n",
      "진료명 : ['진료비-평일 (1Okg미만)', '처치-염증치료 C', '(삭모 세정 드레싱)', '외과처지-김스 부목(splint)', '주사처치 2대+조제약7일분 (1Okgol 상~15kg미만) 주사비추가 -진통 | 소염 /혜열제 (1Okg 이상~20kg미만)', '광주광역시 광산구 북문대로 420', '번길 206']\n",
      "진료비 : ['8,800', '11,000', '88,000', '60,500', '33,000']\n",
      "진료일 : ['발 행 일 2024년 3월 23일 오후 4:24:00']\n",
      "====================================================\n",
      "YOLOv8 모델로 필요한 텍스트영역 추출중...\n",
      "\n",
      "image 1/1 /Users/heonyounglee/Desktop/ocr/segmentation/../img/IMG_2059.jpg: 640x448 1 date, 2 text_areas, 178.9ms\n",
      "Speed: 8.8ms preprocess, 178.9ms inference, 4.0ms postprocess per image at shape (1, 3, 640, 448)\n",
      "검출된 이미지에 EasyOCR모델 적용중...\n",
      "검출 결과: ['사업자 등록번호 3812600054 병    원 명 : 24시 센트럭 동물의료센터', '장 : 김병선', '원', '사업자 소재지 : 경기도 시흥시 정왕동 1726-1 (광개토빌딩1) 1총/2총', '전  화 번 호 : 031-432-2475']\n",
      "검출 결과: ['3,850', '내복약-일 2회 (~5kg)', '5,000', '진료비-재진', 'X-ray방사선촬영 (충부2컷) ~gkg', '40,000', '9,900', '주사-피하/근육주사(-5kg)', '11,000', '네불라이 저(Nebulization)']\n",
      "검출 결과: ['발 행 일 2024년 5월 1일 오전 10:06:06']\n",
      "결과물 모두 출력 >> \n",
      "동물병원 이름 : [': 24시 센트럭 동물의료센터']\n",
      "동물병원 주소 : [': 경기도 시흥시 정왕동 1726-1 (광개토빌딩1) 1총/2총']\n",
      "진료명 : ['3,850', '내복약-일 2회 (~5kg)', '진료비-재진', 'X-ray방사선촬영 (충부2컷) ~gkg', '주사-피하/근육주사(-5kg)', '네불라이 저(Nebulization)']\n",
      "진료비 : ['5,000', '40,000', '9,900', '11,000']\n",
      "진료일 : ['발 행 일 2024년 5월 1일 오전 10:06:06']\n",
      "====================================================\n",
      "YOLOv8 모델로 필요한 텍스트영역 추출중...\n",
      "\n",
      "image 1/1 /Users/heonyounglee/Desktop/ocr/segmentation/../img/IMG_2058.jpg: 640x416 1 date, 2 text_areas, 100.3ms\n",
      "Speed: 3.2ms preprocess, 100.3ms inference, 3.5ms postprocess per image at shape (1, 3, 640, 416)\n",
      "검출된 이미지에 EasyOCR모델 적용중...\n",
      "검출 결과: ['사업자 등록번호 131-36-56035', '병   원 ` 명 : 소래동물병원', '원', '장 : 장예승', '소재지 인천광역시 남동구 더타위 상가', '사업자', 'C동 소래동물병원 1층', '전   화 번 호 : 032-438-3227']\n",
      "검출 결과: ['발 행 일 : 2023년 3월 11일 오전 10:06:06']\n",
      "검출 결과: ['진료비', '8,000', '검사-X-ray- 단순방 사선촬영', '50,000', '검사 - 혈액검증 (CRP)', '30,000', '검사 - 혈액검사(단 일항목)', '9,000', '주사-피하/근육주사2', '18,000', '내복약 (~7kg)', '3,500']\n",
      "결과물 모두 출력 >> \n",
      "동물병원 이름 : [': 소래동물병원']\n",
      "동물병원 주소 : ['인천광역시 남동구 더타위 상가']\n",
      "진료명 : ['C동 소래동물병원 1층', '진료비', '검사-X-ray- 단순방 사선촬영', '검사 - 혈액검증 (CRP)', '검사 - 혈액검사(단 일항목)', '주사-피하/근육주사2', '내복약 (~7kg)']\n",
      "진료비 : ['8,000', '50,000', '30,000', '9,000', '18,000', '3,500']\n",
      "진료일 : ['발 행 일 : 2023년 3월 11일 오전 10:06:06']\n",
      "====================================================\n",
      "YOLOv8 모델로 필요한 텍스트영역 추출중...\n",
      "\n",
      "image 1/1 /Users/heonyounglee/Desktop/ocr/segmentation/../img/IMG_2070.JPG: 640x480 1 date, 2 text_areas, 111.5ms\n",
      "Speed: 8.3ms preprocess, 111.5ms inference, 3.4ms postprocess per image at shape (1, 3, 640, 480)\n",
      "검출된 이미지에 EasyOCR모델 적용중...\n",
      "검출 결과: ['22,000', '입원비(Okg이I하)-12시간', '5,500', '입원-인#전필프', '11,000', '수액-수액처치료A', '5,500', '정맥카테터', '22,000', '수액-HS 1ooOml', '11,000', '수액-각종 철가제  추가']\n",
      "검출 결과: ['사업자 등록번호 258-22-01518', '병    원 ` 명 : SD동물의료센터', '장 : 김규창', '원', '소재지 서울특별시 중구 왕십리로 407', '사업자', '(신당동 , 신당파인필하나유보라)', '전  화 번  호 : 02-2039-0303']\n",
      "검출 결과: ['발 행 일 2023년 1월 12일 오후 5,07:46']\n",
      "결과물 모두 출력 >> \n",
      "동물병원 이름 : [': SD동물의료센터']\n",
      "동물병원 주소 : ['서울특별시 중구 왕십리로 407']\n",
      "진료명 : ['입원비(Okg이I하)-12시간', '입원-인#전필프', '수액-수액처치료A', '정맥카테터', '수액-HS 1ooOml', '수액-각종 철가제  추가', '(신당동 , 신당파인필하나유보라)']\n",
      "진료비 : ['22,000', '5,500', '11,000', '5,500', '22,000', '11,000']\n",
      "진료일 : ['발 행 일 2023년 1월 12일 오후 5,07:46']\n",
      "====================================================\n",
      "YOLOv8 모델로 필요한 텍스트영역 추출중...\n",
      "\n",
      "image 1/1 /Users/heonyounglee/Desktop/ocr/segmentation/../img/IMG_2064.jpg: 640x448 1 date, 2 text_areas, 109.8ms\n",
      "Speed: 2.8ms preprocess, 109.8ms inference, 4.3ms postprocess per image at shape (1, 3, 640, 448)\n",
      "검출된 이미지에 EasyOCR모델 적용중...\n",
      "검출 결과: ['발 행 일 2024년 5월 29일 오후 2.40:52']\n",
      "검출 결과: ['진료 상담비 (재진)', '12,600', '안검사-쓸랍현민경밀형광염 색 (재', '55,130', '진)', '소염제안약 (Iotemax)', '22,050', '항생제안약(Of1)', '11,580']\n",
      "검출 결과: ['사업자 등록번호 122-11-74356', '병   원 ` 명 : 아마존동물병원', '장 : 류대원', '원', '소재지 : 인천 계양구 임학동 67-7 대건프', '사업자', '라자 101호', '전  화 번  호 : 032-555-7502']\n",
      "결과물 모두 출력 >> \n",
      "동물병원 이름 : [': 아마존동물병원']\n",
      "동물병원 주소 : [': 인천 계양구 임학동 67-7 대건프']\n",
      "진료명 : ['진료 상담비 (재진)', '안검사-쓸랍현민경밀형광염 색 (재', '55,130', '진)', '소염제안약 (Iotemax)', '22,050', '항생제안약(Of1)', '11,580', '라자 101호']\n",
      "진료비 : ['12,600']\n",
      "진료일 : ['발 행 일 2024년 5월 29일 오후 2.40:52']\n",
      "====================================================\n",
      "YOLOv8 모델로 필요한 텍스트영역 추출중...\n",
      "\n",
      "image 1/1 /Users/heonyounglee/Desktop/ocr/segmentation/../img/IMG_2048.jpg: 640x384 1 date, 2 text_areas, 93.6ms\n",
      "Speed: 2.3ms preprocess, 93.6ms inference, 3.4ms postprocess per image at shape (1, 3, 640, 384)\n",
      "검출된 이미지에 EasyOCR모델 적용중...\n",
      "검출 결과: ['4,400', '내복약 BID-일반(~5kg)', '1', '4,400', '내복약 BID-일반(~5ka) 경련약', '시그니처바이 반려묘 Na X5개 스틱', '6,000', '시그니처바이 Aa X8개 캠', '11,000']\n",
      "검출 결과: ['발 행 일 2023년 1월 16일 오후 2.00:44']\n",
      "검출 결과: ['사업자 등록번호 : 603-34-77851', '병   원 ` 명 : 서울동물의료센터', '원', '장 : 석준수', '사업자', '소재지 : 세종시 아름동 1089 (보듬7로 78),', '2층', '전  화 번 호 : 02-566-8211']\n",
      "결과물 모두 출력 >> \n",
      "동물병원 이름 : [': 서울동물의료센터']\n",
      "동물병원 주소 : [': 세종시 아름동 1089 (보듬7로 78),']\n",
      "진료명 : ['4,400', '내복약 BID-일반(~5kg)', '4,400', '내복약 BID-일반(~5ka) 경련약', '시그니처바이 반려묘 Na X5개 스틱', '시그니처바이 Aa X8개 캠', '2층']\n",
      "진료비 : ['6,000', '11,000']\n",
      "진료일 : ['발 행 일 2023년 1월 16일 오후 2.00:44']\n",
      "====================================================\n",
      "YOLOv8 모델로 필요한 텍스트영역 추출중...\n",
      "\n",
      "image 1/1 /Users/heonyounglee/Desktop/ocr/segmentation/../img/IMG_2060.jpg: 640x352 1 date, 2 text_areas, 107.6ms\n",
      "Speed: 1.9ms preprocess, 107.6ms inference, 3.0ms postprocess per image at shape (1, 3, 640, 352)\n",
      "검출된 이미지에 EasyOCR모델 적용중...\n",
      "검출 결과: ['사업자 등록번호 : 3812600054', '병   원 ` 명 : 24시 센트럭 동물의료센터', '원', '장 : 김병선', '사업자', '소재지 :', '경기도 시흥시  정왕동 1726-1 (광개토빌딩1) 1총/2층', '전 화 번 호 : 031-432-2475']\n",
      "검출 결과: ['진료비-재진(예약)', '5,500', '방사선검사-복부2장 (~5k9미만)', '35,000', '11,000', '정맥카테터', '위세척-구토제투여 (~5kg미만)', '55,000', '혈액(기타)-채철', '11,000', '혈액(헬구)-CBC', '35,000', '혈액(월청)-전해질', '33,000', '혈액(철청)-Chemistryi항목', '9,000', '혈 액(특수홀청)-Chemistryt항목', '18,000', '내복약', 'SID to BID(~5kg미만)', '3,000']\n",
      "검출 결과: ['발 행 일', '2024년 5월 14일 오전 10:06:06']\n",
      "결과물 모두 출력 >> \n",
      "동물병원 이름 : [': 24시 센트럭 동물의료센터']\n",
      "동물병원 주소 : [':']\n",
      "진료명 : ['경기도 시흥시  정왕동 1726-1 (광개토빌딩1) 1총/2층', '진료비-재진(예약)', '방사선검사-복부2장 (~5k9미만)', '정맥카테터', '위세척-구토제투여 (~5kg미만)', '혈액(기타)-채철', '혈액(헬구)-CBC', '혈액(월청)-전해질', '혈액(철청)-Chemistryi항목', '혈 액(특수홀청)-Chemistryt항목', '내복약', 'SID to BID(~5kg미만)']\n",
      "진료비 : ['5,500', '35,000', '11,000', '55,000', '11,000', '35,000', '33,000', '9,000', '18,000', '3,000']\n",
      "진료일 : ['발 행 일']\n",
      "====================================================\n",
      "YOLOv8 모델로 필요한 텍스트영역 추출중...\n",
      "\n",
      "image 1/1 /Users/heonyounglee/Desktop/ocr/segmentation/../img/IMG_2061.jpg: 640x416 1 date, 2 text_areas, 468.2ms\n",
      "Speed: 3.0ms preprocess, 468.2ms inference, 7.7ms postprocess per image at shape (1, 3, 640, 416)\n",
      "검출된 이미지에 EasyOCR모델 적용중...\n",
      "검출 결과: ['진료비-주간 (일요일 ,공휴일)', '20,000', '요검사-요비중 스틱 요침사', '36,000', '분뇌노검사-요검사-UPC', '40,000']\n",
      "검출 결과: ['발 행 일 2024년 6월 7일 오후 2:38:41']\n",
      "검출 결과: ['사업자 등록번호 258-22-01518', '병 원 ` 명 : 뉴본동물의료센터', '원', '장 : 홍성진', '사업자', '소재지 : 경기도 평택시 동식동 로 22번길', '19-13 뉴본동물의료센터 2층', '전  화 번 호 : 031-647-6679']\n",
      "결과물 모두 출력 >> \n",
      "동물병원 이름 : [': 뉴본동물의료센터']\n",
      "동물병원 주소 : [': 경기도 평택시 동식동 로 22번길']\n",
      "진료명 : ['진료비-주간 (일요일 ,공휴일)', '요검사-요비중 스틱 요침사', '분뇌노검사-요검사-UPC', '19-13 뉴본동물의료센터 2층']\n",
      "진료비 : ['20,000', '36,000', '40,000']\n",
      "진료일 : ['발 행 일 2024년 6월 7일 오후 2:38:41']\n",
      "====================================================\n",
      "YOLOv8 모델로 필요한 텍스트영역 추출중...\n",
      "\n",
      "image 1/1 /Users/heonyounglee/Desktop/ocr/segmentation/../img/IMG_2049.jpg: 640x384 2 dates, 3 text_areas, 129.7ms\n",
      "Speed: 5.6ms preprocess, 129.7ms inference, 5.0ms postprocess per image at shape (1, 3, 640, 384)\n",
      "검출된 이미지에 EasyOCR모델 적용중...\n",
      "검출 결과: ['발 행 일 : 2023년 1월 1일 오후 4:20:46']\n",
      "검출 결과: ['검사-X-rayi(기본)', '7,700', '검사-X-rayi(추가)', '16,500', '진료비', '4,400', '카디악', '37,500']\n",
      "검출 결과: ['사업자 등록번호 : 603-34-77851', '병 ', '원 명 : 서울동물의료센터', '원', '장 : 석준수', '사업자 소재지 : 세중시 아름동 1089 (보름7로 78)', '2층', '전   화 번 호 : 02-566-8211', '고객 번호 : 8924', '고객 이름 : 손예준', '날짜 : 2023-01-01', '동물명 리리', '항목', '금액', '수량', '검사-X-rayi(기본)', '7,700', '검사-X-rayi(추가)', '16,500', '진료비', '4,400', '카디악', '37,500']\n",
      "검출 결과: ['사업자 소재지 : 세종시 아름동 1089 (보름로 78),']\n",
      "검출 결과: ['사업자 등록번호 : 603-34-77851', '병 `', '원', '명 : 서울동물의료센터', '원', '장 : 석준수', '사업자 소재지 : 세중시 아름동 1089 (보름7로 78)', '2층', '전   화 번 호 : 02-566-8211']\n",
      "결과물 모두 출력 >> \n",
      "동물병원 이름 : [': 서울동물의료센터', '리리', ': 서울동물의료센터']\n",
      "동물병원 주소 : [': 세중시 아름동 1089 (보름7로 78)', ': 세종시 아름동 1089 (보름로 78),', ': 세중시 아름동 1089 (보름7로 78)']\n",
      "진료명 : ['검사-X-rayi(기본)', '검사-X-rayi(추가)', '진료비', '4,400', '카디악', '병 ', '2층', '항목', '금액', '수량', '검사-X-rayi(기본)', '검사-X-rayi(추가)', '진료비', '4,400', '카디악', '병 `', '2층']\n",
      "진료비 : ['7,700', '16,500', '37,500', '7,700', '16,500', '37,500']\n",
      "진료일 : ['발 행 일 : 2023년 1월 1일 오후 4:20:46']\n",
      "====================================================\n",
      "YOLOv8 모델로 필요한 텍스트영역 추출중...\n",
      "\n",
      "image 1/1 /Users/heonyounglee/Desktop/ocr/segmentation/../img/IMG_2077.JPG: 640x480 1 date, 2 text_areas, 174.8ms\n",
      "Speed: 3.3ms preprocess, 174.8ms inference, 12.2ms postprocess per image at shape (1, 3, 640, 480)\n",
      "검출된 이미지에 EasyOCR모델 적용중...\n",
      "검출 결과: ['3,000', '진찰검사비', '(재진)', '25,000', '혈액검사', '(CBC)', '40,000', '혈액검사 (신장)', '20,000', '수액(iOOml) NS', '1', '3,000', '수액청가제', '2,500', '내복약 (신부전 , RMZ cap, BID)', '4,000', '내복약 (~1Okg)']\n",
      "검출 결과: ['사업자 등록번호 120-87-92182', '병   원 ` 명 : 퍼니켓동물병원', '장 : 김대희', '원', '소재지 대전 유성구 농대로 4', '사업자', '전  화 번 호 : 042-862-7588']\n",
      "검출 결과: ['발 행 일 2024년 5월', '17일 오전 10.07.06']\n",
      "결과물 모두 출력 >> \n",
      "동물병원 이름 : [': 퍼니켓동물병원']\n",
      "동물병원 주소 : ['대전 유성구 농대로 4']\n",
      "진료명 : ['진찰검사비', '(재진)', '혈액검사', '(CBC)', '혈액검사 (신장)', '수액(iOOml) NS', '수액청가제', '2,500', '내복약 (신부전 , RMZ cap, BID)', '내복약 (~1Okg)', '17일 오전 10.07.06']\n",
      "진료비 : ['3,000', '25,000', '40,000', '20,000', '3,000', '4,000']\n",
      "진료일 : ['발 행 일 2024년 5월']\n",
      "====================================================\n",
      "YOLOv8 모델로 필요한 텍스트영역 추출중...\n",
      "\n",
      "image 1/1 /Users/heonyounglee/Desktop/ocr/segmentation/../img/IMG_2063.jpg: 640x448 1 date, 2 text_areas, 101.1ms\n",
      "Speed: 3.1ms preprocess, 101.1ms inference, 3.5ms postprocess per image at shape (1, 3, 640, 448)\n",
      "검출된 이미지에 EasyOCR모델 적용중...\n",
      "검출 결과: ['사업자 등록번호 258-22-01518', '병   원   명 : 뉴본동물의료센터', '원', '장 : 홍성진', '사업자', '소재지 : 경기도 평택시 동식동 얼로 22번', '길', '19-13 뉴본동물의료센터 2층', '전   화  번 호 : 031-647-6679']\n",
      "검출 결과: ['발 행 일 2024년 6월 8일 오후 2:59:58']\n",
      "검출 결과: ['진료상담료', '9,000', '혈액검사-생화학검사(항목당)', '7,700']\n",
      "결과물 모두 출력 >> \n",
      "동물병원 이름 : [': 뉴본동물의료센터']\n",
      "동물병원 주소 : [': 경기도 평택시 동식동 얼로 22번']\n",
      "진료명 : ['19-13 뉴본동물의료센터 2층', '진료상담료', '혈액검사-생화학검사(항목당)']\n",
      "진료비 : ['9,000', '7,700']\n",
      "진료일 : ['발 행 일 2024년 6월 8일 오후 2:59:58']\n",
      "====================================================\n",
      "YOLOv8 모델로 필요한 텍스트영역 추출중...\n",
      "\n",
      "image 1/1 /Users/heonyounglee/Desktop/ocr/segmentation/../img/IMG_2062.jpg: 640x416 1 date, 2 text_areas, 106.5ms\n",
      "Speed: 2.4ms preprocess, 106.5ms inference, 3.0ms postprocess per image at shape (1, 3, 640, 416)\n",
      "검출된 이미지에 EasyOCR모델 적용중...\n",
      "검출 결과: ['사업자 등록번호 122-11-74356', '병 ` 원 ` 명 : 아마존동물병원', '장 : 류대원', '원', '소재지 인천 계양구 임학동 67-7 대건프', '사업자', '라자 101호', '전  화 번 호 : 032-555-7502']\n",
      "검출 결과: ['발 행 일 2024년 6월 12일 오후 4:49:05']\n",
      "검출 결과: ['pro-BNP (CANINE)', '70,000', '검사 - X-ray (흉강&복강)', '40,000', '1', '검사 - 노검사', '30,000', '1', '검사 - 초음파 (복강)', '40,000', '1', '80,000', '검사 - 초음파 (심장)', '1', '검사 - 훨합촉정', '10,000', '1', '검사 - 혈액검사 (월구) CBC', '30,000', '검사- X-ray (지아)', '60,000', '처치-치과-수술적', '발치 + 봉합', '200,000', '내복약 - 1일 2회', '3,000']\n",
      "결과물 모두 출력 >> \n",
      "동물병원 이름 : [': 아마존동물병원']\n",
      "동물병원 주소 : ['인천 계양구 임학동 67-7 대건프']\n",
      "진료명 : ['라자 101호', 'pro-BNP (CANINE)', '검사 - X-ray (흉강&복강)', '검사 - 노검사', '검사 - 초음파 (복강)', '검사 - 초음파 (심장)', '검사 - 훨합촉정', '검사 - 혈액검사 (월구) CBC', '검사- X-ray (지아)', '처치-치과-수술적', '발치 + 봉합', '내복약 - 1일 2회']\n",
      "진료비 : ['70,000', '40,000', '30,000', '40,000', '80,000', '10,000', '30,000', '60,000', '200,000', '3,000']\n",
      "진료일 : ['발 행 일 2024년 6월 12일 오후 4:49:05']\n",
      "====================================================\n",
      "YOLOv8 모델로 필요한 텍스트영역 추출중...\n",
      "\n",
      "image 1/1 /Users/heonyounglee/Desktop/ocr/segmentation/../img/IMG_2053.jpg: 640x384 1 date, 2 text_areas, 171.3ms\n",
      "Speed: 19.6ms preprocess, 171.3ms inference, 25.2ms postprocess per image at shape (1, 3, 640, 384)\n",
      "검출된 이미지에 EasyOCR모델 적용중...\n",
      "검출 결과: ['입원 - 입원비 (1Okg이l하) ICU', '88,000', '35,000', '수액 - 수액처치료C (1Okg 이하)', '20,000', '수액', '철가제   추가', '10,000', '수액 - 정맥카테터', '장작']\n",
      "검출 결과: ['사업자 등록번호 : 120-87-92182', '병   원 \" 명 : 퍼니고동물병원', '원', '장 : 김대희', '사업자 소재지 : 대전 유성구 농대로 4', '전  화 번 호 : 042-862-7588']\n",
      "검출 결과: ['발 행 일 2022년 5월 26일 오후 12:46:25']\n",
      "결과물 모두 출력 >> \n",
      "동물병원 이름 : [': 퍼니고동물병원']\n",
      "동물병원 주소 : [': 대전 유성구 농대로 4']\n",
      "진료명 : ['입원 - 입원비 (1Okg이l하) ICU', '수액 - 수액처치료C (1Okg 이하)', '수액', '철가제   추가', '수액 - 정맥카테터', '장작']\n",
      "진료비 : ['88,000', '35,000', '20,000', '10,000']\n",
      "진료일 : ['발 행 일 2022년 5월 26일 오후 12:46:25']\n",
      "====================================================\n",
      "YOLOv8 모델로 필요한 텍스트영역 추출중...\n",
      "\n",
      "image 1/1 /Users/heonyounglee/Desktop/ocr/segmentation/../img/IMG_2047.jpg: 640x352 1 date, 2 text_areas, 86.4ms\n",
      "Speed: 9.5ms preprocess, 86.4ms inference, 2.9ms postprocess per image at shape (1, 3, 640, 352)\n",
      "검출된 이미지에 EasyOCR모델 적용중...\n",
      "검출 결과: ['사업자 등록번호 : 603-34-77851 병   원 ` 명 : 서울동물의료센터 원 장 : 석준수 사업자 소재지 : 세종시 아름동 1089 (보듬교로 78) , 2층', '전  화 번 호 : 02-566-8211']\n",
      "검출 결과: ['귀 세정 및 연고 적용', '11,000', '특수-센터필 프리', '1,500', '귀연소_이소틱', '27,500', '귀 세정제 (Triz EDTA) 3Oml', '0']\n",
      "검출 결과: ['발 행 일 : 2023년 1월 3일 오후 4:38:22']\n",
      "결과물 모두 출력 >> \n",
      "동물병원 이름 : []\n",
      "동물병원 주소 : [': 세종시 아름동 1089 (보듬교로 78) , 2층']\n",
      "진료명 : ['귀 세정 및 연고 적용', '특수-센터필 프리', '1,500', '귀연소_이소틱', '귀 세정제 (Triz EDTA) 3Oml']\n",
      "진료비 : ['11,000', '27,500']\n",
      "진료일 : ['발 행 일 : 2023년 1월 3일 오후 4:38:22']\n",
      "====================================================\n",
      "YOLOv8 모델로 필요한 텍스트영역 추출중...\n",
      "\n",
      "image 1/1 /Users/heonyounglee/Desktop/ocr/segmentation/../img/IMG_2046.jpg: 640x384 1 date, 2 text_areas, 89.9ms\n",
      "Speed: 2.4ms preprocess, 89.9ms inference, 3.4ms postprocess per image at shape (1, 3, 640, 384)\n",
      "검출된 이미지에 EasyOCR모델 적용중...\n",
      "검출 결과: ['사업자 등록번호 : 603-34-77851', '병 `', '원 ` 명 : 서울동물의료센터', '원', '장 : 석준수', '사업자', '소재지 : 세종시 아름동 1089 (보듬7로', '78) , 2층', '전  화 번 호 : 02-566-8211']\n",
      "검출 결과: ['발 행 일 : 2023년 6월 12일 오후 3:26:22']\n",
      "검출 결과: ['진료비', '8,000', '처치-크라이오치료(5mm이하)', '50,000']\n",
      "결과물 모두 출력 >> \n",
      "동물병원 이름 : [': 서울동물의료센터']\n",
      "동물병원 주소 : [': 세종시 아름동 1089 (보듬7로']\n",
      "진료명 : ['병 `', '78) , 2층', '진료비', '처치-크라이오치료(5mm이하)']\n",
      "진료비 : ['8,000', '50,000']\n",
      "진료일 : ['발 행 일 : 2023년 6월 12일 오후 3:26:22']\n",
      "====================================================\n",
      "YOLOv8 모델로 필요한 텍스트영역 추출중...\n",
      "\n",
      "image 1/1 /Users/heonyounglee/Desktop/ocr/segmentation/../img/IMG_2052.jpg: 640x384 1 date, 2 text_areas, 90.8ms\n",
      "Speed: 2.6ms preprocess, 90.8ms inference, 5.4ms postprocess per image at shape (1, 3, 640, 384)\n",
      "검출된 이미지에 EasyOCR모델 적용중...\n",
      "검출 결과: ['진료상담비', '10,000', '25,000', '주사-항구토제(Cere*** Maro***)', '내복약 / day 5~1Okg', '5,000', '내복약특수(심장약:팔팔 / sildenafa-)', '20,000', '17', '50,000', '초음파검사 - 부분검사백신 (10,000)', '하르가드(Heartgard)-Blue(~tikg,', '10,000', 'ea)']\n",
      "검출 결과: ['사업자 등록번호 : 120-87-92182', '병   원   명 : 퍼니켓동물병원', '원', '장 : 김대희', '소재지 : 대전 유성구 농대로 4', '사업자', '전  화 번 호 : 042-862-7588']\n",
      "검출 결과: ['발 행 일 : 2023년 3월 11일 오전 10:06:06']\n",
      "결과물 모두 출력 >> \n",
      "동물병원 이름 : [': 퍼니켓동물병원']\n",
      "동물병원 주소 : [': 대전 유성구 농대로 4']\n",
      "진료명 : ['진료상담비', '주사-항구토제(Cere*** Maro***)', '내복약 / day 5~1Okg', '17', '초음파검사 - 부분검사백신 (10,000)', '하르가드(Heartgard)-Blue(~tikg,', 'ea)']\n",
      "진료비 : ['10,000', '25,000', '5,000', '20,000', '50,000', '10,000']\n",
      "진료일 : ['발 행 일 : 2023년 3월 11일 오전 10:06:06']\n",
      "====================================================\n",
      "YOLOv8 모델로 필요한 텍스트영역 추출중...\n",
      "\n",
      "image 1/1 /Users/heonyounglee/Desktop/ocr/segmentation/../img/IMG_2044.jpg: 640x416 1 date, 2 text_areas, 107.3ms\n",
      "Speed: 2.5ms preprocess, 107.3ms inference, 3.1ms postprocess per image at shape (1, 3, 640, 416)\n",
      "검출된 이미지에 EasyOCR모델 적용중...\n",
      "검출 결과: ['진료비 (초진, 1Okg 미만)', '9,900', 'Lab_CBC_일반_혈액_검사', '30,000', 'Lab_CRP_반응성_염종_검사_V2OO', '33,000', '진료상당', '11,000', 'lefotil*', '8,800']\n",
      "검출 결과: ['사업자 등록번호 301-09-95188', '병', '원 명 : 정성환동물병원', '원', '장 : 정성환', '사업자', '소재지 : 충청 북도 청주시 청원구 공항로', '5', '전  화 번 호 : 043-216-8274']\n",
      "검출 결과: ['발 행 일 : 2023년 6월 24일 오후 1:46:53']\n",
      "결과물 모두 출력 >> \n",
      "동물병원 이름 : [': 정성환동물병원']\n",
      "동물병원 주소 : [': 충청 북도 청주시 청원구 공항로']\n",
      "진료명 : ['진료비 (초진, 1Okg 미만)', 'Lab_CBC_일반_혈액_검사', 'Lab_CRP_반응성_염종_검사_V2OO', '진료상당', 'lefotil*']\n",
      "진료비 : ['9,900', '30,000', '33,000', '11,000', '8,800']\n",
      "진료일 : ['발 행 일 : 2023년 6월 24일 오후 1:46:53']\n",
      "====================================================\n",
      "YOLOv8 모델로 필요한 텍스트영역 추출중...\n",
      "\n",
      "image 1/1 /Users/heonyounglee/Desktop/ocr/segmentation/../img/IMG_2050.jpg: 640x352 1 date, 2 text_areas, 85.3ms\n",
      "Speed: 3.3ms preprocess, 85.3ms inference, 2.5ms postprocess per image at shape (1, 3, 640, 352)\n",
      "검출된 이미지에 EasyOCR모델 적용중...\n",
      "검출 결과: ['한방 (초진)-상담 , 신체검사', '20,900', '한방-시침 (전침)', '72,600', '검사-X-ray(골격계 ) (한방) (5kg이l', '82,600', '하)', '검사-혈액검사 (종합)', '119,600', '한약-한방과림제 (3~7kg)', '8,000']\n",
      "검출 결과: ['사업자 등록번호 : 131-36-56035', '병   원 ` 명 : 소래동물병원', '원', '장 : 장예승', '사업자', '소재지 : 인천광역시 남동구 더타위 상가', 'C동 소래동물병원 1층', '전  화 번 호 : 032-438-3227']\n",
      "검출 결과: ['발 행 일 : 2023년 6월 27일 오후 5:54:33']\n",
      "결과물 모두 출력 >> \n",
      "동물병원 이름 : [': 소래동물병원']\n",
      "동물병원 주소 : [': 인천광역시 남동구 더타위 상가']\n",
      "진료명 : ['한방 (초진)-상담 , 신체검사', '20,900', '한방-시침 (전침)', '72,600', '검사-X-ray(골격계 ) (한방) (5kg이l', '82,600', '하)', '검사-혈액검사 (종합)', '119,600', '한약-한방과림제 (3~7kg)', 'C동 소래동물병원 1층']\n",
      "진료비 : ['8,000']\n",
      "진료일 : ['발 행 일 : 2023년 6월 27일 오후 5:54:33']\n",
      "====================================================\n",
      "YOLOv8 모델로 필요한 텍스트영역 추출중...\n",
      "\n",
      "image 1/1 /Users/heonyounglee/Desktop/ocr/segmentation/../img/IMG_2078.JPG: 640x480 1 date, 2 text_areas, 129.2ms\n",
      "Speed: 5.0ms preprocess, 129.2ms inference, 3.7ms postprocess per image at shape (1, 3, 640, 480)\n",
      "검출된 이미지에 EasyOCR모델 적용중...\n",
      "검출 결과: ['22,000', '입원비(iOkg이l하)-12시간', '5,500', '입원-인표전필프', '11,000', '수액-수액처치료A', '5,500', '정맥카테터']\n",
      "검출 결과: ['발 행 일 2023년 1월 10일 오후 5.07:30']\n",
      "검출 결과: ['사업자 등록번호 401-59-00064 병  원 \" 명 : 광주동물메디어센터', '장 : 송정은', '원', '광주광역시 광산구 북문대로 420번길', '소재지', '사업자', '206', '전   화 번 호 : 062-523-0075']\n",
      "결과물 모두 출력 >> \n",
      "동물병원 이름 : [': 광주동물메디어센터']\n",
      "동물병원 주소 : ['']\n",
      "진료명 : ['입원비(iOkg이l하)-12시간', '입원-인표전필프', '수액-수액처치료A', '정맥카테터', '광주광역시 광산구 북문대로 420번길', '206']\n",
      "진료비 : ['22,000', '5,500', '11,000', '5,500']\n",
      "진료일 : ['발 행 일 2023년 1월 10일 오후 5.07:30']\n",
      "====================================================\n",
      "YOLOv8 모델로 필요한 텍스트영역 추출중...\n",
      "\n",
      "image 1/1 /Users/heonyounglee/Desktop/ocr/segmentation/../img/IMG_2079.JPG: 640x480 1 date, 2 text_areas, 136.9ms\n",
      "Speed: 8.8ms preprocess, 136.9ms inference, 4.2ms postprocess per image at shape (1, 3, 640, 480)\n",
      "검출된 이미지에 EasyOCR모델 적용중...\n",
      "검출 결과: ['사업자 등록번호 622-21-00241', '원 \" 명 : 슬동물의료센터', '병 `', '장 : 운대영 , 장한나', '원', '소재지 ; 경기도 군포시 고산로529, 금강2단 지상', '사업자', '가 경기플리텍고등학교 맞은편', '전  화 번  호 : 031-345-4500']\n",
      "검출 결과: ['발 행 일 2023년 2월 10일 오후 3.07:46']\n",
      "검출 결과: ['22,000', '입원비(Okg이l하)-12시간', '5,500', '입원-인표전필프', '11,000', '수액-수액처치료A', '5,500', '정맥카테터']\n",
      "결과물 모두 출력 >> \n",
      "동물병원 이름 : [': 슬동물의료센터']\n",
      "동물병원 주소 : ['; 경기도 군포시 고산로529, 금강2단 지상']\n",
      "진료명 : ['병 `', '가 경기플리텍고등학교 맞은편', '입원비(Okg이l하)-12시간', '입원-인표전필프', '수액-수액처치료A', '정맥카테터']\n",
      "진료비 : ['22,000', '5,500', '11,000', '5,500']\n",
      "진료일 : ['발 행 일 2023년 2월 10일 오후 3.07:46']\n",
      "====================================================\n",
      "YOLOv8 모델로 필요한 텍스트영역 추출중...\n",
      "\n",
      "image 1/1 /Users/heonyounglee/Desktop/ocr/segmentation/../img/IMG_2051.jpg: 640x384 1 date, 2 text_areas, 84.6ms\n",
      "Speed: 2.5ms preprocess, 84.6ms inference, 3.2ms postprocess per image at shape (1, 3, 640, 384)\n",
      "검출된 이미지에 EasyOCR모델 적용중...\n",
      "검출 결과: ['발 행 일 : 2023년 6월 27일 오후 5:54:33']\n",
      "검출 결과: ['사업자 등록번호 : 120-87-92182', '병   원   명 : 퍼니켓동물병원', '원', '장 : 김대희', '사업자 소재지 : 대전 유성구 농대로 4', '전  화 번 호 : 042-862-7588', '고객 번호 : 312', '고객 이름 : 김지우', '날짜 : 2023-06-27', '동물명', '토미', '항목', '수량', '금액', '진료비', '8,800', '혈액 (호르온) 갑상선기능처하증', '132,000']\n",
      "검출 결과: ['진료비', '8,800', '혈액 (호르온)', '갑상선기능처하증', '132,000']\n",
      "결과물 모두 출력 >> \n",
      "동물병원 이름 : [': 퍼니켓동물병원']\n",
      "동물병원 주소 : [': 대전 유성구 농대로 4']\n",
      "진료명 : ['동물명', '토미', '항목', '수량', '금액', '진료비', '혈액 (호르온) 갑상선기능처하증', '진료비', '혈액 (호르온)', '갑상선기능처하증']\n",
      "진료비 : ['8,800', '132,000', '8,800', '132,000']\n",
      "진료일 : ['발 행 일 : 2023년 6월 27일 오후 5:54:33']\n",
      "====================================================\n",
      "YOLOv8 모델로 필요한 텍스트영역 추출중...\n",
      "\n",
      "image 1/1 /Users/heonyounglee/Desktop/ocr/segmentation/../img/IMG_2045.jpg: 640x416 1 date, 2 text_areas, 226.6ms\n",
      "Speed: 6.8ms preprocess, 226.6ms inference, 13.1ms postprocess per image at shape (1, 3, 640, 416)\n",
      "검출된 이미지에 EasyOCR모델 적용중...\n",
      "검출 결과: ['발 형 일 2023년 7월 1일 오후 4:58.10']\n",
      "검출 결과: ['5,500', '진료비', '재진(예약)', '혈액(기타) 채혈', '9,900', '혈 액(월구) - CBC', '36,000', '혈액(훨청}', 'Chemistry 1항목', '9,900', '혈 액(특수월청) Chemistryi 항목', '19,800', '내복약 SID to BID (~1Okg미I만)', '3,300']\n",
      "검출 결과: [\"사업자 등록번호 ' 603-34-77851\", '병 `', '원 `', '명 : 서울동물의료센터', '장 : 석준수', '원', '세종시 아름동 1089 (보듬교로', '사업자', '소재지', '78) 2층', '전  화 번 호 : 02-566-8211']\n",
      "결과물 모두 출력 >> \n",
      "동물병원 이름 : [': 서울동물의료센터']\n",
      "동물병원 주소 : ['']\n",
      "진료명 : ['진료비', '재진(예약)', '혈액(기타) 채혈', '혈 액(월구) - CBC', '혈액(훨청}', 'Chemistry 1항목', '혈 액(특수월청) Chemistryi 항목', '19,800', '내복약 SID to BID (~1Okg미I만)', '3,300', '병 `', '원 `', '세종시 아름동 1089 (보듬교로', '78) 2층']\n",
      "진료비 : ['5,500', '9,900', '36,000', '9,900']\n",
      "진료일 : []\n",
      "====================================================\n",
      "YOLOv8 모델로 필요한 텍스트영역 추출중...\n",
      "\n",
      "image 1/1 /Users/heonyounglee/Desktop/ocr/segmentation/../img/IMG_2069.JPG: 640x480 1 date, 2 text_areas, 135.0ms\n",
      "Speed: 9.1ms preprocess, 135.0ms inference, 5.0ms postprocess per image at shape (1, 3, 640, 480)\n",
      "검출된 이미지에 EasyOCR모델 적용중...\n",
      "검출 결과: ['8,800', '진료비-평일 (1Okg미만)', '11,000', '처치-염증치료 C (식모,세정 드레싱)', '23,000', '처치-주사료(Okg이상 15k9미만)', '주사비추가-진통 / 소염 /해열제(Okgol 상~20k9미만)', '33,000']\n",
      "검출 결과: ['사업자 등록번호 622-21-00241', '병   원 ` 명 : 슬동물의료센터', '장 : 운대영 , 장한나', '원', '소재지 경기도 군포시 고산로529, 금강2단 지상', '사업자', '가 경기풀리텍고등학교 맞은편', '전   화 번 호 : 031-345-4500']\n",
      "검출 결과: ['발 행 일 2023년 3월 26일 오후 6:27:45']\n",
      "결과물 모두 출력 >> \n",
      "동물병원 이름 : [': 슬동물의료센터']\n",
      "동물병원 주소 : ['경기도 군포시 고산로529, 금강2단 지상']\n",
      "진료명 : ['진료비-평일 (1Okg미만)', '처치-염증치료 C (식모,세정 드레싱)', '처치-주사료(Okg이상 15k9미만)', '주사비추가-진통 / 소염 /해열제(Okgol 상~20k9미만)', '가 경기풀리텍고등학교 맞은편']\n",
      "진료비 : ['8,800', '11,000', '23,000', '33,000']\n",
      "진료일 : ['발 행 일 2023년 3월 26일 오후 6:27:45']\n",
      "====================================================\n",
      "YOLOv8 모델로 필요한 텍스트영역 추출중...\n",
      "\n",
      "image 1/1 /Users/heonyounglee/Desktop/ocr/segmentation/../img/IMG_2041.jpg: 640x480 2 dates, 2 text_areas, 138.2ms\n",
      "Speed: 4.0ms preprocess, 138.2ms inference, 4.5ms postprocess per image at shape (1, 3, 640, 480)\n",
      "검출된 이미지에 EasyOCR모델 적용중...\n",
      "검출 결과: [\"사업자 등록번호 ' 301-09-95188\", '병   원   명 : 정성환동물병원', '원', '장 : 정성환', '사업자 소재지 : 충청북도 청주시 청원구 공항로 5', '전  화 번 호 : 043-216-8274']\n",
      "검출 결과: ['발 행 일 : 2024년 3월 14일 오후 1:16:22']\n",
      "검출 결과: ['(원내)CBC(reticulocyte, NMB 포함)', '45,000', '진찰료', '15,000', '(원내)철구도말 (Blood Smear)', '50,000', '수액 점가제 (1팩당)', '10,000', '일반산소요법 (일당)', '70,000']\n",
      "검출 결과: ['(원내)CBC(reticulocyte, NMB 포함)', '45,000', '1']\n",
      "결과물 모두 출력 >> \n",
      "동물병원 이름 : [': 정성환동물병원']\n",
      "동물병원 주소 : [': 충청북도 청주시 청원구 공항로 5']\n",
      "진료명 : ['(원내)CBC(reticulocyte, NMB 포함)', '진찰료', '(원내)철구도말 (Blood Smear)', '수액 점가제 (1팩당)', '일반산소요법 (일당)', '(원내)CBC(reticulocyte, NMB 포함)']\n",
      "진료비 : ['45,000', '15,000', '50,000', '10,000', '70,000', '45,000']\n",
      "진료일 : ['발 행 일 : 2024년 3월 14일 오후 1:16:22']\n",
      "====================================================\n",
      "YOLOv8 모델로 필요한 텍스트영역 추출중...\n",
      "\n",
      "image 1/1 /Users/heonyounglee/Desktop/ocr/segmentation/../img/IMG_2055.jpg: 640x352 1 date, 2 text_areas, 98.1ms\n",
      "Speed: 1.9ms preprocess, 98.1ms inference, 2.9ms postprocess per image at shape (1, 3, 640, 352)\n",
      "검출된 이미지에 EasyOCR모델 적용중...\n",
      "검출 결과: ['진료비', '주간 (초진)', '16,500', '검사-방사선-2cut (O~1Okg)', '54,000', '3,960', '내복약 - 1일', '(O~5kg)', '7,700', '처방 - 물약 - 3Oml', '주사-특수-항구토-cerenialO~5kg)', '16,500']\n",
      "검출 결과: ['사업자 등록번호 : 120-87-92182', '병 원 ` 명 : 퍼니동물병원', '원', '장 : 김대희', '사업자', '소재지 : 대전 유성구', '농대로 4', '전  화 번 호 : 042-862-7588']\n",
      "검출 결과: ['발 행 일 :', '2023년 7월 20일 오후 4:20:46']\n",
      "결과물 모두 출력 >> \n",
      "동물병원 이름 : [': 퍼니동물병원']\n",
      "동물병원 주소 : [': 대전 유성구']\n",
      "진료명 : ['진료비', '주간 (초진)', '검사-방사선-2cut (O~1Okg)', '3,960', '내복약 - 1일', '(O~5kg)', '처방 - 물약 - 3Oml', '주사-특수-항구토-cerenialO~5kg)', '농대로 4']\n",
      "진료비 : ['16,500', '54,000', '7,700', '16,500']\n",
      "진료일 : ['발 행 일 :']\n",
      "====================================================\n",
      "YOLOv8 모델로 필요한 텍스트영역 추출중...\n",
      "\n",
      "image 1/1 /Users/heonyounglee/Desktop/ocr/segmentation/../img/IMG_2054.jpg: 640x416 1 date, 2 text_areas, 101.3ms\n",
      "Speed: 2.9ms preprocess, 101.3ms inference, 3.2ms postprocess per image at shape (1, 3, 640, 416)\n",
      "검출된 이미지에 EasyOCR모델 적용중...\n",
      "검출 결과: ['진료비-기본 초진 (외래)', '15,000', '검사Complete bloodcelllCBC)-Procyte', '55,000', '방사선검사 (X-ray < 8kg)-흉부', '50,000', '집중 처치 - 수월 모니터림', '68,000', '수액 정말 Infusion pump Id', '11,000']\n",
      "검출 결과: ['사업자 등록번호 484-07-01768', '병 원 ` 명 : 24시노아동물메디어센터', '원', '장 : 양하영', '사업자', '소재지 : 광주광역시 동구 독립로 292 (대인동)', '전   화 번 호 : 062-222-0075']\n",
      "검출 결과: [\"발 행 일 '\", '2024년 6월 10일 오후 1;34:09']\n",
      "결과물 모두 출력 >> \n",
      "동물병원 이름 : [': 24시노아동물메디어센터']\n",
      "동물병원 주소 : [': 광주광역시 동구 독립로 292 (대인동)']\n",
      "진료명 : ['진료비-기본 초진 (외래)', '검사Complete bloodcelllCBC)-Procyte', '방사선검사 (X-ray < 8kg)-흉부', '집중 처치 - 수월 모니터림', '수액 정말 Infusion pump Id']\n",
      "진료비 : ['15,000', '55,000', '50,000', '68,000', '11,000']\n",
      "진료일 : [\"발 행 일 '\"]\n",
      "====================================================\n",
      "YOLOv8 모델로 필요한 텍스트영역 추출중...\n",
      "\n",
      "image 1/1 /Users/heonyounglee/Desktop/ocr/segmentation/../img/IMG_2040.jpg: 640x416 1 date, 2 text_areas, 168.9ms\n",
      "Speed: 3.0ms preprocess, 168.9ms inference, 3.1ms postprocess per image at shape (1, 3, 640, 416)\n",
      "검출된 이미지에 EasyOCR모델 적용중...\n",
      "검출 결과: ['사업자 등록번호 : 301-09-95188', '병', '원 ` 명 : 정성환동물병원', '원', '장 : 정성환', '사업자', '소재지 : 충청 북도  청주시 청원구 공항로 5 전  화 번 호 : 043-216-8274']\n",
      "검출 결과: ['발 행 일 2023년 9월 12일 오후 5:36:55']\n",
      "검출 결과: [\"'추차-도부타민 (dobutaminjcRi(skg 미만)\", '35,000']\n",
      "결과물 모두 출력 >> \n",
      "동물병원 이름 : [': 정성환동물병원']\n",
      "동물병원 주소 : [': 충청 북도  청주시 청원구 공항로 5 전  화 번 호 : 043-216-8274']\n",
      "진료명 : [\"'추차-도부타민 (dobutaminjcRi(skg 미만)\"]\n",
      "진료비 : ['35,000']\n",
      "진료일 : ['발 행 일 2023년 9월 12일 오후 5:36:55']\n",
      "====================================================\n",
      "YOLOv8 모델로 필요한 텍스트영역 추출중...\n",
      "\n",
      "image 1/1 /Users/heonyounglee/Desktop/ocr/segmentation/../img/IMG_2068.JPG: 640x480 1 date, 2 text_areas, 107.6ms\n",
      "Speed: 6.5ms preprocess, 107.6ms inference, 3.2ms postprocess per image at shape (1, 3, 640, 480)\n",
      "검출된 이미지에 EasyOCR모델 적용중...\n",
      "검출 결과: ['입원비(1Okg이l하)-12시간', '22,000', '입원-인표전필프', '5,500', '수액-수액처치료A', '11,000', '주사-조월촉진제(DPO) (~5KG)', '27,500']\n",
      "검출 결과: ['사업자', '등록번호 258-22-01518', '병 원 \" 명 : SD동물의료센터', '장 : 김규창', '원', '소재지 서울특별시 중구', '왕십리로 407', '사업자', '(신당동  신당파인필하나유보라)', '전   화   번 호 : 02-2039-0303']\n",
      "검출 결과: ['발 행 일 2023년 1월 13일 오후 3.35:46']\n",
      "결과물 모두 출력 >> \n",
      "동물병원 이름 : [': SD동물의료센터']\n",
      "동물병원 주소 : ['서울특별시 중구']\n",
      "진료명 : ['입원비(1Okg이l하)-12시간', '입원-인표전필프', '수액-수액처치료A', '주사-조월촉진제(DPO) (~5KG)', '등록번호 258-22-01518', '왕십리로 407', '(신당동  신당파인필하나유보라)']\n",
      "진료비 : ['22,000', '5,500', '11,000', '27,500']\n",
      "진료일 : ['발 행 일 2023년 1월 13일 오후 3.35:46']\n",
      "====================================================\n",
      "YOLOv8 모델로 필요한 텍스트영역 추출중...\n",
      "\n",
      "image 1/1 /Users/heonyounglee/Desktop/ocr/segmentation/../img/IMG_2056.jpg: 640x352 1 date, 2 text_areas, 148.2ms\n",
      "Speed: 4.3ms preprocess, 148.2ms inference, 3.0ms postprocess per image at shape (1, 3, 640, 352)\n",
      "검출된 이미지에 EasyOCR모델 적용중...\n",
      "검출 결과: ['진찰검사비 (재진)', '3,000', '혈 액검사 (CBC)', '25,000', '1', '혈액검사 (신장)', '40,000', '수액(iOOml) NS', '20,000', '수액청가제', '3,000', '내복약(신부전 , RMZ cap, BID)', '2,500', '내복약 (~1Okg)', '4,000']\n",
      "검출 결과: ['사업자 등록번호 120-87-92182', '병   원 ` 명 : 퍼니켓동물병원', '원', '장 : 김대희', '사업자 소재지 대전 유성구 농대로 4 전   화 번 호 : 042-862-7588']\n",
      "검출 결과: ['발 행 일 2024년 5월 17일 오전 10.07:06']\n",
      "결과물 모두 출력 >> \n",
      "동물병원 이름 : [': 퍼니켓동물병원']\n",
      "동물병원 주소 : ['대전 유성구 농대로 4 전   화 번 호 : 042-862-7588']\n",
      "진료명 : ['진찰검사비 (재진)', '혈 액검사 (CBC)', '혈액검사 (신장)', '수액(iOOml) NS', '수액청가제', '내복약(신부전 , RMZ cap, BID)', '2,500', '내복약 (~1Okg)']\n",
      "진료비 : ['3,000', '25,000', '40,000', '20,000', '3,000', '4,000']\n",
      "진료일 : ['발 행 일 2024년 5월 17일 오전 10.07:06']\n",
      "====================================================\n",
      "YOLOv8 모델로 필요한 텍스트영역 추출중...\n",
      "\n",
      "image 1/1 /Users/heonyounglee/Desktop/ocr/segmentation/../img/IMG_2042.jpg: 640x416 1 date, 2 text_areas, 103.3ms\n",
      "Speed: 4.1ms preprocess, 103.3ms inference, 3.3ms postprocess per image at shape (1, 3, 640, 416)\n",
      "검출된 이미지에 EasyOCR모델 적용중...\n",
      "검출 결과: ['발 행 일 :', '2024년 4월 13일 오전 10:13:18']\n",
      "검출 결과: ['사업자 등록번호 482-22-00941', '병   원', '명 : 유니온동물메디어센터', '원', '장 : 김태환', '사업자', '소재지 : 경상남도 창원시 의창구 원이대', '로56번길 2-35(도계동)', '전   화 번 호 : 055-288-5055']\n",
      "검출 결과: ['체장염 (cPLI)', '55,000', 'CRP (영종수치)', '55,000', '수액처치 (입원시 1Okg이l하)', '22,000', '수액보조제 (4종 ,간기능개선 제 , 1 일 당)', '11,000', '1']\n",
      "결과물 모두 출력 >> \n",
      "동물병원 이름 : [': 유니온동물메디어센터']\n",
      "동물병원 주소 : [': 경상남도 창원시 의창구 원이대']\n",
      "진료명 : ['병   원', '로56번길 2-35(도계동)', '체장염 (cPLI)', 'CRP (영종수치)', '수액처치 (입원시 1Okg이l하)', '수액보조제 (4종 ,간기능개선 제 , 1 일 당)']\n",
      "진료비 : ['55,000', '55,000', '22,000', '11,000']\n",
      "진료일 : ['발 행 일 :']\n",
      "====================================================\n",
      "YOLOv8 모델로 필요한 텍스트영역 추출중...\n",
      "\n",
      "image 1/1 /Users/heonyounglee/Desktop/ocr/segmentation/../img/IMG_2043.jpg: 640x320 1 date, 2 text_areas, 78.7ms\n",
      "Speed: 1.8ms preprocess, 78.7ms inference, 2.4ms postprocess per image at shape (1, 3, 640, 320)\n",
      "검출된 이미지에 EasyOCR모델 적용중...\n",
      "검출 결과: ['양쪽', '수당', '/녁', '진료비 (재진)', '3,300', '[방사선] 흉부', 'X-ray (1Okg 이하 , 기본2컷 , 판독료 포함', '38,500', '1', '[방사선] 추가 1컷 (1Okg 이하)', '11,000', '[혈액검사 ] 혈 액가스분 석 (ABGA VBGA)', '50,000', '[혈액검사] 혈액화학검사(chemistry ,', '10,000', '항목당)', '[내복약] 4약물추가 (5-10.kg)', '2,750', '[내복악|특수]암브록슬(진해거담제)', '550']\n",
      "검출 결과: ['사업자 등록번호 301-09-95188', '명 : 정성환동물병원', '병 `', '원', '원', '장 : 정성환', '사업자', '소재지 :', '충청북도 청주시 청원구 공항로', '5', '전   화 번 호 : 043-216-8274']\n",
      "검출 결과: ['발 행 일 2022년 6월 11일 오후 2.35:43']\n",
      "결과물 모두 출력 >> \n",
      "동물병원 이름 : [': 정성환동물병원']\n",
      "동물병원 주소 : [':']\n",
      "진료명 : ['양쪽', '수당', '/녁', '진료비 (재진)', '3,300', '[방사선] 흉부', 'X-ray (1Okg 이하 , 기본2컷 , 판독료 포함', '[방사선] 추가 1컷 (1Okg 이하)', '[혈액검사 ] 혈 액가스분 석 (ABGA VBGA)', '[혈액검사] 혈액화학검사(chemistry ,', '항목당)', '[내복약] 4약물추가 (5-10.kg)', '2,750', '[내복악|특수]암브록슬(진해거담제)', '550', '병 `', '충청북도 청주시 청원구 공항로']\n",
      "진료비 : ['38,500', '11,000', '50,000', '10,000']\n",
      "진료일 : ['발 행 일 2022년 6월 11일 오후 2.35:43']\n",
      "====================================================\n",
      "YOLOv8 모델로 필요한 텍스트영역 추출중...\n",
      "\n",
      "image 1/1 /Users/heonyounglee/Desktop/ocr/segmentation/../img/IMG_2057.jpg: 640x384 1 date, 2 text_areas, 90.1ms\n",
      "Speed: 2.6ms preprocess, 90.1ms inference, 3.3ms postprocess per image at shape (1, 3, 640, 384)\n",
      "검출된 이미지에 EasyOCR모델 적용중...\n",
      "검출 결과: ['사업자 등록번호 131-36-56035', '병   원 ` 명 : 소래동물병원', '원', '장 : 장예승', '사업자', '소재지 인천광역시 남동구 더타위 상가', 'C동 소래동물병원 1총', '전   화 번 호 : 032-438-3227']\n",
      "검출 결과: ['진료비-기본', '9,900', '검사-X-ray(기본) 2cut', '44,000', '내복약 - 1일 2회 (5~1Okg)', '4,400', '내복약-추가호르본제(Trilostane, 1T)', '5,500']\n",
      "검출 결과: ['발 행 일 : 2023년 1월 15일 오후 4:36:05']\n",
      "결과물 모두 출력 >> \n",
      "동물병원 이름 : [': 소래동물병원']\n",
      "동물병원 주소 : ['인천광역시 남동구 더타위 상가']\n",
      "진료명 : ['C동 소래동물병원 1총', '진료비-기본', '검사-X-ray(기본) 2cut', '내복약 - 1일 2회 (5~1Okg)', '4,400', '내복약-추가호르본제(Trilostane, 1T)']\n",
      "진료비 : ['9,900', '44,000', '5,500']\n",
      "진료일 : ['발 행 일 : 2023년 1월 15일 오후 4:36:05']\n",
      "====================================================\n",
      "YOLOv8 모델로 필요한 텍스트영역 추출중...\n",
      "\n",
      "image 1/1 /Users/heonyounglee/Desktop/ocr/segmentation/../img/IMG_2080.JPG: 640x480 1 date, 2 text_areas, 118.9ms\n",
      "Speed: 3.0ms preprocess, 118.9ms inference, 3.5ms postprocess per image at shape (1, 3, 640, 480)\n",
      "검출된 이미지에 EasyOCR모델 적용중...\n",
      "검출 결과: ['사업자 등록번호 401-59-00064', '병 \" 원 \" 명 광주동물메디졸센터', '장 : 송정은', '원', '사업자', '광주광역시 광산구 북문대로 420번길', '소재지', '206', '전  화 번 호 : 062-523-0075']\n",
      "검출 결과: ['발 행 일 2023년 1월 15일 오후 5.08:46']\n",
      "검출 결과: ['입원비(iOkg이l하)-12시간', '22,000', '입원-인표전편프', '5,500', '11,000', '수액-수액처치료A', '5,500', '정맥카테터']\n",
      "결과물 모두 출력 >> \n",
      "동물병원 이름 : ['광주동물메디졸센터']\n",
      "동물병원 주소 : ['']\n",
      "진료명 : ['광주광역시 광산구 북문대로 420번길', '206', '입원비(iOkg이l하)-12시간', '입원-인표전편프', '수액-수액처치료A', '정맥카테터']\n",
      "진료비 : ['22,000', '5,500', '11,000', '5,500']\n",
      "진료일 : ['발 행 일 2023년 1월 15일 오후 5.08:46']\n",
      "====================================================\n",
      "YOLOv8 모델로 필요한 텍스트영역 추출중...\n",
      "\n",
      "image 1/1 /Users/heonyounglee/Desktop/ocr/segmentation/../img/IMG_2030.jpg: 640x384 1 date, 2 text_areas, 87.7ms\n",
      "Speed: 5.8ms preprocess, 87.7ms inference, 3.0ms postprocess per image at shape (1, 3, 640, 384)\n",
      "검출된 이미지에 EasyOCR모델 적용중...\n",
      "검출 결과: ['9,000', '진찰료', '23,000', '혈구검사', '1', '67,000', '혈청검사', '1', '22,000', '전해질 검사', '1', '1,300', '내복약 (1일 2회)', '15,000', '수액치료 (피하수액)']\n",
      "검출 결과: ['사업자 등록번호 653-66-00440', '병 원 명 : 24시온동물의료센터', '장 : 이동환', '원', '소재지 : 부산광역시 부산진구 동성로 152', '사업자', '전   화 번 호 : 051-819-6061']\n",
      "검출 결과: ['발 행 일 2024년 4월 23일 오후 5:39:19']\n",
      "결과물 모두 출력 >> \n",
      "동물병원 이름 : [': 24시온동물의료센터']\n",
      "동물병원 주소 : [': 부산광역시 부산진구 동성로 152']\n",
      "진료명 : ['진찰료', '혈구검사', '혈청검사', '전해질 검사', '1,300', '내복약 (1일 2회)', '수액치료 (피하수액)']\n",
      "진료비 : ['9,000', '23,000', '67,000', '22,000', '15,000']\n",
      "진료일 : ['발 행 일 2024년 4월 23일 오후 5:39:19']\n",
      "====================================================\n",
      "YOLOv8 모델로 필요한 텍스트영역 추출중...\n",
      "\n",
      "image 1/1 /Users/heonyounglee/Desktop/ocr/segmentation/../img/IMG_2031.jpg: 640x352 1 date, 2 text_areas, 86.2ms\n",
      "Speed: 1.4ms preprocess, 86.2ms inference, 2.9ms postprocess per image at shape (1, 3, 640, 352)\n",
      "검출된 이미지에 EasyOCR모델 적용중...\n",
      "검출 결과: ['사업자 등록번호 653-66-00440', '병', '원', '명 : 24시온동물의료센터', '원', '장 : 이동환', '사업자', '소재지', '부산광역시 부산진구 동성로 152', '전   화 번 호 : 051-819-6061']\n",
      "검출 결과: ['진료비 - 주간', '12,100', '검사 - 혈액', 'CBC', '44,000', '검사', '혈액 ~전해질 가스분석 (electrolyte, gas analysis)', '44,000', '검사-혈액 (훨청)-Chemistry 1항목', '44,000', '내복약-일 (05-1Okg)', '4,950', '내복약-ramip*** 1일', '1,000', '내복약 original-pimo***-IT', '4,400', '내복약-항월 전제-clopi***-1T', '2,200']\n",
      "검출 결과: ['발 행 일 : 2023년 6월 3일 오전 1021:33']\n",
      "결과물 모두 출력 >> \n",
      "동물병원 이름 : [': 24시온동물의료센터']\n",
      "동물병원 주소 : ['']\n",
      "진료명 : ['부산광역시 부산진구 동성로 152', '진료비 - 주간', '12,100', '검사 - 혈액', 'CBC', '검사', '혈액 ~전해질 가스분석 (electrolyte, gas analysis)', '검사-혈액 (훨청)-Chemistry 1항목', '내복약-일 (05-1Okg)', '4,950', '내복약-ramip*** 1일', '내복약 original-pimo***-IT', '4,400', '내복약-항월 전제-clopi***-1T', '2,200']\n",
      "진료비 : ['44,000', '44,000', '44,000', '1,000']\n",
      "진료일 : ['발 행 일 : 2023년 6월 3일 오전 1021:33']\n",
      "====================================================\n",
      "YOLOv8 모델로 필요한 텍스트영역 추출중...\n",
      "\n",
      "image 1/1 /Users/heonyounglee/Desktop/ocr/segmentation/../img/IMG_2027.jpg: 640x384 1 date, 2 text_areas, 84.3ms\n",
      "Speed: 2.1ms preprocess, 84.3ms inference, 4.8ms postprocess per image at shape (1, 3, 640, 384)\n",
      "검출된 이미지에 EasyOCR모델 적용중...\n",
      "검출 결과: ['사업자 등록번호 3812600054', '원 ` 명 : 24시 센트럭 동물의료센터', '병', '원', '장 : 김병선', '사업자', '소재지', '경기도 시흥시 정왕동 1726-1 (광개토빌딩1) 1총/2층', '전   화 번 호 : 031-432-2475']\n",
      "검출 결과: ['발 행 일 : 2024년 5월 6일 오전 10.06:06']\n",
      "검출 결과: ['항독', '수량', '금액', '진료  진료비', '7,000', '방사선검사-일반-(2컷이하)1Okg미I만', '45,000', '1', '채훨비 (A)', '7,000', '혈 액(훨청)-chemistry', '90,000', '1', '내복약', '심장 (5kg~iOkg)', '7,000', '내복약 (5kg~iOkg)', '4,300']\n",
      "결과물 모두 출력 >> \n",
      "동물병원 이름 : [': 24시 센트럭 동물의료센터']\n",
      "동물병원 주소 : ['']\n",
      "진료명 : ['경기도 시흥시 정왕동 1726-1 (광개토빌딩1) 1총/2층', '항독', '수량', '금액', '진료  진료비', '방사선검사-일반-(2컷이하)1Okg미I만', '채훨비 (A)', '혈 액(훨청)-chemistry', '내복약', '심장 (5kg~iOkg)', '내복약 (5kg~iOkg)', '4,300']\n",
      "진료비 : ['7,000', '45,000', '7,000', '90,000', '7,000']\n",
      "진료일 : ['발 행 일 : 2024년 5월 6일 오전 10.06:06']\n",
      "====================================================\n",
      "YOLOv8 모델로 필요한 텍스트영역 추출중...\n",
      "\n",
      "image 1/1 /Users/heonyounglee/Desktop/ocr/segmentation/../img/IMG_2033.jpg: 640x384 1 date, 2 text_areas, 72.7ms\n",
      "Speed: 1.7ms preprocess, 72.7ms inference, 2.4ms postprocess per image at shape (1, 3, 640, 384)\n",
      "검출된 이미지에 EasyOCR모델 적용중...\n",
      "검출 결과: ['11,000', '기본 진료비', '혈액 (월구) CBC', '33,000', '기본혈 액(월청) CBC', '110,000', '복부 초음파', '77,000', '침듬 + laser', '110,000', '1일 2회', '내복약 14일분', '165,000', '길 내복약', '22,000']\n",
      "검출 결과: ['사업자 등록번호 314-15-93149', '병', '원', '명 불평양 한방 동물병원', '원', '장 : 운동수', '소재지 대전광역시 유성구 한발대로 502', '사업자', '(봉명동,', '콤플러스 유성점 3층)', '전   화  번 호 : 042-823-7583']\n",
      "검출 결과: ['발 행 일 : 2023년 2월 14일 오전 10:47:15']\n",
      "결과물 모두 출력 >> \n",
      "동물병원 이름 : ['불평양 한방 동물병원']\n",
      "동물병원 주소 : ['대전광역시 유성구 한발대로 502']\n",
      "진료명 : ['기본 진료비', '혈액 (월구) CBC', '기본혈 액(월청) CBC', '복부 초음파', '침듬 + laser', '1일 2회', '내복약 14일분', '길 내복약', '(봉명동,', '콤플러스 유성점 3층)']\n",
      "진료비 : ['11,000', '33,000', '110,000', '77,000', '110,000', '165,000', '22,000']\n",
      "진료일 : ['발 행 일 : 2023년 2월 14일 오전 10:47:15']\n",
      "====================================================\n",
      "YOLOv8 모델로 필요한 텍스트영역 추출중...\n",
      "\n",
      "image 1/1 /Users/heonyounglee/Desktop/ocr/segmentation/../img/IMG_2032.jpg: 640x416 1 date, 2 text_areas, 116.0ms\n",
      "Speed: 2.5ms preprocess, 116.0ms inference, 3.3ms postprocess per image at shape (1, 3, 640, 416)\n",
      "검출된 이미지에 EasyOCR모델 적용중...\n",
      "검출 결과: ['27,500', '항경런제주사 (levetiracetam)', '입원-일반-수액-정맥카테터장작', '6,589', '입원-일반-수액', '44,473', '입원-일반-입원비(O~1Okg미만)', '44,473', '입원-일반-주사 ( 회당(0~1Ok9미만)', '7,623', '입원-일반-처치비(O~1Okg미만)', '12,705', '내복약 (Levetiracetam)', '4,620']\n",
      "검출 결과: ['사업자 등록번호 653-66-00440', '병', '원', '명 24시온동물의료센터', '원', '장 : 이동환', '소재지 부산광역시 부산진구 동성로 152', '사업자', '전   화 번 호 : 051-819-6061']\n",
      "검출 결과: ['발 행 일 2023년 5월 9일 오전 10.06:06']\n",
      "결과물 모두 출력 >> \n",
      "동물병원 이름 : ['24시온동물의료센터']\n",
      "동물병원 주소 : ['부산광역시 부산진구 동성로 152']\n",
      "진료명 : ['항경런제주사 (levetiracetam)', '입원-일반-수액-정맥카테터장작', '6,589', '입원-일반-수액', '44,473', '입원-일반-입원비(O~1Okg미만)', '44,473', '입원-일반-주사 ( 회당(0~1Ok9미만)', '7,623', '입원-일반-처치비(O~1Okg미만)', '12,705', '내복약 (Levetiracetam)', '4,620']\n",
      "진료비 : ['27,500']\n",
      "진료일 : ['발 행 일 2023년 5월 9일 오전 10.06:06']\n",
      "====================================================\n",
      "YOLOv8 모델로 필요한 텍스트영역 추출중...\n",
      "\n",
      "image 1/1 /Users/heonyounglee/Desktop/ocr/segmentation/../img/IMG_2036.jpg: 640x416 1 date, 2 text_areas, 100.8ms\n",
      "Speed: 2.6ms preprocess, 100.8ms inference, 3.1ms postprocess per image at shape (1, 3, 640, 416)\n",
      "검출된 이미지에 EasyOCR모델 적용중...\n",
      "검출 결과: ['사업자 등록번호 227-12-91550', '병', '원  ', '명 대구24시바른동물의료센터', '장 : 이정석', '원', '사업자', '소재지 대구광역시 달서구 와몽로 142 2', '층 (감심동 280-5)', '전   화  번 호 : 053-571-0075']\n",
      "검출 결과: ['X-ray-단순방 사선촬영-복부', '27,500', 'X-ray-단순방 사선촬영-흉부', '27,500', '혈액 (철구) CBC', '55,000', '혈행 (훨청) Chemistry CRP', '38,500']\n",
      "검출 결과: ['발 행 일 : 2023년 1월 25일 오후 4:10317']\n",
      "결과물 모두 출력 >> \n",
      "동물병원 이름 : ['대구24시바른동물의료센터']\n",
      "동물병원 주소 : ['대구광역시 달서구 와몽로 142 2']\n",
      "진료명 : ['원  ', '층 (감심동 280-5)', 'X-ray-단순방 사선촬영-복부', 'X-ray-단순방 사선촬영-흉부', '혈액 (철구) CBC', '혈행 (훨청) Chemistry CRP']\n",
      "진료비 : ['27,500', '27,500', '55,000', '38,500']\n",
      "진료일 : ['발 행 일 : 2023년 1월 25일 오후 4:10317']\n",
      "====================================================\n",
      "YOLOv8 모델로 필요한 텍스트영역 추출중...\n",
      "\n",
      "image 1/1 /Users/heonyounglee/Desktop/ocr/segmentation/../img/IMG_2037.jpg: 640x512 1 date, 2 text_areas, 117.0ms\n",
      "Speed: 3.9ms preprocess, 117.0ms inference, 3.4ms postprocess per image at shape (1, 3, 640, 512)\n",
      "검출된 이미지에 EasyOCR모델 적용중...\n",
      "검출 결과: ['사업자 등록번호 227-12-91550', '명 대구24시바른동물의료센터', '병', '원', '장 : 이정석', '원', '소재지 대구광역시 달서구 와몽로 142 2', '사업자', '층 (감심동 280-5)', '전   화   번 호 : 053-571-0075']\n",
      "검출 결과: ['발 행 일 2023년 1월 25일 오전 10:56317']\n",
      "검출 결과: ['44,000', '림거 수액 처치', '철당곡선 (Glucose Curve)', '77,000']\n",
      "결과물 모두 출력 >> \n",
      "동물병원 이름 : ['대구24시바른동물의료센터']\n",
      "동물병원 주소 : ['대구광역시 달서구 와몽로 142 2']\n",
      "진료명 : ['층 (감심동 280-5)', '림거 수액 처치', '철당곡선 (Glucose Curve)']\n",
      "진료비 : ['44,000', '77,000']\n",
      "진료일 : ['발 행 일 2023년 1월 25일 오전 10:56317']\n",
      "====================================================\n",
      "YOLOv8 모델로 필요한 텍스트영역 추출중...\n",
      "\n",
      "image 1/1 /Users/heonyounglee/Desktop/ocr/segmentation/../img/IMG_2035.jpg: 640x352 1 date, 2 text_areas, 81.3ms\n",
      "Speed: 2.0ms preprocess, 81.3ms inference, 3.3ms postprocess per image at shape (1, 3, 640, 352)\n",
      "검출된 이미지에 EasyOCR모델 적용중...\n",
      "검출 결과: ['사업자 등록번호 227-12-91550', '원 ` 명 대구24시바른동물의료센터', '병', '원', '장 : 이정석', '사업자 소재지 대구광역시 달서구 와몽로 142 2', '층 (감심동 280-5)', '전  화 번 호 : 053-571-0075']\n",
      "검출 결과: ['진료비 - 재진', '5,500', '림거 수액 처치', '44,000', '철당곡선 (Glucose Curve)', '77,000', 'Spec-CPL 1 Spec-fpl(체장염)검사', '50,000', '전해질 검사', '27,500', '주사 - 휴물린N 인술린', '99,000', 'a-4 락출로즈 두파락 시럽 6Oml', '6,600']\n",
      "검출 결과: ['발 행 일 : 2023년 1월 27일 오전 10.34:25']\n",
      "결과물 모두 출력 >> \n",
      "동물병원 이름 : ['대구24시바른동물의료센터']\n",
      "동물병원 주소 : ['대구광역시 달서구 와몽로 142 2']\n",
      "진료명 : ['층 (감심동 280-5)', '진료비 - 재진', '림거 수액 처치', '철당곡선 (Glucose Curve)', 'Spec-CPL 1 Spec-fpl(체장염)검사', '전해질 검사', '주사 - 휴물린N 인술린', 'a-4 락출로즈 두파락 시럽 6Oml', '6,600']\n",
      "진료비 : ['5,500', '44,000', '77,000', '50,000', '27,500', '99,000']\n",
      "진료일 : ['발 행 일 : 2023년 1월 27일 오전 10.34:25']\n",
      "====================================================\n",
      "YOLOv8 모델로 필요한 텍스트영역 추출중...\n",
      "\n",
      "image 1/1 /Users/heonyounglee/Desktop/ocr/segmentation/../img/IMG_2034.jpg: 640x448 1 date, 2 text_areas, 143.3ms\n",
      "Speed: 2.8ms preprocess, 143.3ms inference, 3.3ms postprocess per image at shape (1, 3, 640, 448)\n",
      "검출된 이미지에 EasyOCR모델 적용중...\n",
      "검출 결과: ['11,000', '초진진잘료', '11,000', '안과   시각검사 (menace, dazzle)', '안과눈물량검 사 (schirmer tear test)', '10,000', '안과 안압검사 Tonovet', '20,000', '안과형광영 색검사(Fluorescein dve)', '15,000', '안과 PLR, Retinographic(CPLR)', '44,000', '55,000', '검사 - 초음파   안구초음파', '안과 table slit 테이블쓸렉(산동전)', '88,000', '24,000', '안약 후고속 (FucoSol)', '1', '안연고-리포직 (인공누액)', '11,000']\n",
      "검출 결과: ['사업자 등록번호 : 295-43-00473', '명 : 사인아이안과동물병원', '병', '원', '장 : 정영석', '원', '사업자 소재지 서울특별시  승파구 오금로 147 1', '층 사인아이안과동물병원 (방이동 108-7)', '전   화   번 호 : 0507-1495-7775']\n",
      "검출 결과: ['발 행 일 2023년 4월 11일 오전 11.06:06']\n",
      "결과물 모두 출력 >> \n",
      "동물병원 이름 : [': 사인아이안과동물병원']\n",
      "동물병원 주소 : ['서울특별시  승파구 오금로 147 1']\n",
      "진료명 : ['초진진잘료', '안과   시각검사 (menace, dazzle)', '안과눈물량검 사 (schirmer tear test)', '안과 안압검사 Tonovet', '안과형광영 색검사(Fluorescein dve)', '안과 PLR, Retinographic(CPLR)', '검사 - 초음파   안구초음파', '안과 table slit 테이블쓸렉(산동전)', '안약 후고속 (FucoSol)', '안연고-리포직 (인공누액)', '층 사인아이안과동물병원 (방이동 108-7)']\n",
      "진료비 : ['11,000', '11,000', '10,000', '20,000', '15,000', '44,000', '55,000', '88,000', '24,000', '11,000']\n",
      "진료일 : ['발 행 일 2023년 4월 11일 오전 11.06:06']\n",
      "====================================================\n",
      "종료시간 기록 : 1722236761.2225332\n",
      "소요시간: 145.49684715270996 sec\n",
      "총 50개의 영수증 이미지 평균 검출 시간 : 2.9099369430541993 sec\n"
     ]
    }
   ],
   "source": [
    "import cv2\n",
    "import glob\n",
    "import time\n",
    "import math\n",
    "from ultralytics import YOLO\n",
    "import matplotlib.pyplot as plt\n",
    "from easyocr import Reader\n",
    "import numpy as np\n",
    "from PIL import ImageFont, ImageDraw, Image\n",
    "\n",
    "# 사전에 학습된 YOLOv8모델 호출\n",
    "print('YOLOv8-segmentation 모델 호출 중...')\n",
    "model = YOLO('../runs/segment/train10/weights/best.pt')\n",
    "\n",
    "# EasyOCR 모델 호출\n",
    "print('EasyOCR모델 호출중...')\n",
    "reader = Reader(lang_list=['en', 'ko'])\n",
    "\n",
    "# 사전에 학습된 카테고리 분류용 fasttext모델 호출\n",
    "print('카테고리 분류용 모델 호출중...')\n",
    "text_model = fasttext.load_model('./receipts_fasttext_240723')\n",
    "\n",
    "#대상 이미지 경로\n",
    "images = glob.glob('../img/*')\n",
    "print(f'{len(images)}장의 이미지 불러오는 중...')\n",
    "# img = '../img/IMG_2016.jpg'\n",
    "\n",
    "# 이미지에서 글자추출에 얼마나 걸리는지 계산용 시작시간 기록\n",
    "start = time.time()\n",
    "print('시작시간 기록:', start)\n",
    "\n",
    "for img in images:\n",
    "    # YOLOv8모델로 텍스트영역 골라내기\n",
    "    print('YOLOv8 모델로 필요한 텍스트영역 추출중...')\n",
    "    results = model.predict(img)\n",
    "    image= cv2.imread(img)\n",
    "\n",
    "    # 정리용 빈 리스트\n",
    "    vet_name = []\n",
    "    vet_address = []\n",
    "    treat_name = []\n",
    "    price = []\n",
    "    date = []\n",
    "    time_list = []\n",
    "\n",
    "\n",
    "    print('검출된 이미지에 EasyOCR모델 적용중...')\n",
    "    for i, box in enumerate(results[0].boxes):\n",
    "        x1, y1, x2, y2 = map(int, box.xyxy[0])  # Bounding Box 좌표 추출\n",
    "        cropped_img = image[y1:y2, x1:x2]  # 이미지 크롭\n",
    "        \n",
    "        # 1. 그레이스케일 변환\n",
    "        gray = cv2.cvtColor(cropped_img, cv2.COLOR_BGR2GRAY)\n",
    "\n",
    "        # img_result = reader.readtext(adjusted, batch_size=10000, detail=0)\n",
    "        img_result = reader.readtext(gray, batch_size=10000, detail=0, paragraph=True, y_ths = -0.001)\n",
    "        # img_result = reader.readtext(gray, batch_size=10000, detail=0, paragraph=True)\n",
    "        print('검출 결과:',img_result)\n",
    "\n",
    "\n",
    "        for result in img_result:\n",
    "            category = text_model.predict(seperate(result))[0][0]\n",
    "            if 'price' in category:\n",
    "                price.append(result)\n",
    "        \n",
    "            # elif result.find('소재지') > 0:\n",
    "            elif '소재지' in result:\n",
    "                vet_address.append(result.split('소재지')[1].strip())\n",
    "            \n",
    "            # elif result.find('명') > 0 and result.find(':') > 0:\n",
    "            elif '명 :' in result or '명 ' in result:\n",
    "                vet_name.append(result.split('명 ')[1].strip())\n",
    "        \n",
    "            # elif result.find('발') > 0 and result.find('행') > 0:\n",
    "            elif ('발' in result) and ('행' in result):\n",
    "                date.append(result)\n",
    "\n",
    "            elif (len(result) > 1) and (('사업자' not in result) and (':' not in result)):\n",
    "                treat_name.append(result)\n",
    "        # for result in img_result:\n",
    "        #     if len(result) > 1 and (('번' not in result) and ('호' not in result)):\n",
    "        #         category = text_model.predict(seperate(result))[0][0]\n",
    "        #         if 'price' in category:\n",
    "        #             price.append(result)\n",
    "        #         elif 'treat_name' in category:\n",
    "        #             treat_name.append(result)\n",
    "        #         elif 'vet_name' in category:\n",
    "        #             vet_name.append(result)\n",
    "        #         elif 'vet_address' in category:\n",
    "        #             vet_address.append(result)\n",
    "        #         elif 'date' in category:\n",
    "        #             date.append(result)\n",
    "\n",
    "        #         print(result, ': ', category)\n",
    "        \n",
    "\n",
    "        \n",
    "        # 5. 크롭된 이미지 저장\n",
    "        # cv2.imwrite(f\"cropped_image_{i}.jpg\", cropped_img)\n",
    "    print('결과물 모두 출력 >> ')\n",
    "    print('동물병원 이름 :',vet_name)\n",
    "    print('동물병원 주소 :',vet_address)\n",
    "    print('진료명 :',treat_name)\n",
    "    print('진료비 :',price)\n",
    "    print('진료일 :',date)\n",
    "    print('====================================================')\n",
    "\n",
    "end = time.time()\n",
    "# time_list.append(end-start)\n",
    "print('종료시간 기록 :', end)\n",
    "\n",
    "# cv2.imshow('Image', res_plot)\n",
    "# cv2.waitKey(0)\n",
    "\n",
    "\n",
    "print('소요시간:', f'{end - start} sec')\n",
    "# cv2.destroyAllWindows()\n",
    "# print(f'총 {len(images)}개의 영수증 이미지 평균 검출 시간 : {sum(time_list)/len(time_list)} sec')\n",
    "print(f'총 {len(images)}개의 영수증 이미지 평균 검출 시간 : {(end - start) / len(images)} sec')"
   ]
  },
  {
   "cell_type": "code",
   "execution_count": 59,
   "metadata": {},
   "outputs": [
    {
     "data": {
      "text/plain": [
       "(('__label__2.vet_address',), array([    0.52476]))"
      ]
     },
     "execution_count": 59,
     "metadata": {},
     "output_type": "execute_result"
    }
   ],
   "source": [
    "text_model.predict(seperate('진료비-평일 (1Okg미만)'))"
   ]
  },
  {
   "cell_type": "code",
   "execution_count": null,
   "metadata": {},
   "outputs": [],
   "source": [
    "import json\n",
    "\n",
    "with open('./answer.json') as f:\n",
    "    js = json.loads(f.read())\n",
    "\n",
    "df = pd.DataFrame(js)\n",
    "treats = []\n",
    "prices = []\n",
    "\n",
    "for receipt in js:\n",
    "    name = receipt['동물병원 이름']\n",
    "    address = receipt['동물병원 주소']\n",
    "    date = receipt['발행일']\n",
    "    for item in receipt['진료내역']:\n",
    "        # print(item.keys())\n",
    "        # print(item[\"진료명\"])\n",
    "        print(item['금액'])\n",
    "        treats.append(item[\"진료명\"])\n",
    "        prices.append(item[\"금액\"])\n",
    "    # record = {\n",
    "    #     '병원 이름':name,\n",
    "    #     '병원 주소':address,\n",
    "    #     '발행일':date,\n",
    "    #     '진료내역':treats\n",
    "    # }\n",
    "    # records.append(record)\n",
    "treats.append('카테터')\n",
    "prices.append('5,500')\n",
    "# df = pd.DataFrame(records)\n",
    "# df['진료내역'].head()\n",
    "# print(treats)\n",
    "# print(prices)"
   ]
  },
  {
   "cell_type": "code",
   "execution_count": 2,
   "metadata": {},
   "outputs": [
    {
     "data": {
      "text/plain": [
       "['../img/paddle_test.jpeg',\n",
       " '../img/ocr_blue_blur.jpeg',\n",
       " '../img/ocr_dora.jpeg',\n",
       " '../img/ocr_test.jpeg',\n",
       " '../img/ocr_scanner.jpeg',\n",
       " '../img/ocr_charcter.png',\n",
       " '../img/ocr_pre.jpg',\n",
       " '../img/ocr_messy.jpeg',\n",
       " '../img/ocr_test_img.jpeg']"
      ]
     },
     "execution_count": 2,
     "metadata": {},
     "output_type": "execute_result"
    }
   ],
   "source": [
    "\n",
    "images = glob.glob('../img/*')\n",
    "\n",
    "images"
   ]
  }
 ],
 "metadata": {
  "kernelspec": {
   "display_name": ".venv",
   "language": "python",
   "name": "python3"
  },
  "language_info": {
   "codemirror_mode": {
    "name": "ipython",
    "version": 3
   },
   "file_extension": ".py",
   "mimetype": "text/x-python",
   "name": "python",
   "nbconvert_exporter": "python",
   "pygments_lexer": "ipython3",
   "version": "3.9.6"
  }
 },
 "nbformat": 4,
 "nbformat_minor": 2
}
